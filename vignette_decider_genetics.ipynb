{
 "cells": [
  {
   "cell_type": "markdown",
   "id": "759f7b83",
   "metadata": {},
   "source": [
    "# OntoWeaver Vignette"
   ]
  },
  {
   "cell_type": "markdown",
   "id": "dd828e91",
   "metadata": {},
   "source": [
    "## Set-up"
   ]
  },
  {
   "cell_type": "markdown",
   "id": "ff2c5b06",
   "metadata": {},
   "source": [
    "### Installing dependencies"
   ]
  },
  {
   "cell_type": "code",
   "execution_count": 2,
   "id": "005b2b41",
   "metadata": {},
   "outputs": [
    {
     "name": "stdout",
     "output_type": "stream",
     "text": [
      "\u001b[34mInstalling dependencies from lock file\u001b[39m\n",
      "\n",
      "No dependencies to install or update\n",
      "\n",
      "\u001b[39;1mInstalling\u001b[39;22m the current project: \u001b[36mdecider-genetics\u001b[39m (\u001b[39;1m0.0.1\u001b[39;22m)\u001b[1G\u001b[2K\u001b[39;1mInstalling\u001b[39;22m the current project: \u001b[36mdecider-genetics\u001b[39m (\u001b[32m0.0.1\u001b[39m)\n"
     ]
    }
   ],
   "source": [
    "! poetry install"
   ]
  },
  {
   "cell_type": "markdown",
   "id": "58e75d71",
   "metadata": {},
   "source": [
    "So far, ontoweaver package works under python 3.12 version. If you have multiple python versions installed you can direct *poetry* to use the correct one with the following command:\n",
    "`! poetry env use $(which python3.12)`"
   ]
  },
  {
   "cell_type": "markdown",
   "id": "8efccb63",
   "metadata": {},
   "source": [
    "### Starting the *poetry* environment"
   ]
  },
  {
   "cell_type": "code",
   "execution_count": 23,
   "id": "dde7127a",
   "metadata": {},
   "outputs": [
    {
     "name": "stdout",
     "output_type": "stream",
     "text": [
      "\n",
      "The command \"env\" does not exist.\n",
      "\n",
      "Did you mean one of these?\n",
      "    env use\n",
      "    env info\n",
      "    env list\n",
      "    env remove\n",
      "\n",
      "\u001b[39;1mVirtualenv\u001b[39;22m\n",
      "\u001b[34mPython\u001b[39m:         \u001b[32m3.12.8\u001b[39m\n",
      "\u001b[34mImplementation\u001b[39m: \u001b[32mCPython\u001b[39m\n",
      "\u001b[34mPath\u001b[39m:           \u001b[32m/Users/mnajm/Library/Caches/pypoetry/virtualenvs/decider-genetics-fwdvB9mx-py3.12\u001b[39m\n",
      "\u001b[34mExecutable\u001b[39m:     \u001b[32m/Users/mnajm/Library/Caches/pypoetry/virtualenvs/decider-genetics-fwdvB9mx-py3.12/bin/python\u001b[39m\n",
      "\u001b[34mValid\u001b[39m:          \u001b[32mTrue\u001b[39m\n",
      "\n",
      "\u001b[39;1mBase\u001b[39;22m\n",
      "\u001b[34mPlatform\u001b[39m:   \u001b[32mdarwin\u001b[39m\n",
      "\u001b[34mOS\u001b[39m:         \u001b[32mposix\u001b[39m\n",
      "\u001b[34mPython\u001b[39m:     \u001b[32m3.12.8\u001b[39m\n",
      "\u001b[34mPath\u001b[39m:       \u001b[32m/opt/homebrew/opt/python@3.12/Frameworks/Python.framework/Versions/3.12\u001b[39m\n",
      "\u001b[34mExecutable\u001b[39m: \u001b[32m/opt/homebrew/opt/python@3.12/Frameworks/Python.framework/Versions/3.12/bin/python3.12\u001b[39m\n"
     ]
    }
   ],
   "source": [
    "! eval $(poetry env activate) # new implementation of `poetry shell`\n",
    "! poetry env info"
   ]
  },
  {
   "cell_type": "code",
   "execution_count": 14,
   "id": "09d8c6cc",
   "metadata": {},
   "outputs": [
    {
     "name": "stdout",
     "output_type": "stream",
     "text": [
      "/Users/mnajm/Documents/DECIDER/Code/decider-genetics\n",
      "/Users/mnajm/Library/Caches/pypoetry/virtualenvs/decider-genetics-fwdvB9mx-py3.12/bin/python\n"
     ]
    }
   ],
   "source": [
    "! pwd\n",
    "! which python"
   ]
  },
  {
   "cell_type": "code",
   "execution_count": 15,
   "id": "0558d1a7",
   "metadata": {},
   "outputs": [
    {
     "name": "stdout",
     "output_type": "stream",
     "text": [
      "LICENSE                   create_knowledge_graph.py poetry.lock\n",
      "README.md                 \u001b[1m\u001b[36mdata\u001b[m\u001b[m                      pyproject.toml\n",
      "\u001b[1m\u001b[36mbiocypher-log\u001b[m\u001b[m             \u001b[1m\u001b[36mdecider_genetics\u001b[m\u001b[m          vignette.ipynb\n",
      "\u001b[1m\u001b[36mbiocypher-out\u001b[m\u001b[m             \u001b[1m\u001b[36mfigures\u001b[m\u001b[m\n",
      "\u001b[1m\u001b[36mconfig\u001b[m\u001b[m                    import.report\n",
      "\u001b[34mAll set!\u001b[39m\n"
     ]
    }
   ],
   "source": [
    "! ls\n",
    "! poetry check"
   ]
  },
  {
   "cell_type": "code",
   "execution_count": 16,
   "id": "0f76c0ed",
   "metadata": {},
   "outputs": [
    {
     "name": "stdout",
     "output_type": "stream",
     "text": [
      "\u001b[36malabaster                    \u001b[39m \u001b[39;1m1.0.0      \u001b[39;22m A light, configurable Sphinx theme\n",
      "\u001b[36mannotated-types              \u001b[39m \u001b[39;1m0.7.0      \u001b[39;22m Reusable constraint types to use ...\n",
      "\u001b[36mappdirs                      \u001b[39m \u001b[39;1m1.4.4      \u001b[39;22m A small Python module for determi...\n",
      "\u001b[36mappnope                      \u001b[39m \u001b[39;1m0.1.4      \u001b[39;22m Disable App Nap on macOS >= 10.9\n",
      "\u001b[36masttokens                    \u001b[39m \u001b[39;1m3.0.0      \u001b[39;22m Annotate AST trees with source co...\n",
      "\u001b[36mattrs                        \u001b[39m \u001b[39;1m25.3.0     \u001b[39;22m Classes Without Boilerplate\n",
      "\u001b[36mbabel                        \u001b[39m \u001b[39;1m2.17.0     \u001b[39;22m Internationalization utilities\n",
      "\u001b[36mbiocypher                    \u001b[39m \u001b[39;1m0.9.6      \u001b[39;22m A unifying framework for biomedic...\n",
      "\u001b[36mblack                        \u001b[39m \u001b[39;1m25.1.0     \u001b[39;22m The uncompromising code formatter.\n",
      "\u001b[36mcertifi                      \u001b[39m \u001b[39;1m2025.4.26  \u001b[39;22m Python package for providing Mozi...\n",
      "\u001b[36mchardet                      \u001b[39m \u001b[39;1m5.2.0      \u001b[39;22m Universal encoding detector for P...\n",
      "\u001b[36mcharset-normalizer           \u001b[39m \u001b[39;1m3.4.2      \u001b[39;22m The Real First Universal Charset ...\n",
      "\u001b[36mclick                        \u001b[39m \u001b[39;1m8.2.1      \u001b[39;22m Composable command line interface...\n",
      "\u001b[36mcolorlog                     \u001b[39m \u001b[39;1m6.9.0      \u001b[39;22m Add colours to the output of Pyth...\n",
      "\u001b[36mcomm                         \u001b[39m \u001b[39;1m0.2.2      \u001b[39;22m Jupyter Python Comm implementatio...\n",
      "\u001b[36mcontourpy                    \u001b[39m \u001b[39;1m1.3.2      \u001b[39;22m Python library for calculating co...\n",
      "\u001b[36mcycler                       \u001b[39m \u001b[39;1m0.12.1     \u001b[39;22m Composable style cycles\n",
      "\u001b[36mdebugpy                      \u001b[39m \u001b[39;1m1.8.14     \u001b[39;22m An implementation of the Debug Ad...\n",
      "\u001b[36mdecorator                    \u001b[39m \u001b[39;1m5.2.1      \u001b[39;22m Decorators for Humans\n",
      "\u001b[36mdocutils                     \u001b[39m \u001b[39;1m0.21.2     \u001b[39;22m Docutils -- Python Documentation ...\n",
      "\u001b[36mexecuting                    \u001b[39m \u001b[39;1m2.2.0      \u001b[39;22m Get the currently executing AST n...\n",
      "\u001b[36mfonttools                    \u001b[39m \u001b[39;1m4.58.1     \u001b[39;22m Tools to manipulate font files\n",
      "\u001b[36mfrictionless                 \u001b[39m \u001b[39;1m4.40.8     \u001b[39;22m Data management framework for Pyt...\n",
      "\u001b[36midna                         \u001b[39m \u001b[39;1m3.10       \u001b[39;22m Internationalized Domain Names in...\n",
      "\u001b[36mimagesize                    \u001b[39m \u001b[39;1m1.4.1      \u001b[39;22m Getting image size from png/jpeg/...\n",
      "\u001b[36miniconfig                    \u001b[39m \u001b[39;1m2.1.0      \u001b[39;22m brain-dead simple config-ini parsing\n",
      "\u001b[36mipykernel                    \u001b[39m \u001b[39;1m6.29.5     \u001b[39;22m IPython Kernel for Jupyter\n",
      "\u001b[36mipython                      \u001b[39m \u001b[39;1m9.3.0      \u001b[39;22m IPython: Productive Interactive C...\n",
      "\u001b[36mipython-pygments-lexers      \u001b[39m \u001b[39;1m1.1.1      \u001b[39;22m Defines a variety of Pygments lex...\n",
      "\u001b[36misodate                      \u001b[39m \u001b[39;1m0.6.1      \u001b[39;22m An ISO 8601 date/time/duration pa...\n",
      "\u001b[36mjedi                         \u001b[39m \u001b[39;1m0.19.2     \u001b[39;22m An autocompletion tool for Python...\n",
      "\u001b[36mjinja2                       \u001b[39m \u001b[39;1m3.1.6      \u001b[39;22m A very fast and expressive templa...\n",
      "\u001b[36mjsonargparse                 \u001b[39m \u001b[39;1m4.40.0     \u001b[39;22m Implement minimal boilerplate CLI...\n",
      "\u001b[36mjsonschema                   \u001b[39m \u001b[39;1m4.24.0     \u001b[39;22m An implementation of JSON Schema ...\n",
      "\u001b[36mjsonschema-specifications    \u001b[39m \u001b[39;1m2025.4.1   \u001b[39;22m The JSON Schema meta-schemas and ...\n",
      "\u001b[36mjupyter-client               \u001b[39m \u001b[39;1m8.6.3      \u001b[39;22m Jupyter protocol implementation a...\n",
      "\u001b[36mjupyter-core                 \u001b[39m \u001b[39;1m5.8.1      \u001b[39;22m Jupyter core package. A base pack...\n",
      "\u001b[36mkiwisolver                   \u001b[39m \u001b[39;1m1.4.8      \u001b[39;22m A fast implementation of the Cass...\n",
      "\u001b[36mmarkdown-it-py               \u001b[39m \u001b[39;1m3.0.0      \u001b[39;22m Python port of markdown-it. Markd...\n",
      "\u001b[36mmarko                        \u001b[39m \u001b[39;1m2.1.3      \u001b[39;22m A markdown parser with high exten...\n",
      "\u001b[36mmarkupsafe                   \u001b[39m \u001b[39;1m3.0.2      \u001b[39;22m Safely add untrusted strings to H...\n",
      "\u001b[36mmatplotlib                   \u001b[39m \u001b[39;1m3.10.3     \u001b[39;22m Python plotting package\n",
      "\u001b[36mmatplotlib-inline            \u001b[39m \u001b[39;1m0.1.7      \u001b[39;22m Inline Matplotlib backend for Jup...\n",
      "\u001b[36mmdurl                        \u001b[39m \u001b[39;1m0.1.2      \u001b[39;22m Markdown URL utilities\n",
      "\u001b[36mmore-itertools               \u001b[39m \u001b[39;1m10.7.0     \u001b[39;22m More routines for operating on it...\n",
      "\u001b[36mmypy-extensions              \u001b[39m \u001b[39;1m1.1.0      \u001b[39;22m Type system extensions for progra...\n",
      "\u001b[36mneo4j                        \u001b[39m \u001b[39;1m4.4.12     \u001b[39;22m Neo4j Bolt driver for Python\n",
      "\u001b[36mneo4j-utils                  \u001b[39m \u001b[39;1m0.0.7      \u001b[39;22m \n",
      "\u001b[36mnest-asyncio                 \u001b[39m \u001b[39;1m1.6.0      \u001b[39;22m Patch asyncio to allow nested eve...\n",
      "\u001b[36mnetworkx                     \u001b[39m \u001b[39;1m3.5        \u001b[39;22m Python package for creating and m...\n",
      "\u001b[36mnumpy                        \u001b[39m \u001b[39;1m2.2.6      \u001b[39;22m Fundamental package for array com...\n",
      "\u001b[36montoweaver                   \u001b[39m \u001b[39;1m0.2.3      \u001b[39;22m Exports from tables to Semantic K...\n",
      "\u001b[36mowlready2                    \u001b[39m \u001b[39;1m0.47       \u001b[39;22m A package for ontology-oriented p...\n",
      "\u001b[36mpackaging                    \u001b[39m \u001b[39;1m25.0       \u001b[39;22m Core utilities for Python packages\n",
      "\u001b[36mpandas                       \u001b[39m \u001b[39;1m2.3.0      \u001b[39;22m Powerful data structures for data...\n",
      "\u001b[36mpandera                      \u001b[39m \u001b[39;1m0.23.1     \u001b[39;22m A light-weight and flexible data ...\n",
      "\u001b[36mparso                        \u001b[39m \u001b[39;1m0.8.4      \u001b[39;22m A Python Parser\n",
      "\u001b[36mpathspec                     \u001b[39m \u001b[39;1m0.12.1     \u001b[39;22m Utility library for gitignore sty...\n",
      "\u001b[36mpetl                         \u001b[39m \u001b[39;1m1.7.16     \u001b[39;22m A Python package for extracting, ...\n",
      "\u001b[36mpexpect                      \u001b[39m \u001b[39;1m4.9.0      \u001b[39;22m Pexpect allows easy control of in...\n",
      "\u001b[36mpillow                       \u001b[39m \u001b[39;1m11.2.1     \u001b[39;22m Python Imaging Library (Fork)\n",
      "\u001b[36mplatformdirs                 \u001b[39m \u001b[39;1m4.3.8      \u001b[39;22m A small Python package for determ...\n",
      "\u001b[36mpluggy                       \u001b[39m \u001b[39;1m1.6.0      \u001b[39;22m plugin and hook calling mechanism...\n",
      "\u001b[36mpolars                       \u001b[39m \u001b[39;1m1.30.0     \u001b[39;22m Blazingly fast DataFrame library\n",
      "\u001b[36mpooch                        \u001b[39m \u001b[39;1m1.8.2      \u001b[39;22m A friend to fetch your data files\n",
      "\u001b[36mprompt-toolkit               \u001b[39m \u001b[39;1m3.0.51     \u001b[39;22m Library for building powerful int...\n",
      "\u001b[36mpsutil                       \u001b[39m \u001b[39;1m7.0.0      \u001b[39;22m Cross-platform lib for process an...\n",
      "\u001b[36mptyprocess                   \u001b[39m \u001b[39;1m0.7.0      \u001b[39;22m Run a subprocess in a pseudo term...\n",
      "\u001b[36mpure-eval                    \u001b[39m \u001b[39;1m0.2.3      \u001b[39;22m Safely evaluate AST nodes without...\n",
      "\u001b[36mpyarrow                      \u001b[39m \u001b[39;1m19.0.1     \u001b[39;22m Python library for Apache Arrow\n",
      "\u001b[36mpydantic                     \u001b[39m \u001b[39;1m2.11.5     \u001b[39;22m Data validation using Python type...\n",
      "\u001b[36mpydantic-core                \u001b[39m \u001b[39;1m2.33.2     \u001b[39;22m Core functionality for Pydantic v...\n",
      "\u001b[36mpygments                     \u001b[39m \u001b[39;1m2.19.1     \u001b[39;22m Pygments is a syntax highlighting...\n",
      "\u001b[36mpyparsing                    \u001b[39m \u001b[39;1m3.2.3      \u001b[39;22m pyparsing module - Classes and me...\n",
      "\u001b[36mpytest                       \u001b[39m \u001b[39;1m8.4.0      \u001b[39;22m pytest: simple powerful testing w...\n",
      "\u001b[36mpython-dateutil              \u001b[39m \u001b[39;1m2.9.0.post0\u001b[39;22m Extensions to the standard Python...\n",
      "\u001b[36mpython-slugify               \u001b[39m \u001b[39;1m8.0.4      \u001b[39;22m A Python slugify application that...\n",
      "\u001b[36mpytz                         \u001b[39m \u001b[39;1m2025.2     \u001b[39;22m World timezone definitions, moder...\n",
      "\u001b[36mpyyaml                       \u001b[39m \u001b[39;1m6.0.2      \u001b[39;22m YAML parser and emitter for Python\n",
      "\u001b[36mpyzmq                        \u001b[39m \u001b[39;1m26.4.0     \u001b[39;22m Python bindings for 0MQ\n",
      "\u001b[36mrdflib                       \u001b[39m \u001b[39;1m6.3.2      \u001b[39;22m RDFLib is a Python library for wo...\n",
      "\u001b[36mreferencing                  \u001b[39m \u001b[39;1m0.36.2     \u001b[39;22m JSON Referencing + Python\n",
      "\u001b[36mrequests                     \u001b[39m \u001b[39;1m2.32.3     \u001b[39;22m Python HTTP for Humans.\n",
      "\u001b[36mrfc3986                      \u001b[39m \u001b[39;1m2.0.0      \u001b[39;22m Validating URI References per RFC...\n",
      "\u001b[36mrich                         \u001b[39m \u001b[39;1m14.0.0     \u001b[39;22m Render rich text, tables, progres...\n",
      "\u001b[36mroman-numerals-py            \u001b[39m \u001b[39;1m3.1.0      \u001b[39;22m Manipulate well-formed Roman nume...\n",
      "\u001b[36mrpds-py                      \u001b[39m \u001b[39;1m0.25.1     \u001b[39;22m Python bindings to Rust's persist...\n",
      "\u001b[36mseaborn                      \u001b[39m \u001b[39;1m0.13.2     \u001b[39;22m Statistical data visualization\n",
      "\u001b[36mshellingham                  \u001b[39m \u001b[39;1m1.5.4      \u001b[39;22m Tool to Detect Surrounding Shell\n",
      "\u001b[36msimpleeval                   \u001b[39m \u001b[39;1m1.0.3      \u001b[39;22m A simple, safe single expression ...\n",
      "\u001b[36msix                          \u001b[39m \u001b[39;1m1.17.0     \u001b[39;22m Python 2 and 3 compatibility util...\n",
      "\u001b[36msnowballstemmer              \u001b[39m \u001b[39;1m3.0.1      \u001b[39;22m This package provides 32 stemmers...\n",
      "\u001b[36msphinx                       \u001b[39m \u001b[39;1m8.2.3      \u001b[39;22m Python documentation generator\n",
      "\u001b[36msphinx-rtd-theme             \u001b[39m \u001b[39;1m3.0.2      \u001b[39;22m Read the Docs theme for Sphinx\n",
      "\u001b[36msphinxcontrib-applehelp      \u001b[39m \u001b[39;1m2.0.0      \u001b[39;22m sphinxcontrib-applehelp is a Sphi...\n",
      "\u001b[36msphinxcontrib-devhelp        \u001b[39m \u001b[39;1m2.0.0      \u001b[39;22m sphinxcontrib-devhelp is a sphinx...\n",
      "\u001b[36msphinxcontrib-htmlhelp       \u001b[39m \u001b[39;1m2.1.0      \u001b[39;22m sphinxcontrib-htmlhelp is a sphin...\n",
      "\u001b[36msphinxcontrib-jquery         \u001b[39m \u001b[39;1m4.1        \u001b[39;22m Extension to include jQuery on ne...\n",
      "\u001b[36msphinxcontrib-jsmath         \u001b[39m \u001b[39;1m1.0.1      \u001b[39;22m A sphinx extension which renders ...\n",
      "\u001b[36msphinxcontrib-qthelp         \u001b[39m \u001b[39;1m2.0.0      \u001b[39;22m sphinxcontrib-qthelp is a sphinx ...\n",
      "\u001b[36msphinxcontrib-serializinghtml\u001b[39m \u001b[39;1m2.0.0      \u001b[39;22m sphinxcontrib-serializinghtml is ...\n",
      "\u001b[36mstack-data                   \u001b[39m \u001b[39;1m0.6.3      \u001b[39;22m Extract data from python stack fr...\n",
      "\u001b[36mstringcase                   \u001b[39m \u001b[39;1m1.2.0      \u001b[39;22m String case converter.\n",
      "\u001b[36mtabulate                     \u001b[39m \u001b[39;1m0.9.0      \u001b[39;22m Pretty-print tabular data\n",
      "\u001b[36mtext-unidecode               \u001b[39m \u001b[39;1m1.3        \u001b[39;22m The most basic Text::Unidecode port\n",
      "\u001b[36mtoml                         \u001b[39m \u001b[39;1m0.10.2     \u001b[39;22m Python Library for Tom's Obvious,...\n",
      "\u001b[36mtornado                      \u001b[39m \u001b[39;1m6.5.1      \u001b[39;22m Tornado is a Python web framework...\n",
      "\u001b[36mtqdm                         \u001b[39m \u001b[39;1m4.67.1     \u001b[39;22m Fast, Extensible Progress Meter\n",
      "\u001b[36mtraitlets                    \u001b[39m \u001b[39;1m5.14.3     \u001b[39;22m Traitlets Python configuration sy...\n",
      "\u001b[36mtreelib                      \u001b[39m \u001b[39;1m1.6.4      \u001b[39;22m A Python 2/3 implementation of tr...\n",
      "\u001b[36mtypeguard                    \u001b[39m \u001b[39;1m4.4.3      \u001b[39;22m Run-time type checker for Python\n",
      "\u001b[36mtyper                        \u001b[39m \u001b[39;1m0.16.0     \u001b[39;22m Typer, build great CLIs. Easy to ...\n",
      "\u001b[36mtyping-extensions            \u001b[39m \u001b[39;1m4.14.0     \u001b[39;22m Backported and Experimental Type ...\n",
      "\u001b[36mtyping-inspect               \u001b[39m \u001b[39;1m0.9.0      \u001b[39;22m Runtime inspection utilities for ...\n",
      "\u001b[36mtyping-inspection            \u001b[39m \u001b[39;1m0.4.1      \u001b[39;22m Runtime typing introspection tools\n",
      "\u001b[36mtzdata                       \u001b[39m \u001b[39;1m2025.2     \u001b[39;22m Provider of IANA time zone data\n",
      "\u001b[36murllib3                      \u001b[39m \u001b[39;1m2.4.0      \u001b[39;22m HTTP library with thread-safe con...\n",
      "\u001b[36mvalidators                   \u001b[39m \u001b[39;1m0.35.0     \u001b[39;22m Python Data Validation for Humans™\n",
      "\u001b[36mwcwidth                      \u001b[39m \u001b[39;1m0.2.13     \u001b[39;22m Measures the displayed width of u...\n",
      "\u001b[36mxdg-base-dirs                \u001b[39m \u001b[39;1m6.0.2      \u001b[39;22m Variables defined by the XDG Base...\n"
     ]
    }
   ],
   "source": [
    "! poetry show"
   ]
  },
  {
   "cell_type": "code",
   "execution_count": 17,
   "id": "f64f6094",
   "metadata": {},
   "outputs": [
    {
     "name": "stdout",
     "output_type": "stream",
     "text": [
      "\u001b[1m\u001b[36m__pycache__\u001b[m\u001b[m\n",
      "my_mapping_1_variants.yaml\n",
      "my_mapping_1_variants_solve_inverse_property_patients.yaml\n",
      "my_mapping_1_variants_solve_inverse_property_variants.yaml\n",
      "my_mapping_2_clinical.yaml\n",
      "my_mapping_2_variants.yaml\n",
      "my_mapping_3_clinical.yaml\n",
      "my_mapping_3_cna.yaml\n",
      "my_mapping_3_variants.yaml\n",
      "\n",
      "decider_genetics/adapters//__pycache__:\n",
      "all_variants_adapter.cpython-312.pyc\n",
      "clinical_adapter.cpython-312.pyc\n",
      "cn_genes_adapter.cpython-312.pyc\n",
      "oncokb_adapter.cpython-312.pyc\n",
      "pandas_adapter.cpython-312.pyc\n",
      "preprocessing_dataframes.cpython-310.pyc\n",
      "preprocessing_dataframes.cpython-312.pyc\n",
      "preprocessing_variants.cpython-310.pyc\n",
      "preprocessing_variants.cpython-312.pyc\n"
     ]
    }
   ],
   "source": [
    "# mapping files\n",
    "! ls -R decider_genetics/adapters/"
   ]
  },
  {
   "cell_type": "code",
   "execution_count": 18,
   "id": "457d7502-9c77-4dfa-b3fc-b51fa928932b",
   "metadata": {},
   "outputs": [
    {
     "name": "stdout",
     "output_type": "stream",
     "text": [
      "/Users/mnajm/Library/Caches/pypoetry/virtualenvs/decider-genetics-fwdvB9mx-py3.12/bin/python\n",
      "/Users/mnajm/Library/Caches/pypoetry/virtualenvs/decider-genetics-fwdvB9mx-py3.12/bin/python\n"
     ]
    }
   ],
   "source": [
    "import sys\n",
    "print(sys.executable)\n",
    "! which python\n",
    "#sys.path.append(\"/Users/equaglio/Decider/Ontoweaver/src\")"
   ]
  },
  {
   "cell_type": "code",
   "execution_count": 19,
   "id": "57fa595c-bc29-459a-9ffa-b3c4646e724b",
   "metadata": {},
   "outputs": [
    {
     "name": "stdout",
     "output_type": "stream",
     "text": [
      "The following packages are already present in the pyproject.toml and will be skipped:\n",
      "\n",
      "  - \u001b[36mipykernel\u001b[39m\n",
      "\n",
      "If you want to update it to the latest compatible version, you can use `poetry update package`.\n",
      "If you prefer to upgrade it to the latest available version, you can use `poetry add package@latest`.\n",
      "\n",
      "Nothing to add.\n"
     ]
    }
   ],
   "source": [
    "! poetry add ipykernel # package for using poetry with jupyter notebook"
   ]
  },
  {
   "cell_type": "markdown",
   "id": "2e7deb0e-894a-41be-8ba2-496cc3b4fba1",
   "metadata": {},
   "source": [
    "To point the kernel of the notebook to the poetry environment activated:"
   ]
  },
  {
   "cell_type": "code",
   "execution_count": 20,
   "id": "e4f06018-4478-4842-a7d7-a1fb857d9b84",
   "metadata": {},
   "outputs": [
    {
     "name": "stdout",
     "output_type": "stream",
     "text": [
      "Installed kernelspec my-poetry-env in /Users/mnajm/Library/Jupyter/kernels/my-poetry-env\n"
     ]
    }
   ],
   "source": [
    " ! poetry run python -m ipykernel install --user --name=my-poetry-env --display-name \"decider genetics poetry env\""
   ]
  },
  {
   "cell_type": "markdown",
   "id": "8b7903f2-9407-4766-b246-645b83c53e56",
   "metadata": {},
   "source": [
    "### /<u>!</u>\\  Now change kernel and make sure to use \"decider genetics poetry env\" before running next cell"
   ]
  },
  {
   "cell_type": "code",
   "execution_count": 1,
   "id": "e818ac1a",
   "metadata": {},
   "outputs": [
    {
     "name": "stderr",
     "output_type": "stream",
     "text": [
      "INFO -- This is BioCypher v0.9.6.\n",
      "INFO -- Logging into `biocypher-log/biocypher-20250523-102846.log`.\n"
     ]
    }
   ],
   "source": [
    "import argparse\n",
    "import logging\n",
    "import pandas as pd\n",
    "import yaml\n",
    "from biocypher import BioCypher\n",
    "import ontoweaver"
   ]
  },
  {
   "cell_type": "markdown",
   "id": "6a3b9b31",
   "metadata": {},
   "source": [
    "## SKG construction"
   ]
  },
  {
   "cell_type": "markdown",
   "id": "36ce3371",
   "metadata": {},
   "source": [
    "We want to build a KG with the following schema:"
   ]
  },
  {
   "cell_type": "markdown",
   "id": "93709bc1-aa88-420a-aa20-4d1440648842",
   "metadata": {},
   "source": [
    "<a id='schema_graph_picture_1'></a>"
   ]
  },
  {
   "cell_type": "code",
   "execution_count": 2,
   "id": "e5cb86d8-d35a-4c29-a765-389ba9ae6302",
   "metadata": {},
   "outputs": [
    {
     "data": {
      "image/png": "[encoded data removed]",
      "text/plain": [
       "<IPython.core.display.Image object>"
      ]
     },
     "metadata": {
      "image/png": {
       "width": 200
      }
     },
     "output_type": "display_data"
    }
   ],
   "source": [
    "# ![Screenshot 2025-05-15 at 11.47.56.png](<attachment:Screenshot 2025-05-15 at 11.47.56.png>)\n",
    "from IPython.display import Image, display\n",
    "display(Image(\"Screenshot 2025-05-15 at 11.47.56.png\", width=200))"
   ]
  },
  {
   "cell_type": "code",
   "execution_count": 3,
   "id": "87b71308",
   "metadata": {},
   "outputs": [
    {
     "name": "stdout",
     "output_type": "stream",
     "text": [
      "\u001b[34moncodash files\u001b[m\u001b[m                         synthetic_cna.csv\n",
      "oncokb_biomarker_drug_associations.tsv synthetic_variants.csv\n",
      "synthetic_clinical.csv\n",
      "\n",
      "data/oncodash files:\n",
      "BiologicalProcess-part000.csv       GeneToBiologicalProcess-part000.csv\n"
     ]
    }
   ],
   "source": [
    "# tables in data/\n",
    "! ls -R data"
   ]
  },
  {
   "cell_type": "markdown",
   "id": "4a546c35",
   "metadata": {},
   "source": [
    "All entites required are present in the `synthetic_variants.csv` table:"
   ]
  },
  {
   "cell_type": "code",
   "execution_count": 4,
   "id": "0e6a0503",
   "metadata": {},
   "outputs": [
    {
     "data": {
      "text/html": [
       "<div>\n",
       "<style scoped>\n",
       "    .dataframe tbody tr th:only-of-type {\n",
       "        vertical-align: middle;\n",
       "    }\n",
       "\n",
       "    .dataframe tbody tr th {\n",
       "        vertical-align: top;\n",
       "    }\n",
       "\n",
       "    .dataframe thead th {\n",
       "        text-align: right;\n",
       "    }\n",
       "</style>\n",
       "<table border=\"1\" class=\"dataframe\">\n",
       "  <thead>\n",
       "    <tr style=\"text-align: right;\">\n",
       "      <th></th>\n",
       "      <th>patient</th>\n",
       "      <th>CHROM</th>\n",
       "      <th>POS</th>\n",
       "      <th>REF</th>\n",
       "      <th>ALT</th>\n",
       "      <th>ID</th>\n",
       "      <th>FILTER</th>\n",
       "      <th>cytoBand</th>\n",
       "      <th>Func.MANE</th>\n",
       "      <th>Gene.MANE</th>\n",
       "      <th>...</th>\n",
       "      <th>gnomAD_genome_FIN</th>\n",
       "      <th>gnomAD_genome_max</th>\n",
       "      <th>gnomAD_exome_nc_ALL</th>\n",
       "      <th>gnomAD_exome_nc_NFE</th>\n",
       "      <th>gnomAD_exome_nc_NFE_SWE</th>\n",
       "      <th>gnomAD_exome_nc_FIN</th>\n",
       "      <th>gnomAD_exome_nc_max</th>\n",
       "      <th>Truncal</th>\n",
       "      <th>readCounts</th>\n",
       "      <th>samples</th>\n",
       "    </tr>\n",
       "  </thead>\n",
       "  <tbody>\n",
       "    <tr>\n",
       "      <th>0</th>\n",
       "      <td>patient1</td>\n",
       "      <td>chr8</td>\n",
       "      <td>32660776</td>\n",
       "      <td>T</td>\n",
       "      <td>A</td>\n",
       "      <td>.</td>\n",
       "      <td>PASS</td>\n",
       "      <td>8p12</td>\n",
       "      <td>intronic</td>\n",
       "      <td>NRG1</td>\n",
       "      <td>...</td>\n",
       "      <td>.</td>\n",
       "      <td>.</td>\n",
       "      <td>.</td>\n",
       "      <td>.</td>\n",
       "      <td>.</td>\n",
       "      <td>.</td>\n",
       "      <td>.</td>\n",
       "      <td>heterogeneous</td>\n",
       "      <td>38,0;21,0;26,13;37,1</td>\n",
       "      <td>patient1_Per</td>\n",
       "    </tr>\n",
       "    <tr>\n",
       "      <th>1</th>\n",
       "      <td>patient1</td>\n",
       "      <td>chr20</td>\n",
       "      <td>40688333</td>\n",
       "      <td>G</td>\n",
       "      <td>C</td>\n",
       "      <td>.</td>\n",
       "      <td>PASS</td>\n",
       "      <td>20q12</td>\n",
       "      <td>exonic</td>\n",
       "      <td>MAFB</td>\n",
       "      <td>...</td>\n",
       "      <td>.</td>\n",
       "      <td>.</td>\n",
       "      <td>.</td>\n",
       "      <td>.</td>\n",
       "      <td>.</td>\n",
       "      <td>.</td>\n",
       "      <td>.</td>\n",
       "      <td>homogeneous</td>\n",
       "      <td>65,0;70,17;30,5;62,9;58,7</td>\n",
       "      <td>patient1_Lum;patient1_Per</td>\n",
       "    </tr>\n",
       "    <tr>\n",
       "      <th>2</th>\n",
       "      <td>patient1</td>\n",
       "      <td>chr2</td>\n",
       "      <td>197391056</td>\n",
       "      <td>CAGTAAA</td>\n",
       "      <td>C</td>\n",
       "      <td>.</td>\n",
       "      <td>PASS</td>\n",
       "      <td>2q33.1</td>\n",
       "      <td>UTR3</td>\n",
       "      <td>SF3B1</td>\n",
       "      <td>...</td>\n",
       "      <td>.</td>\n",
       "      <td>.</td>\n",
       "      <td>.</td>\n",
       "      <td>.</td>\n",
       "      <td>.</td>\n",
       "      <td>.</td>\n",
       "      <td>.</td>\n",
       "      <td>heterogeneous</td>\n",
       "      <td>30,0;29,17;77,0;60,0;44,0</td>\n",
       "      <td>patient1_Per;patient1_Ome</td>\n",
       "    </tr>\n",
       "    <tr>\n",
       "      <th>3</th>\n",
       "      <td>patient1</td>\n",
       "      <td>chrX</td>\n",
       "      <td>124089869</td>\n",
       "      <td>G</td>\n",
       "      <td>T</td>\n",
       "      <td>.</td>\n",
       "      <td>PASS</td>\n",
       "      <td>Xq25</td>\n",
       "      <td>intronic</td>\n",
       "      <td>STAG2</td>\n",
       "      <td>...</td>\n",
       "      <td>.</td>\n",
       "      <td>.</td>\n",
       "      <td>.</td>\n",
       "      <td>.</td>\n",
       "      <td>.</td>\n",
       "      <td>.</td>\n",
       "      <td>.</td>\n",
       "      <td>heterogeneous</td>\n",
       "      <td>34,0;33,0;45,0;22,3;28,7</td>\n",
       "      <td>patient1_Asc;patient1_Lum</td>\n",
       "    </tr>\n",
       "    <tr>\n",
       "      <th>4</th>\n",
       "      <td>patient1</td>\n",
       "      <td>chr6</td>\n",
       "      <td>151916206</td>\n",
       "      <td>G</td>\n",
       "      <td>A</td>\n",
       "      <td>rs977154062</td>\n",
       "      <td>PASS</td>\n",
       "      <td>6q25.1</td>\n",
       "      <td>intronic</td>\n",
       "      <td>ESR1</td>\n",
       "      <td>...</td>\n",
       "      <td>0</td>\n",
       "      <td>9.52064e-05</td>\n",
       "      <td>.</td>\n",
       "      <td>.</td>\n",
       "      <td>.</td>\n",
       "      <td>.</td>\n",
       "      <td>.</td>\n",
       "      <td>homogeneous</td>\n",
       "      <td>58,0;21,6</td>\n",
       "      <td>patient1_Lum;patient1_Asc;patient1_Per;patient...</td>\n",
       "    </tr>\n",
       "  </tbody>\n",
       "</table>\n",
       "<p>5 rows × 49 columns</p>\n",
       "</div>"
      ],
      "text/plain": [
       "    patient  CHROM        POS      REF ALT           ID FILTER cytoBand  \\\n",
       "0  patient1   chr8   32660776        T   A            .   PASS     8p12   \n",
       "1  patient1  chr20   40688333        G   C            .   PASS    20q12   \n",
       "2  patient1   chr2  197391056  CAGTAAA   C            .   PASS   2q33.1   \n",
       "3  patient1   chrX  124089869        G   T            .   PASS     Xq25   \n",
       "4  patient1   chr6  151916206        G   A  rs977154062   PASS   6q25.1   \n",
       "\n",
       "  Func.MANE Gene.MANE  ... gnomAD_genome_FIN gnomAD_genome_max  \\\n",
       "0  intronic      NRG1  ...                 .                 .   \n",
       "1    exonic      MAFB  ...                 .                 .   \n",
       "2      UTR3     SF3B1  ...                 .                 .   \n",
       "3  intronic     STAG2  ...                 .                 .   \n",
       "4  intronic      ESR1  ...                 0       9.52064e-05   \n",
       "\n",
       "  gnomAD_exome_nc_ALL gnomAD_exome_nc_NFE gnomAD_exome_nc_NFE_SWE  \\\n",
       "0                   .                   .                       .   \n",
       "1                   .                   .                       .   \n",
       "2                   .                   .                       .   \n",
       "3                   .                   .                       .   \n",
       "4                   .                   .                       .   \n",
       "\n",
       "  gnomAD_exome_nc_FIN gnomAD_exome_nc_max        Truncal  \\\n",
       "0                   .                   .  heterogeneous   \n",
       "1                   .                   .    homogeneous   \n",
       "2                   .                   .  heterogeneous   \n",
       "3                   .                   .  heterogeneous   \n",
       "4                   .                   .    homogeneous   \n",
       "\n",
       "                  readCounts  \\\n",
       "0       38,0;21,0;26,13;37,1   \n",
       "1  65,0;70,17;30,5;62,9;58,7   \n",
       "2  30,0;29,17;77,0;60,0;44,0   \n",
       "3   34,0;33,0;45,0;22,3;28,7   \n",
       "4                  58,0;21,6   \n",
       "\n",
       "                                             samples  \n",
       "0                                       patient1_Per  \n",
       "1                          patient1_Lum;patient1_Per  \n",
       "2                          patient1_Per;patient1_Ome  \n",
       "3                          patient1_Asc;patient1_Lum  \n",
       "4  patient1_Lum;patient1_Asc;patient1_Per;patient...  \n",
       "\n",
       "[5 rows x 49 columns]"
      ]
     },
     "execution_count": 4,
     "metadata": {},
     "output_type": "execute_result"
    }
   ],
   "source": [
    "variants_df=pd.read_table('data/synthetic_variants.csv')\n",
    "variants_df.head(n=5)"
   ]
  },
  {
   "cell_type": "code",
   "execution_count": 5,
   "id": "9c2c4d74",
   "metadata": {},
   "outputs": [
    {
     "data": {
      "text/plain": [
       "Index(['patient', 'CHROM', 'POS', 'REF', 'ALT', 'ID', 'FILTER', 'cytoBand',\n",
       "       'Func.MANE', 'Gene.MANE', 'GeneDetail.MANE', 'ExonicFunc.MANE',\n",
       "       'AAChange.MANE', 'Func.refGene', 'Gene.refGene', 'GeneDetail.refGene',\n",
       "       'ExonicFunc.refGene', 'AAChange.refGene', 'genomicSuperDups',\n",
       "       'dbscSNV_ADA_SCORE', 'dbscSNV_RF_SCORE', 'COSMIC_ID',\n",
       "       'COSMIC_OCCURRENCE', 'COSMIC_TOTAL_OCC', 'COSMIC_CONF_SOMA', 'CLNSIG',\n",
       "       'CLNSIGCONF', 'CLNDN', 'CLNREVSTAT', 'CLNALLELEID', 'CLNDISDB',\n",
       "       'Interpro_domain', 'regulomeDB', 'CADD_raw', 'CADD_phred', '1000G_ALL',\n",
       "       '1000G_EUR', 'gnomAD_genome_ALL', 'gnomAD_genome_NFE',\n",
       "       'gnomAD_genome_FIN', 'gnomAD_genome_max', 'gnomAD_exome_nc_ALL',\n",
       "       'gnomAD_exome_nc_NFE', 'gnomAD_exome_nc_NFE_SWE', 'gnomAD_exome_nc_FIN',\n",
       "       'gnomAD_exome_nc_max', 'Truncal', 'readCounts', 'samples'],\n",
       "      dtype='object')"
      ]
     },
     "execution_count": 5,
     "metadata": {},
     "output_type": "execute_result"
    }
   ],
   "source": [
    "variants_df.columns"
   ]
  },
  {
   "cell_type": "markdown",
   "id": "ce19cb74-d8d9-4df6-a7e9-3b539feaa1d5",
   "metadata": {},
   "source": [
    "### Here we show how to write a proper schema config:"
   ]
  },
  {
   "cell_type": "code",
   "execution_count": 6,
   "id": "7184c93b",
   "metadata": {},
   "outputs": [
    {
     "name": "stdout",
     "output_type": "stream",
     "text": [
      "\n",
      "sequence variant: # The type in Biolink\n",
      "    represented_as: node\n",
      "    label_in_input: SequenceVariant\n",
      "\n",
      "# Another node type (e.g. of a column of the table).\n",
      "patient: # Existing in Biolink under another name.\n",
      "    represented_as: node\n",
      "    label_in_input: Patient\n",
      "    synonym_for: case # Actual name in Biolink.\n",
      "\n",
      "gene: # The type in Biolink\n",
      "  represented_as: node\n",
      "  label_in_input: Gene\n",
      "\n",
      "patient has variant: # Not existing in Biolink…\n",
      "    # … thus added by Biocypher under:\n",
      "    is_a: case to phenotypic feature association\n",
      "    represented_as: edge\n",
      "    label_in_input: PatientToSequenceVariantAssociation\n",
      "    source: patient\n",
      "    target: sequence variant\n",
      "\n",
      "variant to gene association: #The type in BioLink\n",
      "    represented_as: edge\n",
      "    label_in_input: SequenceVariantToGeneAssociation\n",
      "    source: sequence variant\n",
      "    target: gene"
     ]
    }
   ],
   "source": [
    "! cat config/schema_config_1.yaml"
   ]
  },
  {
   "cell_type": "markdown",
   "id": "61c98dd4-c3ac-47be-b407-a924b5cc5d27",
   "metadata": {},
   "source": [
    "The schema configuration file specifies the nodes type and edges type in the Semantic Knowledge Graph. The type can either come directly from a chosen ontology (specified in the `biocypher_config.yaml` file) or be added to the ontology as a subclass (`is_a` key).\n",
    "For each type, the quality of node or edge is specified by the `represented_as` key. Finally, the `label_in_input` key allows us to use a different label for the types in our adapters. In this vignette, we will stick to the labels present in nodes and edges of the graph in [Schema Graph Picture]('schema_graph_picture_1). \n",
    "Each edge type needs the specification of a source and target node type."
   ]
  },
  {
   "cell_type": "markdown",
   "id": "a7f7f131-b17a-4b9c-b67d-fa2dec27f61e",
   "metadata": {},
   "source": [
    "### Here we show how to write a proper mapping\n",
    "TODO: highlight and show problem of consistency of direction between predicate as defined in the ontology (pointed to in the biocypher_config file) and subject-object assignment in the ontoweaver mapping:\n",
    "    \n",
    "    Issues:\n",
    "* apparently biocypher has no way to declare inverse property\n",
    "* it's not clear to me if and why (conceptually) we shouldn't be able to treat rowIndex as object and another column as subject (other than forcing the user to always have a subject when they define the mapping).\n",
    "* we could add an inverse property on our ontology for example with protege as we create subclasses through biocypher, but personalizing the ontology through 2 different tools is not as convenient/easy."
   ]
  },
  {
   "cell_type": "code",
   "execution_count": 7,
   "id": "1a4749b8-7867-4140-8cc8-0b5527156353",
   "metadata": {},
   "outputs": [],
   "source": [
    "# Edit the biocypher config to point to the new schema_config file\n",
    "\n",
    "with open('config/biocypher_config.yaml', 'r') as f:\n",
    "    bc = yaml.safe_load(f)\n",
    "\n",
    "bc['biocypher']['schema_config_path'] = 'schema_config_1.yaml'\n",
    "\n",
    "with open('config/biocypher_config.yaml', 'w') as f:\n",
    "    yaml.dump(bc, f, default_flow_style=False)"
   ]
  },
  {
   "cell_type": "code",
   "execution_count": 8,
   "id": "d4d78176-e015-4115-891f-ee838810ec44",
   "metadata": {},
   "outputs": [],
   "source": [
    "#    #import decider_genetics.adapters.preprocessing_dataframes as preprocess_df\n",
    "#    #import decider_genetics.adapters.preprocessing_variants as preprocess_snv\n",
    "#    \n",
    "#    \n",
    "#    bc = BioCypher(\n",
    "#        biocypher_config_path=\"config/biocypher_config.yaml\",\n",
    "#        schema_config_path=\"config/schema_config_1.yaml\"\n",
    "#    )\n",
    "#    \n",
    "#    # Actually extract data.\n",
    "#    nodes = []\n",
    "#    edges = []\n",
    "#    \n",
    "#    data_mappings = {}\n",
    "#    \n",
    "#    logging.info(f\"Weave synthetic variants data\")\n",
    "#    \n",
    "#    #variants_df = pd.read_csv('data/', sep='\\t')\n",
    "#    \n",
    "#    mapping_file = \"./decider_genetics/adapters/my_mapping_1_variants.yaml\"\n",
    "#    with open(mapping_file) as fd:\n",
    "#        conf = yaml.full_load(fd)\n",
    "#    \n",
    "#    adapter = ontoweaver.tabular.extract_table(df=variants_df, config=conf,separator = None, affix= \"none\")\n",
    "#    \n",
    "#    nodes += adapter.nodes\n",
    "#    edges += adapter.edges\n",
    "#    \n",
    "#    logging.info(f\"Wove variants: {len(nodes)} nodes, {len(edges)} edges.\")\n",
    "\n",
    "#    # Write everything.\n",
    "#    n, e = ontoweaver.extract(data_mappings)\n",
    "#    nodes += n\n",
    "#    edges += e\n",
    "\n",
    "#    import_file = ontoweaver.reconciliate_write(nodes, edges, \"config/biocypher_config.yaml\", \"config/schema_config_1.yaml\", separator=\", \")\n",
    "#    # bc.write_schema_info(as_node=True)\n",
    "# \n",
    "#    print(import_file)"
   ]
  },
  {
   "cell_type": "markdown",
   "id": "6da32ce9-edb8-442e-a8d2-e42b4943dfc1",
   "metadata": {},
   "source": [
    "## Here below, an attempt to force Ontoweaver to set rowIndex as object (but it doesn't work so new fea)"
   ]
  },
  {
   "cell_type": "code",
   "execution_count": 9,
   "id": "f0668cbd-5052-4be6-b8a3-e69c2b548bb6",
   "metadata": {},
   "outputs": [],
   "source": [
    "#    #import decider_genetics.adapters.preprocessing_dataframes as preprocess_df\n",
    "#    #import decider_genetics.adapters.preprocessing_variants as preprocess_snv\n",
    "#    \n",
    "#    \n",
    "#    bc = BioCypher(\n",
    "#        biocypher_config_path=\"config/biocypher_config.yaml\",\n",
    "#        schema_config_path=\"config/schema_config_1.yaml\"\n",
    "#    )\n",
    "#    \n",
    "#    # Actually extract data.\n",
    "#    nodes = []\n",
    "#    edges = []\n",
    "#    \n",
    "#    data_mappings = {}\n",
    "#    \n",
    "#    logging.info(f\"Weave synthetic variants data\")\n",
    "#    \n",
    "#    #variants_df = pd.read_csv('data/', sep='\\t')\n",
    "#    \n",
    "#    \n",
    "#    # Patient to SequenceVariant\n",
    "#    mapping_file = \"./decider_genetics/adapters/my_mapping_1_variants_solve_inverse_property_patients.yaml\"\n",
    "#    with open(mapping_file) as fd:\n",
    "#        conf = yaml.full_load(fd)\n",
    "#    \n",
    "#    adapter = ontoweaver.tabular.extract_table(df=variants_df, config=conf,separator = None, affix= \"none\")\n",
    "#    \n",
    "#    nodes += adapter.nodes\n",
    "#    edges += adapter.edges\n",
    "#    \n",
    "#    \n",
    "#    # SequenceVariant to Gene\n",
    "#    mapping_file = \"./decider_genetics/adapters/my_mapping_1_variants_solve_inverse_property_variants.yaml\"\n",
    "#    with open(mapping_file) as fd:\n",
    "#        conf = yaml.full_load(fd)\n",
    "#    \n",
    "#    adapter = ontoweaver.tabular.extract_table(df=variants_df, config=conf,separator = None, affix= \"none\")\n",
    "#    \n",
    "#    nodes += adapter.nodes\n",
    "#    edges += adapter.edges\n",
    "#    \n",
    "#    logging.info(f\"Wove variants: {len(nodes)} nodes, {len(edges)} edges.\")\n",
    "#    \n",
    "#    # # Write everything.\n",
    "#    # n, e = ontoweaver.extract(data_mappings)\n",
    "#    # nodes += n\n",
    "#    # edges += e\n",
    "\n",
    "#    import_file = ontoweaver.reconciliate_write(nodes, edges, \"config/biocypher_config.yaml\", \"config/schema_config_1.yaml\", separator=\", \")\n",
    "#    # bc.write_schema_info(as_node=True)\n",
    "#    \n",
    "#    print(import_file)"
   ]
  },
  {
   "cell_type": "markdown",
   "id": "14aa0379-f851-4b46-b353-c5e98e59c61c",
   "metadata": {},
   "source": [
    "## Here, we momentarily neglect the relationship direction issue, and run ontoweaver on the first dataset with no properties."
   ]
  },
  {
   "cell_type": "code",
   "execution_count": 10,
   "id": "4aa851b8-aec9-4b14-84a4-cc24137c08b6",
   "metadata": {},
   "outputs": [
    {
     "name": "stderr",
     "output_type": "stream",
     "text": [
      "INFO -- Running BioCypher with schema configuration from config/schema_config_1.yaml.\n"
     ]
    },
    {
     "ename": "TypeError",
     "evalue": "attribute name must be string, not 'NoneType'",
     "output_type": "error",
     "traceback": [
      "\u001b[31m---------------------------------------------------------------------------\u001b[39m",
      "\u001b[31mTypeError\u001b[39m                                 Traceback (most recent call last)",
      "\u001b[36mCell\u001b[39m\u001b[36m \u001b[39m\u001b[32mIn[10]\u001b[39m\u001b[32m, line 26\u001b[39m\n\u001b[32m     23\u001b[39m \u001b[38;5;28;01mwith\u001b[39;00m \u001b[38;5;28mopen\u001b[39m(mapping_file) \u001b[38;5;28;01mas\u001b[39;00m fd:\n\u001b[32m     24\u001b[39m     conf = yaml.full_load(fd)\n\u001b[32m---> \u001b[39m\u001b[32m26\u001b[39m adapter = \u001b[43montoweaver\u001b[49m\u001b[43m.\u001b[49m\u001b[43mtabular\u001b[49m\u001b[43m.\u001b[49m\u001b[43mextract_table\u001b[49m\u001b[43m(\u001b[49m\u001b[43mdf\u001b[49m\u001b[43m=\u001b[49m\u001b[43mvariants_df\u001b[49m\u001b[43m,\u001b[49m\u001b[43m \u001b[49m\u001b[43mconfig\u001b[49m\u001b[43m=\u001b[49m\u001b[43mconf\u001b[49m\u001b[43m,\u001b[49m\u001b[43mseparator\u001b[49m\u001b[43m \u001b[49m\u001b[43m=\u001b[49m\u001b[43m \u001b[49m\u001b[38;5;28;43;01mNone\u001b[39;49;00m\u001b[43m,\u001b[49m\u001b[43m \u001b[49m\u001b[43maffix\u001b[49m\u001b[43m=\u001b[49m\u001b[43m \u001b[49m\u001b[33;43m\"\u001b[39;49m\u001b[33;43mnone\u001b[39;49m\u001b[33;43m\"\u001b[39;49m\u001b[43m)\u001b[49m\n\u001b[32m     28\u001b[39m nodes += adapter.nodes\n\u001b[32m     29\u001b[39m edges += adapter.edges\n",
      "\u001b[36mFile \u001b[39m\u001b[32m~/Decider/Ontoweaver/src/ontoweaver/tabular.py:498\u001b[39m, in \u001b[36mextract_table\u001b[39m\u001b[34m(df, config, parallel_mapping, module, affix, separator, validate_output, raise_errors)\u001b[39m\n\u001b[32m    480\u001b[39m \u001b[38;5;250m\u001b[39m\u001b[33;03m\"\"\"\u001b[39;00m\n\u001b[32m    481\u001b[39m \u001b[33;03mProxy function for extracting from a table all nodes, edges and properties\u001b[39;00m\n\u001b[32m    482\u001b[39m \u001b[33;03mthat are defined in a PandasAdapter configuration.\u001b[39;00m\n\u001b[32m   (...)\u001b[39m\u001b[32m    495\u001b[39m \u001b[33;03m    PandasAdapter: The configured adapter.\u001b[39;00m\n\u001b[32m    496\u001b[39m \u001b[33;03m\"\"\"\u001b[39;00m\n\u001b[32m    497\u001b[39m parser = YamlParser(config, module, validate_output = validate_output, raise_errors = raise_errors)\n\u001b[32m--> \u001b[39m\u001b[32m498\u001b[39m mapping = \u001b[43mparser\u001b[49m\u001b[43m(\u001b[49m\u001b[43m)\u001b[49m\n\u001b[32m    500\u001b[39m adapter = PandasAdapter(\n\u001b[32m    501\u001b[39m     df,\n\u001b[32m    502\u001b[39m     *mapping,\n\u001b[32m   (...)\u001b[39m\u001b[32m    506\u001b[39m     raise_errors = raise_errors,\n\u001b[32m    507\u001b[39m )\n\u001b[32m    509\u001b[39m adapter.run()\n",
      "\u001b[36mFile \u001b[39m\u001b[32m~/Decider/Ontoweaver/src/ontoweaver/tabular.py:1273\u001b[39m, in \u001b[36mYamlParser.__call__\u001b[39m\u001b[34m(self)\u001b[39m\n\u001b[32m   1270\u001b[39m metadata_list = \u001b[38;5;28mself\u001b[39m.get(\u001b[38;5;28mself\u001b[39m.k_metadata)\n\u001b[32m   1272\u001b[39m \u001b[38;5;66;03m# Parse subject type, metadata for subject, and properties for both subject and target types (parse_subject calls parse_properties).\u001b[39;00m\n\u001b[32m-> \u001b[39m\u001b[32m1273\u001b[39m possible_subject_types, subject_transformer, source_t, subject_columns = \u001b[38;5;28;43mself\u001b[39;49m\u001b[43m.\u001b[49m\u001b[43mparse_subject\u001b[49m\u001b[43m(\u001b[49m\u001b[43mproperties_of\u001b[49m\u001b[43m,\u001b[49m\u001b[43m \u001b[49m\u001b[43mtransformers_list\u001b[49m\u001b[43m,\u001b[49m\u001b[43m \u001b[49m\u001b[43mmetadata_list\u001b[49m\u001b[43m,\u001b[49m\u001b[43m \u001b[49m\u001b[43mmetadata\u001b[49m\u001b[43m)\u001b[49m\n\u001b[32m   1275\u001b[39m \u001b[38;5;66;03m# Parse the target types and target metadata.\u001b[39;00m\n\u001b[32m   1276\u001b[39m transformers, possible_target_types, possible_edge_types = \u001b[38;5;28mself\u001b[39m.parse_targets(transformers_list, properties_of, source_t, metadata_list, metadata)\n",
      "\u001b[36mFile \u001b[39m\u001b[32m~/Decider/Ontoweaver/src/ontoweaver/tabular.py:1038\u001b[39m, in \u001b[36mYamlParser.parse_subject\u001b[39m\u001b[34m(self, properties_of, transformers_list, metadata_list, metadata)\u001b[39m\n\u001b[32m   1035\u001b[39m \u001b[38;5;66;03m# \"None\" key is used to return any type of string, in case no branching is needed.\u001b[39;00m\n\u001b[32m   1036\u001b[39m \u001b[38;5;28;01melse\u001b[39;00m:\n\u001b[32m   1037\u001b[39m     subject_type = \u001b[38;5;28mself\u001b[39m.get(\u001b[38;5;28mself\u001b[39m.k_subject_type, subject_transformer_dict[subject_transformer_class])\n\u001b[32m-> \u001b[39m\u001b[32m1038\u001b[39m     source_t = \u001b[38;5;28;43mself\u001b[39;49m\u001b[43m.\u001b[49m\u001b[43mmake_node_class\u001b[49m\u001b[43m(\u001b[49m\u001b[43msubject_type\u001b[49m\u001b[43m,\u001b[49m\u001b[43m \u001b[49m\u001b[43mproperties_of\u001b[49m\u001b[43m.\u001b[49m\u001b[43mget\u001b[49m\u001b[43m(\u001b[49m\u001b[43msubject_type\u001b[49m\u001b[43m,\u001b[49m\u001b[43m \u001b[49m\u001b[43m{\u001b[49m\u001b[43m}\u001b[49m\u001b[43m)\u001b[49m\u001b[43m)\u001b[49m\n\u001b[32m   1040\u001b[39m     subject_multi_type_dict = {\u001b[33m'\u001b[39m\u001b[33mNone\u001b[39m\u001b[33m'\u001b[39m: {\n\u001b[32m   1041\u001b[39m         \u001b[33m'\u001b[39m\u001b[33mto_object\u001b[39m\u001b[33m'\u001b[39m: source_t,\n\u001b[32m   1042\u001b[39m         \u001b[33m'\u001b[39m\u001b[33mvia_relation\u001b[39m\u001b[33m'\u001b[39m: \u001b[38;5;28;01mNone\u001b[39;00m,\n\u001b[32m   1043\u001b[39m         \u001b[33m'\u001b[39m\u001b[33mfinal_type\u001b[39m\u001b[33m'\u001b[39m: s_final_type_class\n\u001b[32m   1044\u001b[39m     }}\n\u001b[32m   1046\u001b[39m     possible_subject_types.add(source_t.\u001b[34m__name__\u001b[39m)\n",
      "\u001b[36mFile \u001b[39m\u001b[32m~/Decider/Ontoweaver/src/ontoweaver/tabular.py:544\u001b[39m, in \u001b[36mDeclare.make_node_class\u001b[39m\u001b[34m(self, name, properties, base)\u001b[39m\n\u001b[32m    532\u001b[39m \u001b[38;5;250m\u001b[39m\u001b[33;03m\"\"\"\u001b[39;00m\n\u001b[32m    533\u001b[39m \u001b[33;03mLabelMaker a node class with the given name and properties.\u001b[39;00m\n\u001b[32m    534\u001b[39m \n\u001b[32m   (...)\u001b[39m\u001b[32m    541\u001b[39m \u001b[33;03m    The created node class.\u001b[39;00m\n\u001b[32m    542\u001b[39m \u001b[33;03m\"\"\"\u001b[39;00m\n\u001b[32m    543\u001b[39m \u001b[38;5;66;03m# If type already exists, return it.\u001b[39;00m\n\u001b[32m--> \u001b[39m\u001b[32m544\u001b[39m \u001b[38;5;28;01mif\u001b[39;00m \u001b[38;5;28;43mhasattr\u001b[39;49m\u001b[43m(\u001b[49m\u001b[38;5;28;43mself\u001b[39;49m\u001b[43m.\u001b[49m\u001b[43mmodule\u001b[49m\u001b[43m,\u001b[49m\u001b[43m \u001b[49m\u001b[43mname\u001b[49m\u001b[43m)\u001b[49m:\n\u001b[32m    545\u001b[39m     \u001b[38;5;28mcls\u001b[39m = \u001b[38;5;28mgetattr\u001b[39m(\u001b[38;5;28mself\u001b[39m.module, name)\n\u001b[32m    546\u001b[39m     logger.debug(\n\u001b[32m    547\u001b[39m         \u001b[33mf\u001b[39m\u001b[33m\"\u001b[39m\u001b[38;5;130;01m\\t\u001b[39;00m\u001b[38;5;130;01m\\t\u001b[39;00m\u001b[33mNode class `\u001b[39m\u001b[38;5;132;01m{\u001b[39;00mname\u001b[38;5;132;01m}\u001b[39;00m\u001b[33m` (prop: `\u001b[39m\u001b[38;5;132;01m{\u001b[39;00m\u001b[38;5;28mcls\u001b[39m.fields()\u001b[38;5;132;01m}\u001b[39;00m\u001b[33m`) already exists, I will not create another one.\u001b[39m\u001b[33m\"\u001b[39m)\n",
      "\u001b[31mTypeError\u001b[39m: attribute name must be string, not 'NoneType'"
     ]
    }
   ],
   "source": [
    "#import decider_genetics.adapters.preprocessing_dataframes as preprocess_df\n",
    "#import decider_genetics.adapters.preprocessing_variants as preprocess_snv\n",
    "\n",
    "\n",
    "bc = BioCypher(\n",
    "    biocypher_config_path=\"config/biocypher_config.yaml\",\n",
    "    schema_config_path=\"config/schema_config_1.yaml\"\n",
    ")\n",
    "\n",
    "# Actually extract data.\n",
    "nodes = []\n",
    "edges = []\n",
    "\n",
    "data_mappings = {}\n",
    "\n",
    "logging.info(f\"Weave synthetic variants data\")\n",
    "\n",
    "#variants_df = pd.read_csv('data/', sep='\\t')\n",
    "\n",
    "\n",
    "# SequenceVariant to Gene\n",
    "mapping_file = \"./decider_genetics/adapters/my_mapping_1_variants.yaml\"\n",
    "with open(mapping_file) as fd:\n",
    "    conf = yaml.full_load(fd)\n",
    "\n",
    "adapter = ontoweaver.tabular.extract_table(df=variants_df, config=conf,separator = None, affix= \"none\")\n",
    "\n",
    "nodes += adapter.nodes\n",
    "edges += adapter.edges\n",
    "\n",
    "logging.info(f\"Wove variants: {len(nodes)} nodes, {len(edges)} edges.\")\n",
    "\n",
    "# # Write everything.\n",
    "# n, e = ontoweaver.extract(data_mappings)\n",
    "# nodes += n\n",
    "# edges += e\n",
    "\n",
    "import_file = ontoweaver.reconciliate_write(nodes, edges, \"config/biocypher_config.yaml\", \"config/schema_config_1.yaml\", separator=\", \")\n",
    "# bc.write_schema_info(as_node=True)\n",
    "\n",
    "print(import_file)"
   ]
  },
  {
   "cell_type": "markdown",
   "id": "6b657e07-98e4-4345-b91d-16840a0768d6",
   "metadata": {},
   "source": [
    "Describe"
   ]
  },
  {
   "cell_type": "code",
   "execution_count": null,
   "id": "422c4090",
   "metadata": {},
   "outputs": [],
   "source": [
    "! pwd"
   ]
  },
  {
   "cell_type": "code",
   "execution_count": null,
   "id": "612df44d-a55e-4ca0-b293-7055abac5bcf",
   "metadata": {},
   "outputs": [],
   "source": [
    "! ls -R biocypher-out"
   ]
  },
  {
   "cell_type": "markdown",
   "id": "f041fe8d-fc25-4028-b5c7-a0d958528b08",
   "metadata": {},
   "source": [
    "### `neo4j` database naming consistency\n",
    "The community version of `neo4j` can handle just one database. Make sure the name of the database created by default is the same as present in the `.sh` file output by `ontoweaver` (`test`). To do this, go to conf/neo4j.conf in the folder where you have installed `neo4j`, and assign `initial.dbms.default_database=test`, or you can run:"
   ]
  },
  {
   "cell_type": "code",
   "execution_count": null,
   "id": "ac0309fa-7f10-411d-9ff5-f84f2e9a5252",
   "metadata": {},
   "outputs": [],
   "source": [
    "import os\n",
    "\n",
    "# Path to the neo4j.conf file\n",
    "neo4j_path = os.popen('where neo4j' if os.name == 'nt' else 'which neo4j').read().strip()\n",
    "conf_dir = os.path.abspath(os.path.join(os.path.dirname(neo4j_path), '..', 'conf'))\n",
    "conf_file = os.path.join(conf_dir, 'neo4j.conf')\n",
    "\n",
    "# Key to modify\n",
    "key = 'initial.dbms.default_database'\n",
    "new_value = 'test' # Change value according to the database name as present in the .sh file output by biocypher.\n",
    "\n",
    "# Read, modify, and write back\n",
    "updated = False\n",
    "lines = []\n",
    "\n",
    "with open(conf_file, 'r') as f:\n",
    "    for line in f:\n",
    "        if line.strip().startswith(f'{key}='):\n",
    "            lines.append(f'{key}={new_value}\\n')\n",
    "            updated = True\n",
    "        else:\n",
    "            lines.append(line)\n",
    "\n",
    "if not updated:\n",
    "    lines.append(f'{key}={new_value}\\n')\n",
    "\n",
    "# Write back safely\n",
    "with open(conf_file, 'w') as f:\n",
    "    f.writelines(lines)\n",
    "\n",
    "print(f\"Updated {key} in {conf_file}\")\n"
   ]
  },
  {
   "cell_type": "code",
   "execution_count": null,
   "id": "43f685de",
   "metadata": {},
   "outputs": [],
   "source": [
    "! neo4j-admin server stop"
   ]
  },
  {
   "cell_type": "code",
   "execution_count": null,
   "id": "5053d458-218d-4afe-ac07-907090e367fc",
   "metadata": {},
   "outputs": [],
   "source": [
    "! neo4j stop"
   ]
  },
  {
   "cell_type": "code",
   "execution_count": null,
   "id": "5c76509a-a131-4160-9b4c-a0092d476066",
   "metadata": {},
   "outputs": [],
   "source": [
    "! sed -i -e 's,bin/neo4j-admin,neo4j-admin,g' {import_file} "
   ]
  },
  {
   "cell_type": "code",
   "execution_count": null,
   "id": "99bb31ab",
   "metadata": {},
   "outputs": [],
   "source": [
    "! sh {import_file}"
   ]
  },
  {
   "cell_type": "code",
   "execution_count": null,
   "id": "ea4b91d5",
   "metadata": {},
   "outputs": [],
   "source": [
    "#! neo4j-admin server start # this for some reason does not work\n",
    "! neo4j console # this one does"
   ]
  },
  {
   "cell_type": "markdown",
   "id": "696d8970-3e69-4007-988e-927ebb7e1825",
   "metadata": {},
   "source": [
    "### In neo4j, use `MATCH (p)<-[r]-(v)-[l]->(g) RETURN p,r,v,l,g;` to visualize (part of) the SKG highlighting patient-variant-gene connection."
   ]
  },
  {
   "cell_type": "markdown",
   "id": "796161a9-a793-4bd8-989e-f2a8e70aef59",
   "metadata": {},
   "source": [
    "## /<u>!</u>\\ Interrupt execution of previous block to gently shutdown neo4j server"
   ]
  },
  {
   "cell_type": "code",
   "execution_count": null,
   "id": "32f6915e-61fb-439d-a5bf-a87d5c2e1d75",
   "metadata": {},
   "outputs": [],
   "source": [
    "! neo4j status # to check, after some seconds, the effect of shutdown"
   ]
  },
  {
   "cell_type": "code",
   "execution_count": null,
   "id": "eb2e20cd-7251-4028-bcb1-3af7c2c9db46",
   "metadata": {},
   "outputs": [],
   "source": [
    "# in case shut down didnt work, run \n",
    "! ps aux | grep neo4j\n",
    "# and then \n",
    "# kill <PID>\n",
    "# where <PID> is the process identifier of the neo4j session"
   ]
  },
  {
   "cell_type": "markdown",
   "id": "a22a09f7-baa3-4d23-8f6d-5a748b3882d0",
   "metadata": {},
   "source": [
    "## Now let's add properties to those nodes\n",
    "\n",
    "Patients properties are stored in `data/synthetic_clinical.csv`"
   ]
  },
  {
   "cell_type": "code",
   "execution_count": null,
   "id": "f4834d0c-ecef-494e-94e1-89be4cd9468e",
   "metadata": {},
   "outputs": [],
   "source": [
    "clinical_df = pd.read_table('data/synthetic_clinical.csv', sep=';')\n",
    "clinical_df.head(n=5)"
   ]
  },
  {
   "cell_type": "markdown",
   "id": "c1bdef1e-9d10-4f55-bc3d-8c51d278c52c",
   "metadata": {},
   "source": [
    "### We see there was inconsistence of decimal separator between BMI (comma) and Chemotherapy cycles (dot). This originates an error later on in neo4j so i set comma everywhere. Should be automatized since we are already specifying type of `BMI` in `schema_config.yaml` as `float`  "
   ]
  },
  {
   "cell_type": "code",
   "execution_count": null,
   "id": "fda2b840-6688-4c35-8e31-561bf23b93c6",
   "metadata": {},
   "outputs": [],
   "source": [
    "# Edit the biocypher config to point to the new schema_config file\n",
    "\n",
    "with open('config/biocypher_config.yaml', 'r') as f:\n",
    "    bc = yaml.safe_load(f)\n",
    "\n",
    "bc['biocypher']['schema_config_path'] = 'schema_config_2.yaml'\n",
    "\n",
    "with open('config/biocypher_config.yaml', 'w') as f:\n",
    "    yaml.dump(bc, f, default_flow_style=False)\n",
    "\n",
    "#! cat config/biocypher_config.yaml"
   ]
  },
  {
   "cell_type": "code",
   "execution_count": null,
   "id": "9135b53a-1968-4c4b-bc8c-90db684aba1f",
   "metadata": {},
   "outputs": [],
   "source": [
    "#import decider_genetics.adapters.preprocessing_dataframes as preprocess_df\n",
    "#import decider_genetics.adapters.preprocessing_variants as preprocess_snv\n",
    "\n",
    "\n",
    "bc = BioCypher(\n",
    "    biocypher_config_path=\"config/biocypher_config.yaml\",\n",
    "    schema_config_path=\"config/schema_config_2.yaml\"\n",
    ")\n",
    "\n",
    "# Actually extract data.\n",
    "nodes = []\n",
    "edges = []\n",
    "\n",
    "data_mappings = {}\n",
    "\n",
    "logging.info(f\"Weave synthetic variants data\")\n",
    "\n",
    "#variants_df = pd.read_csv('data/', sep='\\t')\n",
    "\n",
    "mapping_file = \"./decider_genetics/adapters/my_mapping_2_variants.yaml\"\n",
    "with open(mapping_file) as fd:\n",
    "    conf = yaml.full_load(fd)\n",
    "\n",
    "adapter = ontoweaver.tabular.extract_table(df=variants_df, config=conf,separator = \"\\t\", affix= \"none\")\n",
    "\n",
    "nodes += adapter.nodes\n",
    "edges += adapter.edges\n",
    "\n",
    "logging.info(f\"Wove variants: {len(nodes)} nodes, {len(edges)} edges.\")\n",
    "\n",
    "\n",
    "\n",
    "logging.info(f\"Weave synthetic clinical data...\")\n",
    "\n",
    "mapping_file = \"./decider_genetics/adapters/my_mapping_2_clinical.yaml\"\n",
    "with open(mapping_file) as fd:\n",
    "    conf = yaml.full_load(fd)\n",
    "\n",
    "adapter = ontoweaver.tabular.extract_table(df=clinical_df, config=conf,separator = \"\\t\", affix= \"none\")\n",
    "\n",
    "nodes += adapter.nodes\n",
    "edges += adapter.edges\n",
    "\n",
    "logging.info(f\"Wove Clinical: {len(nodes)} nodes, {len(edges)} edges.\")\n",
    "\n",
    "\n",
    "# # Write everything.\n",
    "# n, e = ontoweaver.extract(data_mappings)\n",
    "# nodes += n\n",
    "# edges += e\n",
    "\n",
    "import_file = ontoweaver.reconciliate_write(nodes, edges, \"config/biocypher_config.yaml\", \"config/schema_config_2.yaml\", separator=\", \")\n",
    "# bc.write_schema_info(as_node=True)\n",
    "\n",
    "print(import_file)\n"
   ]
  },
  {
   "cell_type": "markdown",
   "id": "53f46bdc-4485-4013-b48e-3636ae8a29fe",
   "metadata": {},
   "source": [
    "TO FIX!!! The previous attempt gives error, either with or without properties (tried cos there was apparently a bug in property parsing but later was fixed and i pulled onto my local ontoweaver repo so it shoud not be the problem...)\n",
    "\n",
    "Same error also in the third schema version. "
   ]
  },
  {
   "cell_type": "code",
   "execution_count": null,
   "id": "93cb959b-0f3a-4a8b-94e0-0ab64ee9595d",
   "metadata": {},
   "outputs": [],
   "source": [
    "! ls -R biocypher-out"
   ]
  },
  {
   "cell_type": "code",
   "execution_count": null,
   "id": "c35a4a7f-8a13-48af-8b4e-24a23fe0643b",
   "metadata": {},
   "outputs": [],
   "source": [
    "# DO: substitute timestamp folder with the (last) one in `biocypher-out`\n",
    "! sed -i -e 's,bin/neo4j-admin,neo4j-admin,g' biocypher-out/20250512185059/neo4j-admin-import-call.sh"
   ]
  },
  {
   "cell_type": "code",
   "execution_count": null,
   "id": "b96489fb-9cc6-46a7-810d-ae190e13f766",
   "metadata": {},
   "outputs": [],
   "source": [
    "! sh biocypher-out/20250512185059/neo4j-admin-import-call.sh --verbose"
   ]
  },
  {
   "cell_type": "code",
   "execution_count": null,
   "id": "24a84fa3-44e1-4178-b4d7-48c1d21dc64d",
   "metadata": {},
   "outputs": [],
   "source": [
    "#! neo4j-admin server start # this for some reason does not work\n",
    "! neo4j console # this one does"
   ]
  },
  {
   "cell_type": "markdown",
   "id": "48b1a3a8-e336-44c7-8f70-2f38b3636b8b",
   "metadata": {},
   "source": [
    "### In neo4j, use `MATCH (p)<-[r]-(v)-[l]->(g) RETURN p,r,v,l,g;` to visualize (part of) the SKG highlighting patient-variant-gene connection. Click on nodes to explore properties."
   ]
  },
  {
   "cell_type": "markdown",
   "id": "5609831d-aafd-451b-9dc9-8bbf56a3e3f6",
   "metadata": {},
   "source": [
    "## And finally let's add a CopyNumberAlteration node connecting Patient and Gene as well.\n",
    "Those alterations are store in Patients `data/synthetic_cns.csv`. Such tables store also information about the chromosome of location of genes present in the `synthetic_variants.csv` table, so we add it as gene property."
   ]
  },
  {
   "cell_type": "code",
   "execution_count": null,
   "id": "bf54927a-1c7d-4996-bafb-fb57caa9df5d",
   "metadata": {},
   "outputs": [],
   "source": [
    "cna_df = pd.read_table('data/synthetic_cna.csv', sep='\\t')\n",
    "cna_df.head(n=5)"
   ]
  },
  {
   "cell_type": "markdown",
   "id": "5a409983-ebc8-4182-9de1-1c86fd22eda3",
   "metadata": {},
   "source": [
    "In this case we could use the ID as identifier, but not knowing precicely what it represents, I used the most conservative approach of using the `rowIndex` as `ID`. This raises the problem of potential collision with the `ID`s of `sequence variant` nodes, that were inserted using `rowIndex` as `ID`. That's why I now define, in the `my_mapping_3_variants.yaml` the ID of the variants as a custom concatenation of thr 4 properies `CHROM`-`POS`-`REF`-`ALT`, deemed necessary and sufficient, in the present context, to univocally define each variant. (It's an example...)"
   ]
  },
  {
   "cell_type": "code",
   "execution_count": null,
   "id": "3c5e5233-3462-4832-bd4e-54522c4c22e3",
   "metadata": {},
   "outputs": [],
   "source": [
    "# Edit the biocypher config to point to the new schema_config file\n",
    "\n",
    "with open('config/biocypher_config.yaml', 'r') as f:\n",
    "    bc = yaml.safe_load(f)\n",
    "\n",
    "bc['biocypher']['schema_config_path'] = 'schema_config_3.yaml'\n",
    "\n",
    "with open('config/biocypher_config.yaml', 'w') as f:\n",
    "    yaml.dump(bc, f, default_flow_style=False)\n",
    "\n",
    "#! cat config/biocypher_config.yaml"
   ]
  },
  {
   "cell_type": "code",
   "execution_count": null,
   "id": "c4f6dcd3-d6b1-4e9e-9adb-90eaf18beb34",
   "metadata": {},
   "outputs": [],
   "source": [
    "#import decider_genetics.adapters.preprocessing_dataframes as preprocess_df\n",
    "#import decider_genetics.adapters.preprocessing_variants as preprocess_snv\n",
    "\n",
    "\n",
    "bc = BioCypher(\n",
    "    biocypher_config_path=\"config/biocypher_config.yaml\",\n",
    "    schema_config_path=\"config/schema_config_3.yaml\"\n",
    ")\n",
    "\n",
    "# Actually extract data.\n",
    "nodes = []\n",
    "edges = []\n",
    "\n",
    "data_mappings = {}\n",
    "\n",
    "logging.info(f\"Weave synthetic variants data\")\n",
    "\n",
    "#variants_df = pd.read_csv('data/', sep='\\t')\n",
    "\n",
    "mapping_file = \"./decider_genetics/adapters/my_mapping_3_variants.yaml\"\n",
    "with open(mapping_file) as fd:\n",
    "    conf = yaml.full_load(fd)\n",
    "\n",
    "adapter = ontoweaver.tabular.extract_table(df=variants_df, config=conf,separator = None, affix= \"none\")\n",
    "\n",
    "nodes += adapter.nodes\n",
    "edges += adapter.edges\n",
    "\n",
    "logging.info(f\"Wove variants: {len(nodes)} nodes, {len(edges)} edges.\")\n",
    "\n",
    "\n",
    "\n",
    "logging.info(f\"Weave synthetic clinical data...\")\n",
    "\n",
    "mapping_file = \"./decider_genetics/adapters/my_mapping_3_clinical.yaml\"\n",
    "with open(mapping_file) as fd:\n",
    "    conf = yaml.full_load(fd)\n",
    "\n",
    "adapter = ontoweaver.tabular.extract_table(df=clinical_df, config=conf,separator = \";\", affix= \"none\")\n",
    "\n",
    "nodes += adapter.nodes\n",
    "edges += adapter.edges\n",
    "\n",
    "logging.info(f\"Wove Clinical: {len(nodes)} nodes, {len(edges)} edges.\")\n",
    "\n",
    "\n",
    "\n",
    "logging.info(f\"Weave synthetic copy number alteration data...\")\n",
    "\n",
    "mapping_file = \"./decider_genetics/adapters/my_mapping_3_cna.yaml\"\n",
    "with open(mapping_file) as fd:\n",
    "    conf = yaml.full_load(fd)\n",
    "\n",
    "adapter = ontoweaver.tabular.extract_table(df=cna_df, config=conf,separator = None, affix= \"none\")\n",
    "\n",
    "nodes += adapter.nodes\n",
    "edges += adapter.edges\n",
    "\n",
    "logging.info(f\"Wove CNAs: {len(nodes)} nodes, {len(edges)} edges.\")\n",
    "\n",
    "# # Write everything.\n",
    "# n, e = ontoweaver.extract(data_mappings)\n",
    "# nodes += n\n",
    "# edges += e\n",
    "\n",
    "import_file = ontoweaver.reconciliate_write(nodes, edges, \"config/biocypher_config.yaml\", \"config/schema_config_3.yaml\", separator=\", \")\n",
    "# bc.write_schema_info(as_node=True) \n",
    "\n",
    "print(import_file)\n"
   ]
  },
  {
   "cell_type": "code",
   "execution_count": null,
   "id": "8d075492-e9ca-41a4-b2e7-18fc1c004ba5",
   "metadata": {},
   "outputs": [],
   "source": [
    "! ls -R biocypher-out"
   ]
  },
  {
   "cell_type": "code",
   "execution_count": null,
   "id": "024c6aac-4082-40cd-835b-89c63ba96a5a",
   "metadata": {},
   "outputs": [],
   "source": [
    "# DO: substitute timestamp folder with the (last) one in `biocypher-out`\n",
    "! sed -i -e 's,bin/neo4j-admin,neo4j-admin,g' biocypher-out/20250512200340/neo4j-admin-import-call.sh"
   ]
  },
  {
   "cell_type": "code",
   "execution_count": null,
   "id": "a5d24e1b-2595-494d-bbec-790cbf3e0ad1",
   "metadata": {},
   "outputs": [],
   "source": [
    "! sh biocypher-out/20250512200340/neo4j-admin-import-call.sh --verbose"
   ]
  },
  {
   "cell_type": "code",
   "execution_count": null,
   "id": "f5db3b4d-fba0-41ad-9081-e6580a7496a0",
   "metadata": {},
   "outputs": [],
   "source": [
    "#! neo4j-admin server start # this for some reason does not work\n",
    "! neo4j console # this one does"
   ]
  },
  {
   "cell_type": "markdown",
   "id": "fb4b8b98-ce9d-48cf-91bc-eaca69bbf71a",
   "metadata": {},
   "source": [
    "### try this query \n",
    "`MATCH \n",
    "  (v:SequenceVariant)-[]->(p:Patient),\n",
    "  (v)-[]->(g:Gene),\n",
    "  (c:CopyNumberAlteration)-[]->(p),\n",
    "  (c)-[]->(g)\n",
    "WHERE \n",
    "  v <> c\n",
    "RETURN v, c, p, g;`\n",
    "\n",
    "(Actually the WHERE condition isn't necessary)\n",
    "\n",
    "\n",
    "    update according to new direction onro\\\\toweaver"
   ]
  },
  {
   "cell_type": "markdown",
   "id": "b0000c35-13aa-4644-b6c6-3964d61d800e",
   "metadata": {},
   "source": [
    "#!/usr/bin/env python3\n",
    "import argparse\n",
    "import logging\n",
    "import pandas as pd\n",
    "import yaml\n",
    "\n",
    "from biocypher import BioCypher\n",
    "import decider_genetics.adapters.preprocessing_dataframes as preprocess_df\n",
    "import decider_genetics.adapters.preprocessing_variants as preprocess_snv\n",
    "import ontoweaver\n",
    "\n",
    "if __name__ == \"__main__\":\n",
    "\n",
    "    usage = f\"Extract nodes and edges from CSV tables from synthetic clinical, copy number variations and single nucleotide variants and prepare a knowledge graph import script.\"\n",
    "    parser = argparse.ArgumentParser(\n",
    "        description=usage)\n",
    "\n",
    "    parser.add_argument(\"-cli\", \"--synthetic_clinical\", metavar=\"CSV\", nargs=\"+\",\n",
    "                        help=\"Extract from the synthetic clinical CSV file.\")\n",
    "\n",
    "    parser.add_argument(\"-cna\", \"--synthetic_cna\", metavar=\"CSV\", nargs=\"+\",\n",
    "                        help=\"Extract from the synthetic copy number alterations CSV file.\")\n",
    "\n",
    "    parser.add_argument(\"-snv\", \"--synthetic_variants\", metavar=\"CSV\", nargs=\"+\",\n",
    "                        help=\"Extract from the synthetic single nucleotide variants CSV file.\")\n",
    "    \n",
    "    parser.add_argument(\"-o\", \"--oncokb\", metavar=\"CSV\", nargs=\"+\",\n",
    "                        help=\"Extract from an OncoKB CSV file.\")\n",
    "    \n",
    "    levels = {\n",
    "        \"DEBUG\": logging.DEBUG,\n",
    "        \"INFO\": logging.INFO,\n",
    "        \"WARNING\": logging.WARNING,\n",
    "        \"ERROR\": logging.ERROR,\n",
    "        \"CRITICAL\": logging.CRITICAL\n",
    "    }\n",
    "\n",
    "    parser.add_argument(\"-v\", \"--verbose\", choices = levels.keys(), default = \"WARNING\",\n",
    "                        help=\"Set the verbose level (default: %(default)s).\")\n",
    "    \n",
    "    asked = parser.parse_args()\n",
    "    bc = BioCypher(\n",
    "        biocypher_config_path=\"config/biocypher_config.yaml\",\n",
    "        schema_config_path=\"config/schema_config.yaml\"\n",
    "    )\n",
    "\n",
    "    # Actually extract data.\n",
    "    nodes = []\n",
    "    edges = []\n",
    "\n",
    "    data_mappings = {}\n",
    "\n",
    "    # Extract from databases not requiring preprocessing.\n",
    "    if asked.synthetic_clinical:\n",
    "        logging.info(f\"Weave synthetic clinical data...\")\n",
    "        \n",
    "        clinical_df = pd.read_csv(asked.synthetic_clinical[0], sep=';')\n",
    "        preprocessed_clinical_df = preprocess_df.preprocess_clinical(clinical_df)\n",
    "\n",
    "        mapping_file = \"./decider_genetics/adapters/clinical.yaml\"\n",
    "        with open(mapping_file) as fd:\n",
    "            conf = yaml.full_load(fd)\n",
    "\n",
    "        adapter = ontoweaver.tabular.extract_all(df=preprocessed_clinical_df, config=conf,separator = None, affix= \"none\")\n",
    "\n",
    "        nodes += adapter.nodes\n",
    "        edges += adapter.edges\n",
    "\n",
    "        logging.info(f\"Wove Clinical: {len(nodes)} nodes, {len(edges)} edges.\")\n",
    "\n",
    "    if asked.synthetic_cna:\n",
    "        logging.info(f\"Weave synthetic copy number alterations data\")\n",
    "        \n",
    "        cna_df = pd.read_csv(asked.synthetic_cna[0], sep='\\t')\n",
    "        preprocessed_cna_df = preprocess_df.preprocess_cna(cna_df)\n",
    "\n",
    "        mapping_file = \"./decider_genetics/adapters/cna_genes.yaml\"\n",
    "        with open(mapping_file) as fd:\n",
    "            conf = yaml.full_load(fd)\n",
    "\n",
    "        adapter = ontoweaver.tabular.extract_all(df=preprocessed_cna_df, config=conf,separator = None, affix= \"none\")\n",
    "\n",
    "        nodes += adapter.nodes\n",
    "        edges += adapter.edges\n",
    "\n",
    "        logging.info(f\"Wove CNAs: {len(nodes)} nodes, {len(edges)} edges.\")\n",
    "\n",
    "    if asked.synthetic_variants:\n",
    "        logging.info(f\"Weave synthetic variants data\")\n",
    "\n",
    "        variants_df = pd.read_csv(asked.synthetic_variants[0], sep='\\t')\n",
    "        preprocessed_variants_df = preprocess_snv.preprocess_variants(variants_df)\n",
    "\n",
    "        mapping_file = \"./decider_genetics/adapters/variants.yaml\"\n",
    "        with open(mapping_file) as fd:\n",
    "            conf = yaml.full_load(fd)\n",
    "\n",
    "        adapter = ontoweaver.tabular.extract_all(df=preprocessed_variants_df, config=conf,separator = None, affix= \"none\")\n",
    "\n",
    "        nodes += adapter.nodes\n",
    "        edges += adapter.edges\n",
    "\n",
    "        logging.info(f\"Wove variants: {len(nodes)} nodes, {len(edges)} edges.\")\n",
    "    \n",
    "    if asked.oncokb:\n",
    "        logging.info(f\"Weave OncoKB data...\")\n",
    "        oncokb_df = pd.read_csv(asked.oncokb[0], sep='\\t')\n",
    "        preprocessed_oncokb_df = preprocess_df.preprocess_oncokb(oncokb_df)\n",
    "\n",
    "        mapping_file = \"./decider_genetics/adapters/oncokb.yaml\"\n",
    "        with open(mapping_file) as fd:\n",
    "            conf = yaml.full_load(fd)\n",
    "\n",
    "        adapter = ontoweaver.tabular.extract_all(df=preprocessed_oncokb_df, config=conf,separator = None, affix= \"none\")\n",
    "\n",
    "        nodes += adapter.nodes\n",
    "        edges += adapter.edges\n",
    "\n",
    "        logging.info(f\"Wove OncoKB: {len(nodes)} nodes, {len(edges)} edges.\")\n",
    "\n",
    "    # # Write everything.\n",
    "    # n, e = ontoweaver.extract(data_mappings)\n",
    "    # nodes += n\n",
    "    # edges += e\n",
    "\n",
    "    import_file = ontoweaver.reconciliate_write(nodes, edges, \"config/biocypher_config.yaml\", \"config/schema_config.yaml\", separator=\", \")\n",
    "    # bc.write_schema_info(as_node=True)\n",
    "\n",
    "    print(import_file)"
   ]
  },
  {
   "cell_type": "code",
   "execution_count": null,
   "id": "4c817eff-2c82-4c57-b07c-be24c5623cb2",
   "metadata": {},
   "outputs": [],
   "source": [
    "! pip install ipywidgets jupyterlab_widgets widgetsnbextension"
   ]
  },
  {
   "cell_type": "markdown",
   "id": "1ecb0976-d690-4f4e-b905-bd34d8be4afb",
   "metadata": {},
   "source": [
    "## Broken attempt to set-up an interactive binary-choice tree that allows the user, by answreing questions about its datasets and goals in the skg construction, to be guided to an illustrational example "
   ]
  },
  {
   "cell_type": "code",
   "execution_count": null,
   "id": "d47a7da7-6ed6-428c-bb2a-ffdbe86d22e2",
   "metadata": {},
   "outputs": [],
   "source": [
    "! pip install ipywidgets jupyterlab_widgets widgetsnbextension"
   ]
  },
  {
   "cell_type": "code",
   "execution_count": null,
   "id": "049d3529-f5c9-4d3d-869a-38144cf5a932",
   "metadata": {},
   "outputs": [],
   "source": [
    "import ipywidgets as widgets\n",
    "widgets.IntSlider()"
   ]
  },
  {
   "cell_type": "code",
   "execution_count": null,
   "id": "c69c7d33-0f90-438d-aff0-40e4136356e3",
   "metadata": {},
   "outputs": [],
   "source": [
    "! jupyter lab build"
   ]
  },
  {
   "cell_type": "code",
   "execution_count": null,
   "id": "a09daaeb-b7f6-4f3b-a400-fc2188be45a8",
   "metadata": {},
   "outputs": [],
   "source": [
    "import ipywidgets as widgets\n",
    "from IPython.display import display\n",
    "\n",
    "dropdown = widgets.Dropdown(\n",
    "    options=[\"Option 1\", \"Option 2\"],\n",
    "    value=\"Option 1\",\n",
    "    description=\"Choose:\"\n",
    ")\n",
    "\n",
    "button = widgets.Button(description=\"Go\")\n",
    "\n",
    "def on_click(b):\n",
    "    print(f\"You chose: {dropdown.value}\")\n",
    "\n",
    "button.on_click(on_click)\n",
    "\n",
    "display(dropdown, button)\n"
   ]
  },
  {
   "cell_type": "code",
   "execution_count": null,
   "id": "e659a0d5-08e7-4dd2-99db-203fdccbc420",
   "metadata": {},
   "outputs": [],
   "source": [
    "tree = {\n",
    "    \"Do you have structured data?\": {\n",
    "        \"Yes\": {\n",
    "            \"Is the schema stable?\": {\n",
    "                \"Yes\": \"Example: SKG with fixed ontology and stable DB schema\",\n",
    "                \"No\": \"Example: OntoWeaver mapping with dynamic schema detection\"\n",
    "            }\n",
    "        },\n",
    "        \"No\": {\n",
    "            \"Is the data semi-structured (e.g., XML, JSON)?\": {\n",
    "                \"Yes\": \"Example: OntoWeaver on XML product feeds\",\n",
    "                \"No\": \"Example: NLP-based SKG from unstructured text\"\n",
    "            }\n",
    "        }\n",
    "    }\n",
    "}\n"
   ]
  },
  {
   "cell_type": "code",
   "execution_count": null,
   "id": "1928ab6f-787e-4bed-9497-2b6f60cce205",
   "metadata": {},
   "outputs": [],
   "source": [
    "import ipywidgets as widgets\n",
    "from IPython.display import display, clear_output\n",
    "\n",
    "def traverse_tree(tree_node):\n",
    "    clear_output()\n",
    "    \n",
    "    if isinstance(tree_node, str):\n",
    "        print(tree_node)\n",
    "        return\n",
    "\n",
    "    question = list(tree_node.keys())[0]\n",
    "    options = list(tree_node[question].keys())\n",
    "    dropdown = widgets.Dropdown(options=options, description=question)\n",
    "    button = widgets.Button(description=\"Next\")\n",
    "\n",
    "    def on_button_clicked(b):\n",
    "        user_choice = dropdown.value\n",
    "        next_node = tree_node[question][user_choice]\n",
    "        traverse_tree(next_node)\n",
    "\n",
    "    display(dropdown, button)\n",
    "    button.on_click(on_button_clicked)\n",
    "\n",
    "traverse_tree(tree)\n"
   ]
  },
  {
   "cell_type": "code",
   "execution_count": null,
   "id": "aa4164ab-62cb-472c-971d-2917f4499bb3",
   "metadata": {},
   "outputs": [],
   "source": [
    "import sys\n",
    "print(sys.executable)"
   ]
  },
  {
   "cell_type": "code",
   "execution_count": null,
   "id": "dcc0e0fc-327b-4555-a261-dc693c7f8a80",
   "metadata": {},
   "outputs": [],
   "source": [
    "! which python"
   ]
  },
  {
   "cell_type": "code",
   "execution_count": null,
   "id": "e767c50b-b65d-4fec-97a7-020c0445b8da",
   "metadata": {},
   "outputs": [],
   "source": [
    "! pyenv which python"
   ]
  },
  {
   "cell_type": "code",
   "execution_count": null,
   "id": "ee633ed1-e463-4914-b665-1314776c306e",
   "metadata": {},
   "outputs": [],
   "source": [
    "!{sys.executable} -m pip install ipywidgets"
   ]
  }
 ],
 "metadata": {
  "kernelspec": {
   "display_name": "decider-genetics-fwdvB9mx-py3.12",
   "language": "python",
   "name": "python3"
  },
  "language_info": {
   "codemirror_mode": {
    "name": "ipython",
    "version": 3
   },
   "file_extension": ".py",
   "mimetype": "text/x-python",
   "name": "python",
   "nbconvert_exporter": "python",
   "pygments_lexer": "ipython3",
   "version": "3.12.8"
  }
 },
 "nbformat": 4,
 "nbformat_minor": 5
}
