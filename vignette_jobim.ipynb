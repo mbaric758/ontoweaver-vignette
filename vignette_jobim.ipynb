{
 "cells": [
  {
   "cell_type": "markdown",
   "id": "759f7b83",
   "metadata": {},
   "source": [
    "# OntoWeaver Vignette\n",
    "OntoWeaver is a tool for constructing Semantic Knowledge Graphs (SKGs) from iterative data, such as CSV files. It allows users to define mappings between the data and an ontology, enabling the creation of a graph that can be queried and analyzed. This notebook provides a step-by-step guide on how to use OntoWeaver to build an SKG from synthetic clinical and genomic data, including single nucleotide variants (SNVs) and copy number alterations (CNAs).\n",
    "\n",
    "## Semantic Knowledge Graphs\n",
    "\n",
    "\n",
    "## Description of the data\n",
    "\n",
    "TODO: Subset databases so that same alterations are present in all three databases, so we can connect the information in the graph.\n",
    "\n",
    "The examples in this vignette are based on anonymized, shuffled and subsetted data from three databases:\n",
    "- **Single Nucleotide Variants (SNVs)**: A database containing information about single nucleotide variants found in ovarian cancer patients.\n",
    "- **Copy Number Alterations (CNAs)**: A database containing information about copy number alterations found in ovarian cancer patients.\n",
    "- **Treatments (OncoKB)**: A [public database](https://www.oncokb.org/) that contains biological and clinical information about genomic alterations in cancer.\n",
    "\n",
    "### Single Nucleotide Variants (SNVs)\n",
    "\n",
    "### Copy Number Alterations (CNAs)\n",
    "\n",
    "### Treatments (OncoKB)\n"
   ]
  },
  {
   "cell_type": "markdown",
   "id": "dd828e91",
   "metadata": {},
   "source": [
    "## Set-up"
   ]
  },
  {
   "cell_type": "markdown",
   "id": "ff2c5b06",
   "metadata": {},
   "source": [
    "### Installing dependencies\n",
    "\n",
    "We use *Poetry* to manage dependencies and virtual environments. If you don't have it installed, you can install it with:"
   ]
  },
  {
   "cell_type": "code",
   "id": "005b2b41",
   "metadata": {
    "ExecuteTime": {
     "end_time": "2025-06-26T09:32:08.419144Z",
     "start_time": "2025-06-26T09:32:06.954057Z"
    }
   },
   "source": "! poetry install",
   "outputs": [
    {
     "name": "stdout",
     "output_type": "stream",
     "text": [
      "\u001B[34mInstalling dependencies from lock file\u001B[39m\r\n",
      "\r\n",
      "No dependencies to install or update\r\n",
      "\r\n",
      "\u001B[39;1mInstalling\u001B[39;22m the current project: \u001B[36montoweaver-vignette\u001B[39m (\u001B[39;1m0.0.1\u001B[39;22m)\r\n",
      "\u001B[31;1mError: The current project could not be installed: No file/folder found for package ontoweaver-vignette\r\n",
      "If you do not want to install the current project use \u001B[39;22m\u001B[36m--no-root\u001B[39m\u001B[31;1m.\r\n",
      "If you want to use Poetry only for dependency management but not for packaging, you can disable package mode by setting \u001B[39;22m\u001B[36mpackage-mode = false\u001B[39m\u001B[31;1m in your pyproject.toml file.\r\n",
      "If you did intend to install the current project, you may need to set `packages` in your pyproject.toml file.\r\n",
      "\u001B[39;22m\r\n"
     ]
    }
   ],
   "execution_count": 18
  },
  {
   "cell_type": "markdown",
   "id": "58e75d71",
   "metadata": {},
   "source": [
    "So far, the OntoWeaver package works under python 3.12. If you have multiple python versions installed, you can direct *Poetry* to use the correct one with the following command:\n",
    "`! poetry env use $(which python3.12)`"
   ]
  },
  {
   "cell_type": "markdown",
   "id": "8efccb63",
   "metadata": {},
   "source": [
    "### Starting the *poetry* environment"
   ]
  },
  {
   "cell_type": "code",
   "id": "dde7127a",
   "metadata": {
    "ExecuteTime": {
     "end_time": "2025-06-26T09:32:27.690668Z",
     "start_time": "2025-06-26T09:32:27.288462Z"
    }
   },
   "source": "! eval $(poetry env activate) # new implementation of `poetry shell`",
   "outputs": [],
   "execution_count": 20
  },
  {
   "cell_type": "markdown",
   "id": "6a3b9b31",
   "metadata": {},
   "source": [
    "## SKG construction\n",
    "\n",
    "### 1. Simple mapping using SNVs"
   ]
  },
  {
   "cell_type": "markdown",
   "id": "36ce3371",
   "metadata": {},
   "source": "We want to build a KG with a simple schema, encompassing patient IDs, the IDs of the samples they provided, the sequence variants they have, and the genes those variants are in. We first start by defining the schema of the desired graph, which would in our case look like this:"
  },
  {
   "metadata": {
    "ExecuteTime": {
     "end_time": "2025-06-26T08:53:41.807306Z",
     "start_time": "2025-06-26T08:53:41.800493Z"
    }
   },
   "cell_type": "code",
   "source": [
    "# from IPython.display import SVG, display\n",
    "# display(SVG(\"figures/jobim/Example_2.svg\"))"
   ],
   "id": "8fa0a00ea8dc3853",
   "outputs": [
    {
     "data": {
      "text/plain": [
       "<IPython.core.display.SVG object>"
      ],
      "image/svg+xml": "<svg xmlns=\"http://www.w3.org/2000/svg\" xmlns:xlink=\"http://www.w3.org/1999/xlink\" style=\"background: transparent; background-color: transparent; color-scheme: light dark;\" version=\"1.1\" width=\"1051px\" height=\"108px\" viewBox=\"-0.5 -0.5 1051 108\" content=\"&lt;mxfile host=&quot;app.diagrams.net&quot; agent=&quot;Mozilla/5.0 (Macintosh; Intel Mac OS X 10.15; rv:128.0) Gecko/20100101 Firefox/128.0&quot; version=&quot;27.1.6&quot;&gt;\n  &lt;diagram name=&quot;Page-1&quot; id=&quot;JVlSjN_wQYm568Z5ggQ7&quot;&gt;\n    &lt;mxGraphModel dx=&quot;1253&quot; dy=&quot;723&quot; grid=&quot;1&quot; gridSize=&quot;10&quot; guides=&quot;1&quot; tooltips=&quot;1&quot; connect=&quot;1&quot; arrows=&quot;1&quot; fold=&quot;1&quot; page=&quot;1&quot; pageScale=&quot;1&quot; pageWidth=&quot;827&quot; pageHeight=&quot;1169&quot; math=&quot;0&quot; shadow=&quot;0&quot;&gt;\n      &lt;root&gt;\n        &lt;mxCell id=&quot;0&quot; /&gt;\n        &lt;mxCell id=&quot;1&quot; parent=&quot;0&quot; /&gt;\n        &lt;mxCell id=&quot;RggRtWH31ql4cbOziFd6-1&quot; value=&quot;Patient&quot; style=&quot;rounded=1;whiteSpace=wrap;html=1;&quot; vertex=&quot;1&quot; parent=&quot;1&quot;&gt;\n          &lt;mxGeometry x=&quot;40&quot; y=&quot;90&quot; width=&quot;120&quot; height=&quot;60&quot; as=&quot;geometry&quot; /&gt;\n        &lt;/mxCell&gt;\n        &lt;mxCell id=&quot;RggRtWH31ql4cbOziFd6-2&quot; value=&quot;Sample&quot; style=&quot;rounded=1;whiteSpace=wrap;html=1;&quot; vertex=&quot;1&quot; parent=&quot;1&quot;&gt;\n          &lt;mxGeometry x=&quot;340&quot; y=&quot;90&quot; width=&quot;120&quot; height=&quot;60&quot; as=&quot;geometry&quot; /&gt;\n        &lt;/mxCell&gt;\n        &lt;mxCell id=&quot;RggRtWH31ql4cbOziFd6-3&quot; value=&quot;Alteration&quot; style=&quot;rounded=1;whiteSpace=wrap;html=1;&quot; vertex=&quot;1&quot; parent=&quot;1&quot;&gt;\n          &lt;mxGeometry x=&quot;660&quot; y=&quot;90&quot; width=&quot;120&quot; height=&quot;60&quot; as=&quot;geometry&quot; /&gt;\n        &lt;/mxCell&gt;\n        &lt;mxCell id=&quot;RggRtWH31ql4cbOziFd6-4&quot; value=&quot;Gene&quot; style=&quot;rounded=1;whiteSpace=wrap;html=1;&quot; vertex=&quot;1&quot; parent=&quot;1&quot;&gt;\n          &lt;mxGeometry x=&quot;970&quot; y=&quot;90&quot; width=&quot;120&quot; height=&quot;60&quot; as=&quot;geometry&quot; /&gt;\n        &lt;/mxCell&gt;\n        &lt;mxCell id=&quot;RggRtWH31ql4cbOziFd6-5&quot; value=&quot;&quot; style=&quot;endArrow=classic;html=1;rounded=0;entryX=0;entryY=0.5;entryDx=0;entryDy=0;&quot; edge=&quot;1&quot; parent=&quot;1&quot; target=&quot;RggRtWH31ql4cbOziFd6-2&quot;&gt;\n          &lt;mxGeometry width=&quot;50&quot; height=&quot;50&quot; relative=&quot;1&quot; as=&quot;geometry&quot;&gt;\n            &lt;mxPoint x=&quot;160&quot; y=&quot;120&quot; as=&quot;sourcePoint&quot; /&gt;\n            &lt;mxPoint x=&quot;260&quot; y=&quot;119.5&quot; as=&quot;targetPoint&quot; /&gt;\n            &lt;Array as=&quot;points&quot;&gt;\n              &lt;mxPoint x=&quot;220&quot; y=&quot;119.5&quot; /&gt;\n            &lt;/Array&gt;\n          &lt;/mxGeometry&gt;\n        &lt;/mxCell&gt;\n        &lt;mxCell id=&quot;RggRtWH31ql4cbOziFd6-6&quot; value=&quot;&quot; style=&quot;endArrow=classic;html=1;rounded=0;entryX=0;entryY=0.5;entryDx=0;entryDy=0;&quot; edge=&quot;1&quot; parent=&quot;1&quot; target=&quot;RggRtWH31ql4cbOziFd6-3&quot;&gt;\n          &lt;mxGeometry width=&quot;50&quot; height=&quot;50&quot; relative=&quot;1&quot; as=&quot;geometry&quot;&gt;\n            &lt;mxPoint x=&quot;460&quot; y=&quot;119.5&quot; as=&quot;sourcePoint&quot; /&gt;\n            &lt;mxPoint x=&quot;530&quot; y=&quot;119.5&quot; as=&quot;targetPoint&quot; /&gt;\n            &lt;Array as=&quot;points&quot;&gt;\n              &lt;mxPoint x=&quot;490&quot; y=&quot;119.5&quot; /&gt;\n            &lt;/Array&gt;\n          &lt;/mxGeometry&gt;\n        &lt;/mxCell&gt;\n        &lt;mxCell id=&quot;RggRtWH31ql4cbOziFd6-7&quot; value=&quot;&amp;lt;div style=&amp;quot;color: rgb(188, 190, 196);&amp;quot;&amp;gt;&amp;lt;pre style=&amp;quot;font-family: &amp;amp;quot;JetBrains Mono&amp;amp;quot;, monospace;&amp;quot;&amp;gt;&amp;lt;font style=&amp;quot;color: rgb(0, 0, 0);&amp;quot;&amp;gt;patient carries sample&amp;lt;/font&amp;gt;&amp;lt;/pre&amp;gt;&amp;lt;/div&amp;gt;&quot; style=&quot;text;html=1;align=center;verticalAlign=middle;resizable=0;points=[];autosize=1;strokeColor=none;fillColor=none;labelBackgroundColor=none;&quot; vertex=&quot;1&quot; parent=&quot;1&quot;&gt;\n          &lt;mxGeometry x=&quot;160&quot; y=&quot;80&quot; width=&quot;180&quot; height=&quot;50&quot; as=&quot;geometry&quot; /&gt;\n        &lt;/mxCell&gt;\n        &lt;mxCell id=&quot;RggRtWH31ql4cbOziFd6-10&quot; value=&quot;&amp;lt;div style=&amp;quot;color: rgb(188, 190, 196);&amp;quot;&amp;gt;&amp;lt;pre style=&amp;quot;font-family: &amp;amp;quot;JetBrains Mono&amp;amp;quot;, monospace;&amp;quot;&amp;gt;&amp;lt;font&amp;gt;&amp;lt;span style=&amp;quot;color: rgb(0, 0, 0);&amp;quot;&amp;gt;sample carries alteration&amp;lt;/span&amp;gt;&amp;lt;/font&amp;gt;&amp;lt;/pre&amp;gt;&amp;lt;/div&amp;gt;&quot; style=&quot;text;whiteSpace=wrap;html=1;&quot; vertex=&quot;1&quot; parent=&quot;1&quot;&gt;\n          &lt;mxGeometry x=&quot;470&quot; y=&quot;80&quot; width=&quot;230&quot; height=&quot;70&quot; as=&quot;geometry&quot; /&gt;\n        &lt;/mxCell&gt;\n        &lt;mxCell id=&quot;RggRtWH31ql4cbOziFd6-11&quot; value=&quot;&quot; style=&quot;endArrow=classic;html=1;rounded=0;entryX=0;entryY=0.5;entryDx=0;entryDy=0;exitX=1;exitY=0.5;exitDx=0;exitDy=0;&quot; edge=&quot;1&quot; parent=&quot;1&quot; source=&quot;RggRtWH31ql4cbOziFd6-3&quot; target=&quot;RggRtWH31ql4cbOziFd6-4&quot;&gt;\n          &lt;mxGeometry width=&quot;50&quot; height=&quot;50&quot; relative=&quot;1&quot; as=&quot;geometry&quot;&gt;\n            &lt;mxPoint x=&quot;719.5&quot; y=&quot;150&quot; as=&quot;sourcePoint&quot; /&gt;\n            &lt;mxPoint x=&quot;490&quot; y=&quot;260&quot; as=&quot;targetPoint&quot; /&gt;\n          &lt;/mxGeometry&gt;\n        &lt;/mxCell&gt;\n        &lt;mxCell id=&quot;RggRtWH31ql4cbOziFd6-17&quot; value=&quot;&amp;lt;div style=&amp;quot;color: rgb(188, 190, 196);&amp;quot;&amp;gt;&amp;lt;pre style=&amp;quot;font-family: &amp;amp;quot;JetBrains Mono&amp;amp;quot;, monospace;&amp;quot;&amp;gt;&amp;lt;font&amp;gt;&amp;lt;span style=&amp;quot;color: rgb(0, 0, 0);&amp;quot;&amp;gt;alteration affects gene&amp;lt;br&amp;gt;&amp;lt;/span&amp;gt;&amp;lt;/font&amp;gt;&amp;lt;/pre&amp;gt;&amp;lt;/div&amp;gt;&quot; style=&quot;text;whiteSpace=wrap;html=1;&quot; vertex=&quot;1&quot; parent=&quot;1&quot;&gt;\n          &lt;mxGeometry x=&quot;790&quot; y=&quot;80&quot; width=&quot;230&quot; height=&quot;70&quot; as=&quot;geometry&quot; /&gt;\n        &lt;/mxCell&gt;\n        &lt;mxCell id=&quot;RggRtWH31ql4cbOziFd6-18&quot; value=&quot;- mutationEffectDescription&quot; style=&quot;text;html=1;align=center;verticalAlign=middle;resizable=0;points=[];autosize=1;strokeColor=none;fillColor=none;&quot; vertex=&quot;1&quot; parent=&quot;1&quot;&gt;\n          &lt;mxGeometry x=&quot;660&quot; y=&quot;158&quot; width=&quot;170&quot; height=&quot;30&quot; as=&quot;geometry&quot; /&gt;\n        &lt;/mxCell&gt;\n      &lt;/root&gt;\n    &lt;/mxGraphModel&gt;\n  &lt;/diagram&gt;\n&lt;/mxfile&gt;\n\"><defs/><g><g data-cell-id=\"0\"><g data-cell-id=\"1\"><g data-cell-id=\"RggRtWH31ql4cbOziFd6-1\"><g><rect x=\"0\" y=\"9\" width=\"120\" height=\"60\" rx=\"9\" ry=\"9\" fill=\"#ffffff\" style=\"fill: light-dark(#ffffff, var(--ge-dark-color, #121212)); stroke: light-dark(rgb(0, 0, 0), rgb(255, 255, 255));\" stroke=\"#000000\" pointer-events=\"all\"/></g><g><g transform=\"translate(-0.5 -0.5)\"><switch><foreignObject style=\"overflow: visible; text-align: left;\" pointer-events=\"none\" width=\"100%\" height=\"100%\" requiredFeatures=\"http://www.w3.org/TR/SVG11/feature#Extensibility\"><div xmlns=\"http://www.w3.org/1999/xhtml\" style=\"display: flex; align-items: unsafe center; justify-content: unsafe center; width: 118px; height: 1px; padding-top: 39px; margin-left: 1px;\"><div style=\"box-sizing: border-box; font-size: 0; text-align: center; color: #000000; \"><div style=\"display: inline-block; font-size: 12px; font-family: &quot;Helvetica&quot;; color: light-dark(#000000, #ffffff); line-height: 1.2; pointer-events: all; white-space: normal; word-wrap: normal; \">Patient</div></div></div></foreignObject><text x=\"60\" y=\"43\" fill=\"light-dark(#000000, #ffffff)\" font-family=\"&quot;Helvetica&quot;\" font-size=\"12px\" text-anchor=\"middle\">Patient</text></switch></g></g></g><g data-cell-id=\"RggRtWH31ql4cbOziFd6-2\"><g><rect x=\"300\" y=\"9\" width=\"120\" height=\"60\" rx=\"9\" ry=\"9\" fill=\"#ffffff\" style=\"fill: light-dark(#ffffff, var(--ge-dark-color, #121212)); stroke: light-dark(rgb(0, 0, 0), rgb(255, 255, 255));\" stroke=\"#000000\" pointer-events=\"all\"/></g><g><g transform=\"translate(-0.5 -0.5)\"><switch><foreignObject style=\"overflow: visible; text-align: left;\" pointer-events=\"none\" width=\"100%\" height=\"100%\" requiredFeatures=\"http://www.w3.org/TR/SVG11/feature#Extensibility\"><div xmlns=\"http://www.w3.org/1999/xhtml\" style=\"display: flex; align-items: unsafe center; justify-content: unsafe center; width: 118px; height: 1px; padding-top: 39px; margin-left: 301px;\"><div style=\"box-sizing: border-box; font-size: 0; text-align: center; color: #000000; \"><div style=\"display: inline-block; font-size: 12px; font-family: &quot;Helvetica&quot;; color: light-dark(#000000, #ffffff); line-height: 1.2; pointer-events: all; white-space: normal; word-wrap: normal; \">Sample</div></div></div></foreignObject><text x=\"360\" y=\"43\" fill=\"light-dark(#000000, #ffffff)\" font-family=\"&quot;Helvetica&quot;\" font-size=\"12px\" text-anchor=\"middle\">Sample</text></switch></g></g></g><g data-cell-id=\"RggRtWH31ql4cbOziFd6-3\"><g><rect x=\"620\" y=\"9\" width=\"120\" height=\"60\" rx=\"9\" ry=\"9\" fill=\"#ffffff\" style=\"fill: light-dark(#ffffff, var(--ge-dark-color, #121212)); stroke: light-dark(rgb(0, 0, 0), rgb(255, 255, 255));\" stroke=\"#000000\" pointer-events=\"all\"/></g><g><g transform=\"translate(-0.5 -0.5)\"><switch><foreignObject style=\"overflow: visible; text-align: left;\" pointer-events=\"none\" width=\"100%\" height=\"100%\" requiredFeatures=\"http://www.w3.org/TR/SVG11/feature#Extensibility\"><div xmlns=\"http://www.w3.org/1999/xhtml\" style=\"display: flex; align-items: unsafe center; justify-content: unsafe center; width: 118px; height: 1px; padding-top: 39px; margin-left: 621px;\"><div style=\"box-sizing: border-box; font-size: 0; text-align: center; color: #000000; \"><div style=\"display: inline-block; font-size: 12px; font-family: &quot;Helvetica&quot;; color: light-dark(#000000, #ffffff); line-height: 1.2; pointer-events: all; white-space: normal; word-wrap: normal; \">Alteration</div></div></div></foreignObject><text x=\"680\" y=\"43\" fill=\"light-dark(#000000, #ffffff)\" font-family=\"&quot;Helvetica&quot;\" font-size=\"12px\" text-anchor=\"middle\">Alteration</text></switch></g></g></g><g data-cell-id=\"RggRtWH31ql4cbOziFd6-4\"><g><rect x=\"930\" y=\"9\" width=\"120\" height=\"60\" rx=\"9\" ry=\"9\" fill=\"#ffffff\" style=\"fill: light-dark(#ffffff, var(--ge-dark-color, #121212)); stroke: light-dark(rgb(0, 0, 0), rgb(255, 255, 255));\" stroke=\"#000000\" pointer-events=\"all\"/></g><g><g transform=\"translate(-0.5 -0.5)\"><switch><foreignObject style=\"overflow: visible; text-align: left;\" pointer-events=\"none\" width=\"100%\" height=\"100%\" requiredFeatures=\"http://www.w3.org/TR/SVG11/feature#Extensibility\"><div xmlns=\"http://www.w3.org/1999/xhtml\" style=\"display: flex; align-items: unsafe center; justify-content: unsafe center; width: 118px; height: 1px; padding-top: 39px; margin-left: 931px;\"><div style=\"box-sizing: border-box; font-size: 0; text-align: center; color: #000000; \"><div style=\"display: inline-block; font-size: 12px; font-family: &quot;Helvetica&quot;; color: light-dark(#000000, #ffffff); line-height: 1.2; pointer-events: all; white-space: normal; word-wrap: normal; \">Gene</div></div></div></foreignObject><text x=\"990\" y=\"43\" fill=\"light-dark(#000000, #ffffff)\" font-family=\"&quot;Helvetica&quot;\" font-size=\"12px\" text-anchor=\"middle\">Gene</text></switch></g></g></g><g data-cell-id=\"RggRtWH31ql4cbOziFd6-5\"><g><path d=\"M 120 39 L 180 38.5 L 293.63 38.97\" fill=\"none\" stroke=\"#000000\" style=\"stroke: light-dark(rgb(0, 0, 0), rgb(255, 255, 255));\" stroke-miterlimit=\"10\" pointer-events=\"stroke\"/><path d=\"M 298.88 39 L 291.87 42.47 L 293.63 38.97 L 291.9 35.47 Z\" fill=\"#000000\" style=\"fill: light-dark(rgb(0, 0, 0), rgb(255, 255, 255)); stroke: light-dark(rgb(0, 0, 0), rgb(255, 255, 255));\" stroke=\"#000000\" stroke-miterlimit=\"10\" pointer-events=\"all\"/></g></g><g data-cell-id=\"RggRtWH31ql4cbOziFd6-6\"><g><path d=\"M 420 38.5 L 450 38.5 L 613.63 38.98\" fill=\"none\" stroke=\"#000000\" style=\"stroke: light-dark(rgb(0, 0, 0), rgb(255, 255, 255));\" stroke-miterlimit=\"10\" pointer-events=\"stroke\"/><path d=\"M 618.88 39 L 611.87 42.48 L 613.63 38.98 L 611.89 35.48 Z\" fill=\"#000000\" style=\"fill: light-dark(rgb(0, 0, 0), rgb(255, 255, 255)); stroke: light-dark(rgb(0, 0, 0), rgb(255, 255, 255));\" stroke=\"#000000\" stroke-miterlimit=\"10\" pointer-events=\"all\"/></g></g><g data-cell-id=\"RggRtWH31ql4cbOziFd6-7\"><g><rect x=\"120\" y=\"-1\" width=\"180\" height=\"50\" fill=\"none\" stroke=\"none\" pointer-events=\"all\"/></g><g><g transform=\"translate(-0.5 -0.5)\"><switch><foreignObject style=\"overflow: visible; text-align: left;\" pointer-events=\"none\" width=\"100%\" height=\"100%\" requiredFeatures=\"http://www.w3.org/TR/SVG11/feature#Extensibility\"><div xmlns=\"http://www.w3.org/1999/xhtml\" style=\"display: flex; align-items: unsafe center; justify-content: unsafe center; width: 1px; height: 1px; padding-top: 24px; margin-left: 210px;\"><div style=\"box-sizing: border-box; font-size: 0; text-align: center; color: #000000; \"><div style=\"display: inline-block; font-size: 12px; font-family: &quot;Helvetica&quot;; color: light-dark(#000000, #ffffff); line-height: 1.2; pointer-events: all; white-space: nowrap; \"><div style=\"color: light-dark(rgb(188, 190, 196), rgb(73, 74, 79));\"><pre style=\"font-family: &quot;JetBrains Mono&quot;, monospace;\"><font style=\"color: light-dark(rgb(0, 0, 0), rgb(237, 237, 237));\">patient carries sample</font></pre></div></div></div></div></foreignObject><text x=\"210\" y=\"28\" fill=\"light-dark(#000000, #ffffff)\" font-family=\"&quot;Helvetica&quot;\" font-size=\"12px\" text-anchor=\"middle\">patient carries sample</text></switch></g></g></g><g data-cell-id=\"RggRtWH31ql4cbOziFd6-10\"><g><rect x=\"430\" y=\"-1\" width=\"230\" height=\"70\" fill=\"none\" stroke=\"none\" pointer-events=\"all\"/></g><g><g transform=\"translate(-0.5 -0.5)\"><switch><foreignObject style=\"overflow: visible; text-align: left;\" pointer-events=\"none\" width=\"100%\" height=\"100%\" requiredFeatures=\"http://www.w3.org/TR/SVG11/feature#Extensibility\"><div xmlns=\"http://www.w3.org/1999/xhtml\" style=\"display: flex; align-items: unsafe flex-start; justify-content: unsafe flex-start; width: 228px; height: 1px; padding-top: 6px; margin-left: 432px;\"><div style=\"box-sizing: border-box; font-size: 0; text-align: left; color: #000000; \"><div style=\"display: inline-block; font-size: 12px; font-family: &quot;Helvetica&quot;; color: light-dark(#000000, #ffffff); line-height: 1.2; pointer-events: all; white-space: normal; word-wrap: normal; \"><div style=\"color: light-dark(rgb(188, 190, 196), rgb(73, 74, 79));\"><pre style=\"font-family: &quot;JetBrains Mono&quot;, monospace;\"><font><span style=\"color: light-dark(rgb(0, 0, 0), rgb(237, 237, 237));\">sample carries alteration</span></font></pre></div></div></div></div></foreignObject><text x=\"432\" y=\"18\" fill=\"light-dark(#000000, #ffffff)\" font-family=\"&quot;Helvetica&quot;\" font-size=\"12px\">sample carries alteration</text></switch></g></g></g><g data-cell-id=\"RggRtWH31ql4cbOziFd6-11\"><g><path d=\"M 740 39 L 923.63 39\" fill=\"none\" stroke=\"#000000\" style=\"stroke: light-dark(rgb(0, 0, 0), rgb(255, 255, 255));\" stroke-miterlimit=\"10\" pointer-events=\"stroke\"/><path d=\"M 928.88 39 L 921.88 42.5 L 923.63 39 L 921.88 35.5 Z\" fill=\"#000000\" style=\"fill: light-dark(rgb(0, 0, 0), rgb(255, 255, 255)); stroke: light-dark(rgb(0, 0, 0), rgb(255, 255, 255));\" stroke=\"#000000\" stroke-miterlimit=\"10\" pointer-events=\"all\"/></g></g><g data-cell-id=\"RggRtWH31ql4cbOziFd6-17\"><g><rect x=\"750\" y=\"-1\" width=\"230\" height=\"70\" fill=\"none\" stroke=\"none\" pointer-events=\"all\"/></g><g><g transform=\"translate(-0.5 -0.5)\"><switch><foreignObject style=\"overflow: visible; text-align: left;\" pointer-events=\"none\" width=\"100%\" height=\"100%\" requiredFeatures=\"http://www.w3.org/TR/SVG11/feature#Extensibility\"><div xmlns=\"http://www.w3.org/1999/xhtml\" style=\"display: flex; align-items: unsafe flex-start; justify-content: unsafe flex-start; width: 228px; height: 1px; padding-top: 6px; margin-left: 752px;\"><div style=\"box-sizing: border-box; font-size: 0; text-align: left; color: #000000; \"><div style=\"display: inline-block; font-size: 12px; font-family: &quot;Helvetica&quot;; color: light-dark(#000000, #ffffff); line-height: 1.2; pointer-events: all; white-space: normal; word-wrap: normal; \"><div style=\"color: light-dark(rgb(188, 190, 196), rgb(73, 74, 79));\"><pre style=\"font-family: &quot;JetBrains Mono&quot;, monospace;\"><font><span style=\"color: light-dark(rgb(0, 0, 0), rgb(237, 237, 237));\">alteration affects gene<br/></span></font></pre></div></div></div></div></foreignObject><text x=\"752\" y=\"18\" fill=\"light-dark(#000000, #ffffff)\" font-family=\"&quot;Helvetica&quot;\" font-size=\"12px\">alteration affects gene\n</text></switch></g></g></g><g data-cell-id=\"RggRtWH31ql4cbOziFd6-18\"><g><rect x=\"620\" y=\"77\" width=\"170\" height=\"30\" fill=\"none\" stroke=\"none\" pointer-events=\"all\"/></g><g><g transform=\"translate(-0.5 -0.5)\"><switch><foreignObject style=\"overflow: visible; text-align: left;\" pointer-events=\"none\" width=\"100%\" height=\"100%\" requiredFeatures=\"http://www.w3.org/TR/SVG11/feature#Extensibility\"><div xmlns=\"http://www.w3.org/1999/xhtml\" style=\"display: flex; align-items: unsafe center; justify-content: unsafe center; width: 1px; height: 1px; padding-top: 92px; margin-left: 705px;\"><div style=\"box-sizing: border-box; font-size: 0; text-align: center; color: #000000; \"><div style=\"display: inline-block; font-size: 12px; font-family: &quot;Helvetica&quot;; color: light-dark(#000000, #ffffff); line-height: 1.2; pointer-events: all; white-space: nowrap; \">- mutationEffectDescription</div></div></div></foreignObject><text x=\"705\" y=\"96\" fill=\"light-dark(#000000, #ffffff)\" font-family=\"&quot;Helvetica&quot;\" font-size=\"12px\" text-anchor=\"middle\">- mutationEffectDescription</text></switch></g></g></g></g></g></g><switch><g requiredFeatures=\"http://www.w3.org/TR/SVG11/feature#Extensibility\"/><a transform=\"translate(0,-5)\" xlink:href=\"https://www.drawio.com/doc/faq/svg-export-text-problems\" target=\"_blank\"><text text-anchor=\"middle\" font-size=\"10px\" x=\"50%\" y=\"100%\">Text is not SVG - cannot display</text></a></switch></svg>"
     },
     "metadata": {},
     "output_type": "display_data"
    }
   ],
   "execution_count": 11
  },
  {
   "metadata": {},
   "cell_type": "markdown",
   "source": [
    "After defining the schema, we need to define the mappings between the data and the ontology. The mappings will specify how each column in the CSV files corresponds to a node or edge in the graph. This is defined in the OntoWeaver mapping files, which are YAML files that describe the structure of the data and how it should be transformed into nodes and edges in the graph.\n",
    "\n",
    "Below we display the mapping file we use for the build up of the first example graph of the SNV database."
   ],
   "id": "b8f3e6e3b1a7f04e"
  },
  {
   "metadata": {
    "ExecuteTime": {
     "end_time": "2025-06-26T09:32:31.497045Z",
     "start_time": "2025-06-26T09:32:31.490622Z"
    }
   },
   "cell_type": "code",
   "source": [
    "import yaml\n",
    "from IPython.display import display, JSON\n",
    "\n",
    "# Read the file content.\n",
    "with open(\"jobim/1_Simple_mapping/snv.yaml\", \"r\") as file:\n",
    "    content = yaml.safe_load(file)\n",
    "\n",
    "# Display the content.\n",
    "display(JSON(content))"
   ],
   "id": "80e8f92984999e9",
   "outputs": [
    {
     "data": {
      "text/plain": [
       "<IPython.core.display.JSON object>"
      ],
      "application/json": {
       "row": {
        "map": {
         "columns": [
          "patient_id"
         ],
         "to_subject": "patient"
        }
       },
       "transformers": [
        {
         "map": {
          "columns": [
           "sample_id"
          ],
          "to_object": "sample",
          "via_relation": "patient_carries_sample"
         }
        },
        {
         "map": {
          "columns": [
           "alteration"
          ],
          "from_subject": "sample",
          "to_object": "alteration",
          "via_relation": "sample_carries_alteration"
         }
        },
        {
         "map": {
          "columns": [
           "hugoSymbol"
          ],
          "from_subject": "alteration",
          "to_object": "gene",
          "via_relation": "alteration_affects_gene"
         }
        }
       ]
      }
     },
     "metadata": {
      "application/json": {
       "expanded": false,
       "root": "root"
      }
     },
     "output_type": "display_data"
    }
   ],
   "execution_count": 21
  },
  {
   "metadata": {},
   "cell_type": "markdown",
   "source": [
    "OntoWeaver maps the databases row by row, so the mapping file first specifies how the subject node of each row mapped will be created. We first define that the subject ID will be created from the `patient_id`, using the `columns` keyword, and that the node will be of type `patient`, using the `to_subject` keyword.\n",
    "\n",
    "For each column we want to map, we must define the strategy of the extraction of the values from each cell of the column, which will serve as the ID of the created node. For this, we use `transformers`. OntoWeaver provides a robust set of transformers that can be used to extract and transform data from the columns of the CSV files. These transformers can be used to manipulate the data in various ways, such as combining several column values, splitting concatenated values, and many more. Detailed description of the transformers can be found in the [OntoWeaver documentation](https://ontoweaver.readthedocs.io/en/latest/readme_sections/mapping_api.html#available-transformers). Users are also able to program their own transformers to suit their specific needs.\n",
    "\n",
    "For simplicity, in this first section we keep to the usage of only the `map` transformer, which simply extracts the data as it is from the cells of the defined column. For each transformer we define the `columns` to use for the extraction of the data, as well as the `to_object` keyword, which defines the type of node to be created from the extracted data, such as `gene` or `sample`. In addition to that, we also define the edge which is connecting the created nodes to the subject node, using the `via_relation` keyword.\n",
    "\n",
    "In some cases we do not want to use the default subject type for each row, but rather use a different column as the start point of an edge. In this case, we can use the `from_subject` keyword to specify the type from which we want the edge to start from. For example, in the mapping file above, we use the `from_subject` keyword to create an edge type `alteration_affects_gene` from the `alteration` node, to the `gene` node, thus voiding the start of the edge from the `patient` node. which is the default subject type for each row.\n",
    "\n",
    "Below we display the first few rows of our initial dataset of Single Nucleotide Variants. The database contains patient IDs, sample IDs, gene names, and the SNVs found in those genes. The data is anonymized and contains a subset of the original data for the first example use case."
   ],
   "id": "e726bda32657fca4"
  },
  {
   "metadata": {},
   "cell_type": "markdown",
   "source": "After having identified the general structure of the graph and the definition of the mappings, we must now define the BioCypher schema, which is a YAML file that describes the structure of the graph. The schema defines the nodes and edges in the graph, their properties, and how they are related to each other. You can find more information about the BioCypher schema in the [BioCypher documentation](https://biocypher.org/BioCypher/learn/tutorials/pandas_tutorial/#schema-configuration).",
   "id": "93ea6b14ce4442f5"
  },
  {
   "metadata": {
    "ExecuteTime": {
     "end_time": "2025-06-26T09:32:34.544673Z",
     "start_time": "2025-06-26T09:32:34.535143Z"
    }
   },
   "cell_type": "code",
   "source": [
    "import yaml\n",
    "from IPython.display import display, JSON\n",
    "\n",
    "# Read the file content.\n",
    "with open(\"jobim/1_Simple_mapping/biocypher_schema.yaml\", \"r\") as file:\n",
    "    content = yaml.safe_load(file)\n",
    "\n",
    "# Display the content.\n",
    "display(JSON(content))"
   ],
   "id": "15d1e2a3bc227e98",
   "outputs": [
    {
     "data": {
      "text/plain": [
       "<IPython.core.display.JSON object>"
      ],
      "application/json": {
       "alteration": {
        "is_a": "sequence variant",
        "represented_as": "node",
        "label_in_input": "alteration"
       },
       "disease": {
        "represented_as": "node",
        "label_in_input": "disease"
       },
       "drug": {
        "represented_as": "node",
        "label_in_input": "drug"
       },
       "gene": {
        "represented_as": "node",
        "label_in_input": "gene"
       },
       "patient": {
        "represented_as": "node",
        "label_in_input": "patient",
        "synonym_for": "case"
       },
       "sample": {
        "is_a": "material sample",
        "respresented_as": "node",
        "label_in_input": "sample"
       },
       "carries": {
        "is_a": "causes",
        "represented_as": "edge",
        "label_in_input": "carries"
       },
       "patient carries sample": {
        "is_a": "carries",
        "represented_as": "edge",
        "label_in_input": "patient_carries_sample",
        "source": "patient",
        "target": "sample"
       },
       "sample carries alteration": {
        "is_a": "carries",
        "represented_as": "edge",
        "label_in_input": "sample_carries_alteration",
        "source": "sample",
        "target": "alteration"
       },
       "alteration causes functional outcome": {
        "is_a": "causes",
        "represented_as": "edg",
        "label_in_input": "alteration_causes_functional_outcome",
        "source": "alteration",
        "target": "functional outcome"
       },
       "alteration biomarker for drug": {
        "is_a": "biomarker for",
        "represented_as": "edge",
        "label_in_input": "alteration_biomarker_for_drug",
        "source": "alteration",
        "target": "drug"
       },
       "patient has treatment": {
        "is_a": "association",
        "represented_as": "edge",
        "label_in_input": "patient_has_treatment",
        "source": "patient",
        "target": "treatment"
       },
       "alteration affects gene": {
        "is_a": "affects",
        "represented_as": "edge",
        "label_in_input": "alteration_affects_gene",
        "source": "alteration",
        "target": "gene"
       }
      }
     },
     "metadata": {
      "application/json": {
       "expanded": false,
       "root": "root"
      }
     },
     "output_type": "display_data"
    }
   ],
   "execution_count": 22
  },
  {
   "metadata": {},
   "cell_type": "markdown",
   "source": [
    "Below we show the OntoWeaver CLI command, which is used to run the mapping process. The command specifies the input CSV file, the mapping file, the Biocypher configuration file, and the Biocypher schema file. The `--biocypher-config` option points to a YAML file that contains the configuration for Biocypher, while the `--biocypher-schema` option points to a YAML file that defines the schema of the graph.\n",
    "\n",
    "More information about the OntoWeaver CLI can be found by running:"
   ],
   "id": "2690adcd6aedf505"
  },
  {
   "metadata": {
    "ExecuteTime": {
     "end_time": "2025-06-25T10:38:41.598350Z",
     "start_time": "2025-06-25T10:38:40.122515Z"
    }
   },
   "cell_type": "code",
   "source": "! ontoweave --help",
   "id": "4005b62069f1a0f1",
   "outputs": [
    {
     "name": "stdout",
     "output_type": "stream",
     "text": [
      "INFO -- This is BioCypher v0.9.1.\r\n",
      "INFO -- Logging into `biocypher-log/biocypher-20250625-123840.log`.\r\n",
      "usage: ontoweave [-h] [-c FILE] [--print_config[=flags]] [-C FILE] [-s FILE]\r\n",
      "                 [-p NB_CORES] [-i] [-r [PYTHON_MODULE ...]] [-S CHARACTER]\r\n",
      "                 [-a {suffix,prefix,none}] [-A CHARACTER] [-E]\r\n",
      "                 [-l {DEBUG,INFO,WARNING,ERROR,CRITICAL}] [-v] [-V]\r\n",
      "                 [-Ds CHARACTER] [-D]\r\n",
      "                 FILE:MAPPING [FILE:MAPPING ...]\r\n",
      "\r\n",
      "A command line tool to run OntoWeaver mapping adapters on a set of tabular data, and call the created BioCypher export scripts.\r\n",
      "\r\n",
      "default config file locations:\r\n",
      "  ['/etc/xdg/ontoweave/ontoweave.yaml', '/Users/mbaric/.config/ontoweave/ontoweave.yaml', '../ontoweaver/ontoweave.yaml'], Note: no existing default config file found.\r\n",
      "\r\n",
      "positional arguments:\r\n",
      "  FILE:MAPPING          Run the given YAML MAPPING to extract data from the tabular FILE (usually a CSV). Several mappings can be passed to ontoweave. You may also use the same mapping on different data files. If set to `STDIN`, will read the list of mappings from standard input.\r\n",
      "\r\n",
      "options:\r\n",
      "  -h, --help            show this help message and exit\r\n",
      "  -c FILE, --config FILE\r\n",
      "                        The ontoweave configuration file, which can host the same arguments than the command line tool. [default: /etc/xdg/ontoweave/ontoweave.yaml or /Users/mbaric/.config/ontoweave/ontoweave.yaml or ../ontoweaver/ontoweave.yaml]\r\n",
      "  --print_config[=flags]\r\n",
      "                        Print the configuration after applying all other arguments and exit. The optional flags customizes the output and are one or more keywords separated by comma. The supported flags are: comments, skip_default, skip_null.\r\n",
      "  -C FILE, --biocypher-config FILE\r\n",
      "                        The BioCypher config file (the one managing ontologies and the output backend). [default: biocypher_config.yaml]\r\n",
      "  -s FILE, --biocypher-schema FILE\r\n",
      "                        The BioCypher schema file (the one managing node and edge types). [default: schema.yaml]\r\n",
      "  -p NB_CORES, --parallel NB_CORES\r\n",
      "                        Number of processor cores to use when processing with multi-threading. `0` means a sequential processing (no parallelization, the default). Use 'auto' to let ontoweave do its best to use a good number. [default: 0]\r\n",
      "  -i, --import-script-run\r\n",
      "                        If passed ontoweave will call the import scripts created by Biocypher for you.\r\n",
      "  -r [PYTHON_MODULE ...], --register [PYTHON_MODULE ...]\r\n",
      "                        Register all transformers available in the given module.\r\n",
      "  -S CHARACTER, --prop-sep CHARACTER\r\n",
      "                        The character used to separate property values fused in the same property at the reconciliation step. [default: ;]\r\n",
      "  -a {suffix,prefix,none}, --type-affix {suffix,prefix,none}\r\n",
      "                        Where to add the type string to the ID label. [default: none]\r\n",
      "  -A CHARACTER, --type-affix-sep CHARACTER\r\n",
      "                        Character used to separate the label from the type affix. [default: :]\r\n",
      "  -E, --pass-errors     When an error occurs, log is, and then try to continue processing. If not passed, the default behavior is to raise errors immediatly and stop execution.\r\n",
      "  -l {DEBUG,INFO,WARNING,ERROR,CRITICAL}, --log-level {DEBUG,INFO,WARNING,ERROR,CRITICAL}\r\n",
      "                        Configure the log level. [default: WARNING]\r\n",
      "  -v, --validate-only   Only validate the given input data, do not apply the mapping.\r\n",
      "  -V, --validate-output\r\n",
      "                        Validate the output data against the mapping rules.\r\n",
      "  -Ds CHARACTER, --database-sep CHARACTER\r\n",
      "                        Character used to separate values in the database.\r\n",
      "  -D, --debug           Run in debug mode. implies `--log-level DEBUG`, disables `--pass-errors`. NOTE: this will disable explicit return codes and show the call stack.\r\n",
      "\r\n",
      "Example usage:\r\n",
      "  ontoweave table.csv:mapping.yaml\r\n",
      "  ontoweave --biocypher-config biocypher_config.yaml --biocypher-schema schema.yaml table1.csv:mapping1.yaml table2.tsv:mapping1.yaml table3.parquet:mapping2.yaml --import-script-run\r\n"
     ]
    }
   ],
   "execution_count": 5
  },
  {
   "metadata": {},
   "cell_type": "markdown",
   "source": "Below we show the command that we use to run the mapping process for the first example graph of the SNV database. The command specifies the input CSV file, the mapping file, the Biocypher configuration file, and the Biocypher schema file. The `-a suffix` option is used to add a suffix to the generated nodes. Each suffix represents the ontological type of the node.",
   "id": "7aec22568e6ca86c"
  },
  {
   "metadata": {
    "ExecuteTime": {
     "end_time": "2025-06-25T16:20:25.074405Z",
     "start_time": "2025-06-25T16:20:23.401202Z"
    }
   },
   "cell_type": "code",
   "source": "! ontoweave DATABASE:./jobim/1_Simple_mapping/snv.yaml --biocypher-config ./jobim/1_Simple_mapping/biocypher_config.yaml --biocypher-schema ./jobim/1_Simple_mapping/biocypher_schema.yaml -a suffix",
   "id": "e6e83cfbd22b79ee",
   "outputs": [
    {
     "name": "stdout",
     "output_type": "stream",
     "text": [
      "INFO -- This is BioCypher v0.9.1.\r\n",
      "INFO -- Logging into `biocypher-log/biocypher-20250625-182023.log`.\r\n",
      "ERROR:root:File `DATABASE` not found.\r\n"
     ]
    }
   ],
   "execution_count": 31
  },
  {
   "metadata": {},
   "cell_type": "markdown",
   "source": "In addition to the `ontoweave` CLI, you can also write a short script using the available extraction functions to achieve the same result.",
   "id": "f7c1664a6a6c3f23"
  },
  {
   "metadata": {
    "ExecuteTime": {
     "end_time": "2025-06-26T08:57:40.589102Z",
     "start_time": "2025-06-26T08:57:39.457936Z"
    }
   },
   "cell_type": "code",
   "source": [
    "import biocypher\n",
    "import ontoweaver\n",
    "\n",
    "# Define the path to the mapping file.\n",
    "data_mapping = {f\"DATABASE\": f\"./jobim/1_Simple_mapping/snv.yaml\"}\n",
    "\n",
    "# Extract nodes and edges from the mapping file.\n",
    "nodes, edges = ontoweaver.extract(filename_to_mapping=data_mapping, affix = \"suffix\")\n",
    "\n",
    "# Write the nodes and edges using BioCypher.\n",
    "bc = biocypher.BioCypher(\n",
    "    biocypher_config_path=f\"./jobim/1_Simple_mapping/biocypher_config.yaml\",\n",
    "    schema_config_path=f\"./jobim/1_Simple_mapping/biocypher_schema.yaml\",\n",
    ")\n",
    "\n",
    "bc.write_nodes(nodes)\n",
    "bc.write_edges(edges)\n",
    "bc.write_import_call()\n"
   ],
   "id": "602eaa7f3f2d1443",
   "outputs": [
    {
     "name": "stderr",
     "output_type": "stream",
     "text": [
      "INFO -- This is BioCypher v0.9.1.\n",
      "INFO -- Logging into `biocypher-log/biocypher-20250626-105739.log`.\n",
      "File format '' of file 'DATABASE' is not supported (I can only read one of: .csv ,.tsv ,.txt ,.xls ,.xlsx ,.xlsm ,.xlsb ,.odf ,.ods ,.odt ,.json ,.html ,.xml ,.hdf ,.feather ,.parquet ,.pickle ,.orc ,.sas ,.spss ,.stata)\n"
     ]
    },
    {
     "ename": "FeatureError",
     "evalue": "File format '' of file 'DATABASE' is not supported (I can only read one of: .csv ,.tsv ,.txt ,.xls ,.xlsx ,.xlsm ,.xlsb ,.odf ,.ods ,.odt ,.json ,.html ,.xml ,.hdf ,.feather ,.parquet ,.pickle ,.orc ,.sas ,.spss ,.stata)",
     "output_type": "error",
     "traceback": [
      "\u001B[31m---------------------------------------------------------------------------\u001B[39m",
      "\u001B[31mFeatureError\u001B[39m                              Traceback (most recent call last)",
      "\u001B[36mCell\u001B[39m\u001B[36m \u001B[39m\u001B[32mIn[12]\u001B[39m\u001B[32m, line 6\u001B[39m\n\u001B[32m      2\u001B[39m \u001B[38;5;28;01mimport\u001B[39;00m\u001B[38;5;250m \u001B[39m\u001B[34;01montoweaver\u001B[39;00m\n\u001B[32m      4\u001B[39m data_mapping = {\u001B[33mf\u001B[39m\u001B[33m\"\u001B[39m\u001B[33mDATABASE\u001B[39m\u001B[33m\"\u001B[39m: \u001B[33mf\u001B[39m\u001B[33m\"\u001B[39m\u001B[33m./jobim/1_Simple_mapping/snv_1.yaml\u001B[39m\u001B[33m\"\u001B[39m}\n\u001B[32m----> \u001B[39m\u001B[32m6\u001B[39m nodes, edges = \u001B[43montoweaver\u001B[49m\u001B[43m.\u001B[49m\u001B[43mextract\u001B[49m\u001B[43m(\u001B[49m\u001B[43mfilename_to_mapping\u001B[49m\u001B[43m=\u001B[49m\u001B[43mdata_mapping\u001B[49m\u001B[43m,\u001B[49m\u001B[43m \u001B[49m\u001B[43maffix\u001B[49m\u001B[43m \u001B[49m\u001B[43m=\u001B[49m\u001B[43m \u001B[49m\u001B[33;43m\"\u001B[39;49m\u001B[33;43msuffix\u001B[39;49m\u001B[33;43m\"\u001B[39;49m\u001B[43m)\u001B[49m\n\u001B[32m      9\u001B[39m bc = biocypher.BioCypher(\n\u001B[32m     10\u001B[39m     biocypher_config_path=\u001B[33mf\u001B[39m\u001B[33m\"\u001B[39m\u001B[33m./jobim/1_Simple_mapping/biocypher_config.yaml\u001B[39m\u001B[33m\"\u001B[39m,\n\u001B[32m     11\u001B[39m     schema_config_path=\u001B[33mf\u001B[39m\u001B[33m\"\u001B[39m\u001B[33m./jobim/1_Simple_mapping/biocypher_schema.yaml\u001B[39m\u001B[33m\"\u001B[39m,\n\u001B[32m     12\u001B[39m )\n\u001B[32m     14\u001B[39m bc.write_nodes(n)\n",
      "\u001B[36mFile \u001B[39m\u001B[32m~/Library/Caches/pypoetry/virtualenvs/decider-genetics-Q0c7RTWb-py3.12/lib/python3.12/site-packages/ontoweaver/__init__.py:203\u001B[39m, in \u001B[36mextract\u001B[39m\u001B[34m(filename_to_mapping, dataframe_to_mapping, parallel_mapping, affix, affix_separator, validate_output, raise_errors, **kwargs)\u001B[39m\n\u001B[32m    200\u001B[39m \u001B[38;5;28;01massert\u001B[39;00m(\u001B[38;5;28mtype\u001B[39m(filename_to_mapping) == \u001B[38;5;28mdict\u001B[39m) \u001B[38;5;66;03m# data_file => mapping_file\u001B[39;00m\n\u001B[32m    202\u001B[39m \u001B[38;5;28;01mfor\u001B[39;00m data_file, mapping_file \u001B[38;5;129;01min\u001B[39;00m filename_to_mapping.items():\n\u001B[32m--> \u001B[39m\u001B[32m203\u001B[39m     table = \u001B[43mread_file\u001B[49m\u001B[43m(\u001B[49m\u001B[43mdata_file\u001B[49m\u001B[43m,\u001B[49m\u001B[43m \u001B[49m\u001B[43m*\u001B[49m\u001B[43m*\u001B[49m\u001B[43mkwargs\u001B[49m\u001B[43m)\u001B[49m\n\u001B[32m    205\u001B[39m     \u001B[38;5;28;01mwith\u001B[39;00m \u001B[38;5;28mopen\u001B[39m(mapping_file) \u001B[38;5;28;01mas\u001B[39;00m fd:\n\u001B[32m    206\u001B[39m         mapping = yaml.full_load(fd)\n",
      "\u001B[36mFile \u001B[39m\u001B[32m~/Library/Caches/pypoetry/virtualenvs/decider-genetics-Q0c7RTWb-py3.12/lib/python3.12/site-packages/ontoweaver/__init__.py:92\u001B[39m, in \u001B[36mread_file\u001B[39m\u001B[34m(filename, **kwargs)\u001B[39m\n\u001B[32m     90\u001B[39m     msg = \u001B[33mf\u001B[39m\u001B[33m\"\u001B[39m\u001B[33mFile format \u001B[39m\u001B[33m'\u001B[39m\u001B[38;5;132;01m{\u001B[39;00mext\u001B[38;5;132;01m}\u001B[39;00m\u001B[33m'\u001B[39m\u001B[33m of file \u001B[39m\u001B[33m'\u001B[39m\u001B[38;5;132;01m{\u001B[39;00mfilename\u001B[38;5;132;01m}\u001B[39;00m\u001B[33m'\u001B[39m\u001B[33m is not supported (I can only read one of: \u001B[39m\u001B[38;5;132;01m{\u001B[39;00m\u001B[33m'\u001B[39m\u001B[33m ,\u001B[39m\u001B[33m'\u001B[39m.join(read_funcs.keys())\u001B[38;5;132;01m}\u001B[39;00m\u001B[33m)\u001B[39m\u001B[33m\"\u001B[39m\n\u001B[32m     91\u001B[39m     logger.error(msg)\n\u001B[32m---> \u001B[39m\u001B[32m92\u001B[39m     \u001B[38;5;28;01mraise\u001B[39;00m exceptions.FeatureError(msg)\n\u001B[32m     94\u001B[39m \u001B[38;5;28;01mreturn\u001B[39;00m read_funcs[ext](filename, **kwargs)\n",
      "\u001B[31mFeatureError\u001B[39m: File format '' of file 'DATABASE' is not supported (I can only read one of: .csv ,.tsv ,.txt ,.xls ,.xlsx ,.xlsm ,.xlsb ,.odf ,.ods ,.odt ,.json ,.html ,.xml ,.hdf ,.feather ,.parquet ,.pickle ,.orc ,.sas ,.spss ,.stata)"
     ]
    }
   ],
   "execution_count": 12
  },
  {
   "metadata": {},
   "cell_type": "markdown",
   "source": "## 2. Adding properties and metadata",
   "id": "8990f4865b7f86f3"
  },
  {
   "metadata": {},
   "cell_type": "markdown",
   "source": [
    "It is often useful to attach additional metadata to the nodes and edges in the graph. This metadata can include information such as the source of the data, the date of creation, or any other relevant information that can help in understanding the context of the data. This metadata is attached via the usage of properties.\n",
    "\n",
    "Let's look at an extended version of the database we used in the previous section. Imagine that we have an additional column called `mutationEffectDescription`, which contains a description of the effect of a given alteration. We can use this column to add a property to the `alteration` nodes in the graph. The property will be created by using the `map` transformer, which will extract the data from the `mutationEffectDescription` column and attach it to the `alteration` nodes. We achieve this by adding a `to_property` keyword to the mapping file, which specifies the name of the property to be created, as well as the `for_objects` keyword, which specifies the type of node or edge to which the property will be attached. In this case, we want to attach the property to the `alteration` nodes."
   ],
   "id": "6ee827d8183fc00d"
  },
  {
   "metadata": {
    "ExecuteTime": {
     "end_time": "2025-06-26T09:32:40.681686Z",
     "start_time": "2025-06-26T09:32:40.675296Z"
    }
   },
   "cell_type": "code",
   "source": [
    "# Read the file content.\n",
    "with open(\"jobim/2_Properties/snv.yaml\", \"r\") as file:\n",
    "    content = yaml.safe_load(file)\n",
    "\n",
    "# Display the content.\n",
    "display(JSON(content))"
   ],
   "id": "e5d06d515882655b",
   "outputs": [
    {
     "data": {
      "text/plain": [
       "<IPython.core.display.JSON object>"
      ],
      "application/json": {
       "row": {
        "map": {
         "columns": [
          "patient_id"
         ],
         "to_subject": "patient"
        }
       },
       "transformers": [
        {
         "map": {
          "columns": [
           "sample_id"
          ],
          "to_object": "sample",
          "via_relation": "patient_carries_sample"
         }
        },
        {
         "map": {
          "columns": [
           "alteration"
          ],
          "from_subject": "sample",
          "to_object": "alteration",
          "via_relation": "sample_carries_alteration"
         }
        },
        {
         "map": {
          "columns": [
           "hugoSymbol"
          ],
          "from_subject": "alteration",
          "to_object": "gene",
          "via_relation": "alteration_affects_gene"
         }
        },
        {
         "map": {
          "columns": [
           "mutationEffectDescription"
          ],
          "to_property": [
           "mutation_effect_description"
          ],
          "for_objects": [
           "alteration"
          ]
         }
        }
       ]
      }
     },
     "metadata": {
      "application/json": {
       "expanded": false,
       "root": "root"
      }
     },
     "output_type": "display_data"
    }
   ],
   "execution_count": 23
  },
  {
   "metadata": {},
   "cell_type": "markdown",
   "source": [
    "In addition to defining the correct properties in the mapping file, we also need to define the properties in the BioCypher schema. The schema defines the properties that can be attached to the nodes and edges in the graph, as well as their data types. In this case, we want to add a property called `mutationEffectDescription` to the `alteration` nodes, which will be of type `string`. We achieve this by adding a `properties` section to the schema file, which specifies the name of the property and its data type.\n",
    "\n",
    "Let's look at the updated mapping file:"
   ],
   "id": "21fff135c20514c0"
  },
  {
   "metadata": {
    "ExecuteTime": {
     "end_time": "2025-06-26T09:32:44.011272Z",
     "start_time": "2025-06-26T09:32:44.002462Z"
    }
   },
   "cell_type": "code",
   "source": [
    "# Read the file content.\n",
    "with open(\"jobim/2_Properties/biocypher_schema.yaml\", \"r\") as file:\n",
    "    content = yaml.safe_load(file)\n",
    "\n",
    "# Display the content.\n",
    "display(JSON(content))"
   ],
   "id": "19d2f17b117b26d8",
   "outputs": [
    {
     "data": {
      "text/plain": [
       "<IPython.core.display.JSON object>"
      ],
      "application/json": {
       "alteration": {
        "is_a": "sequence variant",
        "represented_as": "node",
        "label_in_input": "alteration",
        "properties": {
         "mutation_effect_description": "str"
        }
       },
       "disease": {
        "represented_as": "node",
        "label_in_input": "disease"
       },
       "drug": {
        "represented_as": "node",
        "label_in_input": "drug"
       },
       "gene": {
        "represented_as": "node",
        "label_in_input": "gene"
       },
       "patient": {
        "represented_as": "node",
        "label_in_input": "patient",
        "synonym_for": "case"
       },
       "sample": {
        "is_a": "material sample",
        "respresented_as": "node",
        "label_in_input": "sample"
       },
       "carries": {
        "is_a": "causes",
        "represented_as": "edge",
        "label_in_input": "carries"
       },
       "patient carries sample": {
        "is_a": "carries",
        "represented_as": "edge",
        "label_in_input": "patient_carries_sample",
        "source": "patient",
        "target": "sample"
       },
       "sample carries alteration": {
        "is_a": "carries",
        "represented_as": "edge",
        "label_in_input": "sample_carries_alteration",
        "source": "sample",
        "target": "alteration"
       },
       "alteration causes functional outcome": {
        "is_a": "causes",
        "represented_as": "edg",
        "label_in_input": "alteration_causes_functional_outcome",
        "source": "alteration",
        "target": "functional outcome"
       },
       "alteration biomarker for drug": {
        "is_a": "biomarker for",
        "represented_as": "edge",
        "label_in_input": "alteration_biomarker_for_drug",
        "source": "alteration",
        "target": "drug"
       },
       "patient has treatment": {
        "is_a": "association",
        "represented_as": "edge",
        "label_in_input": "patient_has_treatment",
        "source": "patient",
        "target": "treatment"
       },
       "alteration affects gene": {
        "is_a": "affects",
        "represented_as": "edge",
        "label_in_input": "alteration_affects_gene",
        "source": "alteration",
        "target": "gene"
       }
      }
     },
     "metadata": {
      "application/json": {
       "expanded": false,
       "root": "root"
      }
     },
     "output_type": "display_data"
    }
   ],
   "execution_count": 24
  },
  {
   "metadata": {},
   "cell_type": "markdown",
   "source": "In some cases you may wish to add metadata to all the nodes and edges you extract from a single database, such as the database name, origin, etc. This can be easily achieved by using the `metadata` option OntoWeaver provides. The metadata is defined in the mapping file, and it will be added to all the nodes and edges extracted from the database. Below we show an example of how to define the metadata in the mapping file.",
   "id": "e149ba024a7ec92c"
  },
  {
   "metadata": {
    "ExecuteTime": {
     "end_time": "2025-06-26T10:00:13.633042Z",
     "start_time": "2025-06-26T10:00:13.625815Z"
    }
   },
   "cell_type": "code",
   "source": [
    "# Read the file content.\n",
    "with open(\"jobim/2_Properties/snv_metadata.yaml\", \"r\") as file:\n",
    "    content = yaml.safe_load(file)\n",
    "\n",
    "# Display the content.\n",
    "display(JSON(content))"
   ],
   "id": "10c7b3134cbc52c2",
   "outputs": [
    {
     "data": {
      "text/plain": [
       "<IPython.core.display.JSON object>"
      ],
      "application/json": {
       "row": {
        "map": {
         "columns": [
          "patient_id"
         ],
         "to_subject": "patient"
        }
       },
       "transformers": [
        {
         "map": {
          "columns": [
           "sample_id"
          ],
          "to_object": "sample",
          "via_relation": "patient_carries_sample"
         }
        },
        {
         "map": {
          "columns": [
           "alteration"
          ],
          "from_subject": "sample",
          "to_object": "alteration",
          "via_relation": "sample_carries_alteration"
         }
        },
        {
         "map": {
          "columns": [
           "hugoSymbol"
          ],
          "from_subject": "alteration",
          "to_object": "gene",
          "via_relation": "alteration_affects_gene"
         }
        },
        {
         "map": {
          "columns": [
           "mutationEffectDescription"
          ],
          "to_property": [
           "mutation_effect_description"
          ],
          "for_objects": [
           "alteration"
          ]
         }
        }
       ],
       "metadata": [
        {
         "name": "single_nucleotide_variants"
        }
       ]
      }
     },
     "metadata": {
      "application/json": {
       "expanded": false,
       "root": "root"
      }
     },
     "output_type": "display_data"
    }
   ],
   "execution_count": 37
  },
  {
   "metadata": {},
   "cell_type": "markdown",
   "source": "This new change must also be reflected in the BioCypher schema, so we need to update the schema file to include an additional property called `name`.",
   "id": "d33ee473694f2f93"
  },
  {
   "metadata": {
    "ExecuteTime": {
     "end_time": "2025-06-26T10:02:24.778005Z",
     "start_time": "2025-06-26T10:02:24.770456Z"
    }
   },
   "cell_type": "code",
   "source": [
    "# Read the file content.\n",
    "with open(\"jobim/2_Properties/biocypher_schema_metadata.yaml\", \"r\") as file:\n",
    "    content = yaml.safe_load(file)\n",
    "\n",
    "# Display the content.\n",
    "display(JSON(content))"
   ],
   "id": "85f45487a3f9fdfd",
   "outputs": [
    {
     "data": {
      "text/plain": [
       "<IPython.core.display.JSON object>"
      ],
      "application/json": {
       "alteration": {
        "is_a": "sequence variant",
        "represented_as": "node",
        "label_in_input": "alteration",
        "properties": {
         "mutation_effect_description": "str",
         "name": "str"
        }
       },
       "disease": {
        "represented_as": "node",
        "label_in_input": "disease",
        "properties": {
         "name": "str"
        }
       },
       "drug": {
        "represented_as": "node",
        "label_in_input": "drug",
        "properties": {
         "name": "str"
        }
       },
       "gene": {
        "represented_as": "node",
        "label_in_input": "gene",
        "properties": {
         "name": "str"
        }
       },
       "patient": {
        "represented_as": "node",
        "label_in_input": "patient",
        "synonym_for": "case",
        "properties": {
         "name": "str"
        }
       },
       "sample": {
        "is_a": "material sample",
        "respresented_as": "node",
        "label_in_input": "sample",
        "properties": {
         "name": "str"
        }
       },
       "carries": {
        "is_a": "causes",
        "represented_as": "edge",
        "label_in_input": "carries",
        "properties": {
         "name": "str"
        }
       },
       "patient carries sample": {
        "is_a": "carries",
        "represented_as": "edge",
        "label_in_input": "patient_carries_sample",
        "source": "patient",
        "target": "sample",
        "properties": {
         "name": "str"
        }
       },
       "sample carries alteration": {
        "is_a": "carries",
        "represented_as": "edge",
        "label_in_input": "sample_carries_alteration",
        "source": "sample",
        "target": "alteration",
        "properties": {
         "name": "str"
        }
       },
       "alteration biomarker for drug": {
        "is_a": "biomarker for",
        "represented_as": "edge",
        "label_in_input": "alteration_biomarker_for_drug",
        "source": "alteration",
        "target": "drug",
        "properties": {
         "name": "str"
        }
       },
       "patient has treatment": {
        "is_a": "association",
        "represented_as": "edge",
        "label_in_input": "patient_has_treatment",
        "source": "patient",
        "target": "treatment",
        "properties": {
         "name": "str"
        }
       },
       "alteration affects gene": {
        "is_a": "affects",
        "represented_as": "edge",
        "label_in_input": "alteration_affects_gene",
        "source": "alteration",
        "target": "gene",
        "properties": {
         "name": "str"
        }
       }
      }
     },
     "metadata": {
      "application/json": {
       "expanded": false,
       "root": "root"
      }
     },
     "output_type": "display_data"
    }
   ],
   "execution_count": 38
  },
  {
   "metadata": {},
   "cell_type": "markdown",
   "source": "As in the previous section, we can run the OntoWeaver CLI to map the data from the CSV file to the graph.",
   "id": "c1e7782a54fa5962"
  },
  {
   "metadata": {},
   "cell_type": "code",
   "outputs": [],
   "execution_count": null,
   "source": "! ontoweave DATABASE:./jobim/2_Properties/snv.yaml --biocypher-config ./jobim/2_Properties/biocypher_config.yaml --biocypher-schema ./jobim/2_Properties/biocypher_schema.yaml -a suffix",
   "id": "9e72889cf85e146a"
  },
  {
   "metadata": {},
   "cell_type": "markdown",
   "source": "We may also run the same command using the Python API, as shown below.",
   "id": "e9afd3512be2aeae"
  },
  {
   "metadata": {},
   "cell_type": "code",
   "outputs": [],
   "execution_count": null,
   "source": [
    "# Define the path to the mapping file.\n",
    "data_mapping = {f\"DATABASE\": f\"./jobim/2_Properties/snv.yaml\"}\n",
    "\n",
    "# Extract nodes and edges from the mapping file.\n",
    "nodes, edges = ontoweaver.extract(filename_to_mapping=data_mapping, affix = \"suffix\")\n",
    "\n",
    "# Write the nodes and edges using BioCypher.\n",
    "bc = biocypher.BioCypher(\n",
    "    biocypher_config_path=f\"./jobim/2_Properties/biocypher_config.yaml\",\n",
    "    schema_config_path=f\"./jobim/2_Properties/biocypher_schema.yaml\",\n",
    ")\n",
    "\n",
    "bc.write_nodes(nodes)\n",
    "bc.write_edges(edges)\n",
    "bc.write_import_call()"
   ],
   "id": "c87dfb6318fc7221"
  },
  {
   "metadata": {},
   "cell_type": "markdown",
   "source": "## 3. Multiple databases and additional transformers\n",
   "id": "8365849ce0b7bdaf"
  },
  {
   "metadata": {},
   "cell_type": "markdown",
   "source": [
    "Very often you might be in a situation where the information you wish to integrate is spread across several databases. In this case, you can use OntoWeaver to map multiple databases into a single graph. This is done by defining multiple mapping files, each corresponding to a different database, and then running the OntoWeaver CLI for all the adapters together.\n",
    "\n",
    "In this example we will be using the same database as in the previous sections, containing SNVs, but we will expand our graph schema to include actionable drugs for the identified alterations. We will use the OncoKB database, which contains information about actionable drugs for alterations in cancer.\n",
    "\n",
    "Below we show the mapping file for the OncoKB database."
   ],
   "id": "9a911cfe9695b879"
  },
  {
   "metadata": {
    "ExecuteTime": {
     "end_time": "2025-06-26T09:32:48.579269Z",
     "start_time": "2025-06-26T09:32:48.573656Z"
    }
   },
   "cell_type": "code",
   "source": [
    "# Read the file content.\n",
    "with open(\"jobim/3_Multiple_databases/oncokb.yaml\", \"r\") as file:\n",
    "    content = yaml.safe_load(file)\n",
    "\n",
    "# Display the content.\n",
    "display(JSON(content))"
   ],
   "id": "e2a754996458c82d",
   "outputs": [
    {
     "data": {
      "text/plain": [
       "<IPython.core.display.JSON object>"
      ],
      "application/json": {
       "row": {
        "map": {
         "columns": [
          "alteration"
         ],
         "to_subject": "alteration"
        }
       },
       "transformers": [
        {
         "replace": {
          "columns": [
           "treatment"
          ],
          "to_object": "drug",
          "via_relation": "alteration_biomarker_for_drug",
          "substitute": "_"
         }
        }
       ]
      }
     },
     "metadata": {
      "application/json": {
       "expanded": false,
       "root": "root"
      }
     },
     "output_type": "display_data"
    }
   ],
   "execution_count": 25
  },
  {
   "metadata": {},
   "cell_type": "markdown",
   "source": [
    "In this mapping file, we define the subject node as the `alteration` node, which is created from the `alteration` column, similarly as in the SNV example. We then define the `drug` node, which is created from the `treatment` column. Here we have our first example of a more complex transformer - `replace`, which replaces all the special characters (TODO MENTION SPECIAL CHARACTERS PRESENT IN THE DATA) with an underscore, defined via the `substitute` keyword, specific for the transformer, so that the node ID is valid. We then define the edge of type `alteration_biomarker_for_drug` between the `alteration` and `drug` nodes.\n",
    "\n",
    "We also expand the Single Nucleotide Variants mapping file with an additional transformer - `cat_format` to create an additional node of type `functional outcome`. Let's look at the mapping file for the SNV database."
   ],
   "id": "4437f973b074c63e"
  },
  {
   "metadata": {
    "ExecuteTime": {
     "end_time": "2025-06-26T09:33:23.115408Z",
     "start_time": "2025-06-26T09:33:23.109326Z"
    }
   },
   "cell_type": "code",
   "source": [
    "# Read the file content.\n",
    "with open(\"jobim/3_Multiple_databases/snv.yaml\", \"r\") as file:\n",
    "    content = yaml.safe_load(file)\n",
    "\n",
    "# Display the content.\n",
    "display(JSON(content))"
   ],
   "id": "dc5e2bc329c05e35",
   "outputs": [
    {
     "data": {
      "text/plain": [
       "<IPython.core.display.JSON object>"
      ],
      "application/json": {
       "row": {
        "map": {
         "columns": [
          "patient_id"
         ],
         "to_subject": "patient"
        }
       },
       "transformers": [
        {
         "map": {
          "columns": [
           "sample_id"
          ],
          "to_object": "sample",
          "via_relation": "patient_carries_sample"
         }
        },
        {
         "map": {
          "columns": [
           "alteration"
          ],
          "from_subject": "sample",
          "to_object": "alteration",
          "via_relation": "sample_carries_alteration"
         }
        },
        {
         "map": {
          "columns": [
           "hugoSymbol"
          ],
          "from_subject": "alteration",
          "to_object": "gene",
          "via_relation": "alteration_affects_gene"
         }
        },
        {
         "map": {
          "columns": [
           "mutationEffectDescription"
          ],
          "to_property": [
           "mutation_effect_description"
          ],
          "for_objects": [
           "alteration"
          ]
         }
        },
        {
         "cat_format": {
          "columns": [
           "hugoSymbol",
           "gene_role"
          ],
          "from_subject": "alteration",
          "to_object": "functional_outcome",
          "format_string": "{hugoSymbol}:{gene_role}",
          "via_relation": "alteration_causes_functional_outcome"
         }
        }
       ]
      }
     },
     "metadata": {
      "application/json": {
       "expanded": false,
       "root": "root"
      }
     },
     "output_type": "display_data"
    }
   ],
   "execution_count": 28
  },
  {
   "metadata": {},
   "cell_type": "markdown",
   "source": [
    "We see here the `cat_format` transformer, which concatenates the values of the `hugoSymbol` and `gene_role` columns. The concatenation of the value is done by using a `format_string`, defining how the extracted values of each columns will be treated. In this case the values will be concatenated with a `:` symbol inbetween. The new node will be of type `functional_outcome`, and the edge will be of type `alteration_causes_functional_outcome`.\n",
    "\n",
    "These new nodes and edges need to be reflected in the BioCypher schema, so we need to update the schema file to include the new nodes and edges. Below we show the updated schema file.\n"
   ],
   "id": "df55fd7ab6a966fa"
  },
  {
   "metadata": {
    "ExecuteTime": {
     "end_time": "2025-06-26T09:39:33.571376Z",
     "start_time": "2025-06-26T09:39:33.562787Z"
    }
   },
   "cell_type": "code",
   "source": [
    "# Read the file content.\n",
    "with open(\"jobim/3_Multiple_databases/biocypher_schema.yaml\", \"r\") as file:\n",
    "    content = yaml.safe_load(file)\n",
    "\n",
    "# Display the content.\n",
    "display(JSON(content))"
   ],
   "id": "cf00e15ad6199718",
   "outputs": [
    {
     "data": {
      "text/plain": [
       "<IPython.core.display.JSON object>"
      ],
      "application/json": {
       "alteration": {
        "is_a": "sequence variant",
        "represented_as": "node",
        "label_in_input": "alteration",
        "properties": {
         "mutation_effect_description": "str"
        }
       },
       "disease": {
        "represented_as": "node",
        "label_in_input": "disease"
       },
       "drug": {
        "represented_as": "node",
        "label_in_input": "drug"
       },
       "gene": {
        "represented_as": "node",
        "label_in_input": "gene"
       },
       "patient": {
        "represented_as": "node",
        "label_in_input": "patient",
        "synonym_for": "case"
       },
       "sample": {
        "is_a": "material sample",
        "respresented_as": "node",
        "label_in_input": "sample"
       },
       "functional outcome": {
        "is_a": "outcome",
        "represented_as": "node",
        "label_in_input": "functional_outcome"
       },
       "carries": {
        "is_a": "causes",
        "represented_as": "edge",
        "label_in_input": "carries"
       },
       "patient carries sample": {
        "is_a": "carries",
        "represented_as": "edge",
        "label_in_input": "patient_carries_sample",
        "source": "patient",
        "target": "sample"
       },
       "sample carries alteration": {
        "is_a": "carries",
        "represented_as": "edge",
        "label_in_input": "sample_carries_alteration",
        "source": "sample",
        "target": "alteration"
       },
       "alteration causes functional outcome": {
        "is_a": "causes",
        "represented_as": "edg",
        "label_in_input": "alteration_causes_functional_outcome",
        "source": "alteration",
        "target": "functional outcome"
       },
       "alteration biomarker for drug": {
        "is_a": "biomarker for",
        "represented_as": "edge",
        "label_in_input": "alteration_biomarker_for_drug",
        "source": "alteration",
        "target": "drug"
       },
       "patient has treatment": {
        "is_a": "association",
        "represented_as": "edge",
        "label_in_input": "patient_has_treatment",
        "source": "patient",
        "target": "treatment"
       },
       "alteration affects gene": {
        "is_a": "affects",
        "represented_as": "edge",
        "label_in_input": "alteration_affects_gene",
        "source": "alteration",
        "target": "gene"
       }
      }
     },
     "metadata": {
      "application/json": {
       "expanded": false,
       "root": "root"
      }
     },
     "output_type": "display_data"
    }
   ],
   "execution_count": 30
  },
  {
   "metadata": {},
   "cell_type": "markdown",
   "source": [
    "## Fusion\n",
    "\n",
    "When working with multiple databases to build SKGs, different resources can use differing terminology, or contain different information about the same entities. For example, gene names can often differ for the same genes based on the standard used.\n",
    "\n",
    "For this purpose, OntoWeaver provides a *Fusion* core, which enables the reconciliation entities in the graph. In this example, we will showcase the Fusion core for the merging on properties of nodes from different databases. If you want to find details about the Fusion core, or a more complex use case, please refer to the [OntoWeaver documentation](https://ontoweaver.readthedocs.io/en/latest/readme_sections/information_fusion.html).\n",
    "\n",
    "In this example we introduce the Copy Number Alterations (CNA) database, in addition to the SNV and OncoKB databases, shown in the previous sections.\n",
    "\n",
    "Let's first have a look at the mapping file for the CNA database:"
   ],
   "id": "5183aa7f7a46e8e3"
  },
  {
   "metadata": {
    "ExecuteTime": {
     "end_time": "2025-06-26T13:30:22.415017Z",
     "start_time": "2025-06-26T13:30:22.410544Z"
    }
   },
   "cell_type": "code",
   "source": [
    "# Read the file content.\n",
    "with open(\"jobim/4_Fusion/cna.yaml\", \"r\") as file:\n",
    "    content = yaml.safe_load(file)\n",
    "\n",
    "# Display the content.\n",
    "display(JSON(content))"
   ],
   "id": "b770a11acea9d43c",
   "outputs": [
    {
     "data": {
      "text/plain": [
       "<IPython.core.display.JSON object>"
      ],
      "application/json": {
       "row": {
        "map": {
         "columns": [
          "patient_id"
         ],
         "to_subject": "patient"
        }
       },
       "transformers": [
        {
         "map": {
          "columns": [
           "sample_id"
          ],
          "to_object": "sample",
          "via_relation": "patient_carries_sample"
         }
        },
        {
         "cat_format": {
          "columns": [
           "hugoSymbol",
           "alteration"
          ],
          "from_subject": "sample",
          "to_object": "alteration",
          "format_string": "{hugoSymbol}:{alteration}",
          "via_relation": "sample_carries_alteration"
         }
        },
        {
         "map": {
          "columns": [
           "hugoSymbol"
          ],
          "from_subject": "alteration",
          "to_object": "gene",
          "via_relation": "alteration_affects_gene"
         }
        },
        {
         "map": {
          "columns": [
           "mutationEffectDescription"
          ],
          "to_property": [
           "mutation_effect_description"
          ],
          "for_objects": [
           "alteration"
          ]
         }
        },
        {
         "map": {
          "columns": [
           "variantSummary"
          ],
          "to_property": [
           "variant_summary"
          ],
          "for_objects": [
           "alteration"
          ]
         }
        },
        {
         "map": {
          "columns": [
           "tumorTypeSummary"
          ],
          "to_property": [
           "tumor_type_summary"
          ],
          "for_objects": [
           "alteration"
          ]
         }
        }
       ]
      }
     },
     "metadata": {
      "application/json": {
       "expanded": false,
       "root": "root"
      }
     },
     "output_type": "display_data"
    }
   ],
   "execution_count": 40
  },
  {
   "metadata": {},
   "cell_type": "markdown",
   "source": [
    "Similarly as in the case of the SNV mapping file, we define the subject node as the `patient` node, which is created from the `patient_id` column, and we define all of the other same types as in the previous cases - `alteration`, `gene`, and `sample`. Here we define two additional properties for the `alteration` node, which are `variant_summary`, and `tumor_type_summary`, and we include the newly defined properties in the BioCypher schema.\n",
    "\n",
    "Here is the updated BioCypher schema file, which includes the new properties for the `alteration` node:"
   ],
   "id": "cabb8330675ac281"
  },
  {
   "metadata": {
    "ExecuteTime": {
     "end_time": "2025-06-26T13:34:37.732783Z",
     "start_time": "2025-06-26T13:34:37.723237Z"
    }
   },
   "cell_type": "code",
   "source": [
    "# Read the file content.\n",
    "with open(\"jobim/4_Fusion/biocypher_schema.yaml\", \"r\") as file:\n",
    "    content = yaml.safe_load(file)\n",
    "\n",
    "# Display the content.\n",
    "display(JSON(content))"
   ],
   "id": "55cfbbe0141c01e8",
   "outputs": [
    {
     "data": {
      "text/plain": [
       "<IPython.core.display.JSON object>"
      ],
      "application/json": {
       "alteration": {
        "is_a": "sequence variant",
        "represented_as": "node",
        "label_in_input": "alteration",
        "properties": {
         "mutation_effect_description": "str",
         "name": "str",
         "variant_summary": "str",
         "tumor_type_summary": "str"
        }
       },
       "disease": {
        "represented_as": "node",
        "label_in_input": "disease",
        "properties": {
         "name": "str"
        }
       },
       "drug": {
        "represented_as": "node",
        "label_in_input": "drug",
        "properties": {
         "name": "str"
        }
       },
       "gene": {
        "represented_as": "node",
        "label_in_input": "gene",
        "properties": {
         "name": "str"
        }
       },
       "patient": {
        "represented_as": "node",
        "label_in_input": "patient",
        "synonym_for": "case",
        "properties": {
         "name": "str"
        }
       },
       "sample": {
        "is_a": "material sample",
        "respresented_as": "node",
        "label_in_input": "sample",
        "properties": {
         "name": "str"
        }
       },
       "functional outcome": {
        "is_a": "outcome",
        "represented_as": "node",
        "label_in_input": "functional_outcome",
        "properties": {
         "name": "str"
        }
       },
       "carries": {
        "is_a": "causes",
        "represented_as": "edge",
        "label_in_input": "carries",
        "properties": {
         "name": "str"
        }
       },
       "patient carries sample": {
        "is_a": "carries",
        "represented_as": "edge",
        "label_in_input": "patient_carries_sample",
        "source": "patient",
        "target": "sample",
        "properties": {
         "name": "str"
        }
       },
       "sample carries alteration": {
        "is_a": "carries",
        "represented_as": "edge",
        "label_in_input": "sample_carries_alteration",
        "source": "sample",
        "target": "alteration",
        "properties": {
         "name": "str"
        }
       },
       "alteration causes functional outcome": {
        "is_a": "causes",
        "represented_as": "edg",
        "label_in_input": "alteration_causes_functional_outcome",
        "source": "alteration",
        "target": "functional outcome",
        "properties": {
         "name": "str"
        }
       },
       "alteration biomarker for drug": {
        "is_a": "biomarker for",
        "represented_as": "edge",
        "label_in_input": "alteration_biomarker_for_drug",
        "source": "alteration",
        "target": "drug",
        "properties": {
         "name": "str"
        }
       },
       "patient has treatment": {
        "is_a": "association",
        "represented_as": "edge",
        "label_in_input": "patient_has_treatment",
        "source": "patient",
        "target": "treatment",
        "properties": {
         "name": "str"
        }
       },
       "alteration affects gene": {
        "is_a": "affects",
        "represented_as": "edge",
        "label_in_input": "alteration_affects_gene",
        "source": "alteration",
        "target": "gene",
        "properties": {
         "name": "str"
        }
       }
      }
     },
     "metadata": {
      "application/json": {
       "expanded": false,
       "root": "root"
      }
     },
     "output_type": "display_data"
    }
   ],
   "execution_count": 44
  },
  {
   "metadata": {},
   "cell_type": "markdown",
   "source": [
    "Notice that, due to the different mapping files of the SNV and CNA databases, the `alteration` nodes in the two databases have different properties. The SNV database has a property called `mutationEffectDescription`, while the CNA database has properties called `variant_summary` and `tumor_type_summary`. In order to handle this, we can use the Fusion core to merge the properties of the `alteration` nodes from both databases.\n",
    "\n",
    "An importatnt thing to to note is that the Biocypher schema must be updated to include all the possible properties for the `alteration` node, from both databases, in order to successfully run BioCypher. You can take a look at the schema file above."
   ],
   "id": "a8b4b53ce72ce4d"
  }
 ],
 "metadata": {
  "kernelspec": {
   "display_name": "decider-genetics-fwdvB9mx-py3.12",
   "language": "python",
   "name": "python3"
  },
  "language_info": {
   "codemirror_mode": {
    "name": "ipython",
    "version": 3
   },
   "file_extension": ".py",
   "mimetype": "text/x-python",
   "name": "python",
   "nbconvert_exporter": "python",
   "pygments_lexer": "ipython3",
   "version": "3.12.8"
  }
 },
 "nbformat": 4,
 "nbformat_minor": 5
}
