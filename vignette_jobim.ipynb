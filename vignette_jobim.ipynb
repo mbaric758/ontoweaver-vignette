{
 "cells": [
  {
   "cell_type": "markdown",
   "id": "759f7b83",
   "metadata": {},
   "source": [
    "# OntoWeaver Vignette\n",
    "OntoWeaver is a tool for constructing Semantic Knowledge Graphs (SKGs) from iterative data, such as CSV files. It allows users to define mappings between the data and an ontology, enabling the creation of a graph that can be queried and analyzed. This notebook provides a step-by-step guide on how to use OntoWeaver to build an SKG from synthetic clinical and genomic data, including single nucleotide variants (SNVs) and copy number alterations (CNAs).\n",
    "\n",
    "## Semantic Knowledge Graphs\n",
    "\n",
    "\n",
    "## Description of the data\n",
    "\n",
    "### Single Nucleotide Variants (SNVs)\n",
    "\n",
    "### Copy Number Alterations (CNAs)\n",
    "\n",
    "### Treatments (OncoKB)\n"
   ]
  },
  {
   "cell_type": "markdown",
   "id": "dd828e91",
   "metadata": {},
   "source": [
    "## Set-up"
   ]
  },
  {
   "cell_type": "markdown",
   "id": "ff2c5b06",
   "metadata": {},
   "source": [
    "### Installing dependencies\n",
    "\n",
    "We use *Poetry* to manage dependencies and virtual environments. If you don't have it installed, you can install it with:"
   ]
  },
  {
   "cell_type": "code",
   "id": "005b2b41",
   "metadata": {
    "ExecuteTime": {
     "end_time": "2025-06-24T13:50:38.408437Z",
     "start_time": "2025-06-24T13:50:36.753155Z"
    }
   },
   "source": "! poetry install",
   "outputs": [
    {
     "name": "stdout",
     "output_type": "stream",
     "text": [
      "\u001B[34mInstalling dependencies from lock file\u001B[39m\r\n",
      "\r\n",
      "No dependencies to install or update\r\n"
     ]
    }
   ],
   "execution_count": 8
  },
  {
   "cell_type": "markdown",
   "id": "58e75d71",
   "metadata": {},
   "source": [
    "So far, the OntoWeaver package works under python 3.12. If you have multiple python versions installed, you can direct *Poetry* to use the correct one with the following command:\n",
    "`! poetry env use $(which python3.12)`"
   ]
  },
  {
   "cell_type": "markdown",
   "id": "8efccb63",
   "metadata": {},
   "source": [
    "### Starting the *poetry* environment"
   ]
  },
  {
   "cell_type": "code",
   "id": "dde7127a",
   "metadata": {
    "ExecuteTime": {
     "end_time": "2025-06-24T14:01:55.854919Z",
     "start_time": "2025-06-24T14:01:55.210644Z"
    }
   },
   "source": "! eval $(poetry env activate) # new implementation of `poetry shell`",
   "outputs": [],
   "execution_count": 9
  },
  {
   "cell_type": "markdown",
   "id": "6a3b9b31",
   "metadata": {},
   "source": [
    "## SKG construction\n",
    "\n",
    "### 1. Simple mapping using SNVs"
   ]
  },
  {
   "cell_type": "markdown",
   "id": "36ce3371",
   "metadata": {},
   "source": "We want to build a KG with a simple schema, encompassing patient IDs, the IDs of the samples they provided, the sequence variants they have, and the genes those variants are in. We first start by defining the schema of the desired graph, which would in our case look like this:"
  },
  {
   "metadata": {},
   "cell_type": "markdown",
   "source": [
    "After defining the schema, we need to define the mappings between the data and the ontology. The mappings will specify how each column in the CSV files corresponds to a node or edge in the graph. This is defined in the OntoWeaver mapping files, which are YAML files that describe the structure of the data and how it should be transformed into nodes and edges in the graph.\n",
    "\n",
    "Below we display the mapping file we use for the build up of the first example graph of the SNV database."
   ],
   "id": "b8f3e6e3b1a7f04e"
  },
  {
   "metadata": {
    "ExecuteTime": {
     "end_time": "2025-06-25T08:38:47.271332Z",
     "start_time": "2025-06-25T08:38:47.263880Z"
    }
   },
   "cell_type": "code",
   "source": [
    "import yaml\n",
    "from IPython.display import display, JSON\n",
    "\n",
    "# Read the file content.\n",
    "with open(\"jobim/1_Simple_mapping/snv_1.yaml\", \"r\") as file:\n",
    "    content = yaml.safe_load(file)\n",
    "\n",
    "# Display the content.\n",
    "display(JSON(content))"
   ],
   "id": "80e8f92984999e9",
   "outputs": [
    {
     "data": {
      "text/plain": [
       "<IPython.core.display.JSON object>"
      ],
      "application/json": {
       "row": {
        "map": {
         "columns": [
          "patient_id"
         ],
         "to_subject": "patient"
        }
       },
       "transformers": [
        {
         "map": {
          "columns": [
           "sample_id"
          ],
          "to_object": "sample",
          "via_relation": "patient_carries_sample"
         }
        },
        {
         "map": {
          "columns": [
           "alteration"
          ],
          "from_subject": "sample",
          "to_object": "alteration",
          "via_relation": "sample_carries_alteration"
         }
        },
        {
         "map": {
          "columns": [
           "hugoSymbol"
          ],
          "from_subject": "alteration",
          "to_object": "gene",
          "via_relation": "alteration_affects_gene"
         }
        }
       ]
      }
     },
     "metadata": {
      "application/json": {
       "expanded": false,
       "root": "root"
      }
     },
     "output_type": "display_data"
    }
   ],
   "execution_count": 23
  },
  {
   "metadata": {},
   "cell_type": "markdown",
   "source": [
    "OntoWeaver maps the databases row by row, so the mapping file first specifies how the subject node of each row mapped will be created. We first define that the subject ID will be created from the `patient_id`, using the `columns` keyword, and that the node will be of type `patient`, using the `to_subject` keyword.\n",
    "\n",
    "For each column we want to map, we must define the strategy of the extraction of the values from each cell of the column, which will serve as the ID of the created node. For this, we use `transformers`. TODO EXPLAIN MORE.\n",
    "\n",
    "For simplicity, in this first section we keep to the usage of only the `map` transformer, which simply extracts the data as it is from the cells of the defined column.\n",
    "\n",
    "\n",
    "\n",
    "\n"
   ],
   "id": "e726bda32657fca4"
  },
  {
   "metadata": {
    "ExecuteTime": {
     "end_time": "2025-06-25T08:58:32.386344Z",
     "start_time": "2025-06-25T08:58:32.358968Z"
    }
   },
   "cell_type": "code",
   "source": [
    "snv_database = pd.read_csv(\"./data/step_1/subset_1_anon_snv_annotated_external.csv\")\n",
    "snv_database.head(n=5)"
   ],
   "id": "6ce83cb6a3cbdb62",
   "outputs": [
    {
     "data": {
      "text/plain": [
       "  patient_id           sample_id  \\\n",
       "0     CC0010  CC5366_iAdnL1_DNA1   \n",
       "1     CC2871  CC1112_r1Oth1_DNA2   \n",
       "2     CC9768    CC2862_pTubL1_TR   \n",
       "3     CC9341  CC8885_iAdnL1_DNA1   \n",
       "4     CC1344   CC2821_pOme1_DNA1   \n",
       "\n",
       "                                        alteration hugoSymbol  \n",
       "0                           GPS2:chr17:7314304:G:A       TNXB  \n",
       "1   ATG9B:chr7:151023728:AGCCTGGGCACAGAGGGGAGAGT:A        TNC  \n",
       "2  WFIKKN1:chr16:631371:AACCTGTGGGTGGACGCCCAGAGC:A      DZIP3  \n",
       "3                         ZNF8:chr19:58295436:TC:T      KDM4E  \n",
       "4                       IL12RB1:chr19:18072287:G:T      SKIC3  "
      ],
      "text/html": [
       "<div>\n",
       "<style scoped>\n",
       "    .dataframe tbody tr th:only-of-type {\n",
       "        vertical-align: middle;\n",
       "    }\n",
       "\n",
       "    .dataframe tbody tr th {\n",
       "        vertical-align: top;\n",
       "    }\n",
       "\n",
       "    .dataframe thead th {\n",
       "        text-align: right;\n",
       "    }\n",
       "</style>\n",
       "<table border=\"1\" class=\"dataframe\">\n",
       "  <thead>\n",
       "    <tr style=\"text-align: right;\">\n",
       "      <th></th>\n",
       "      <th>patient_id</th>\n",
       "      <th>sample_id</th>\n",
       "      <th>alteration</th>\n",
       "      <th>hugoSymbol</th>\n",
       "    </tr>\n",
       "  </thead>\n",
       "  <tbody>\n",
       "    <tr>\n",
       "      <th>0</th>\n",
       "      <td>CC0010</td>\n",
       "      <td>CC5366_iAdnL1_DNA1</td>\n",
       "      <td>GPS2:chr17:7314304:G:A</td>\n",
       "      <td>TNXB</td>\n",
       "    </tr>\n",
       "    <tr>\n",
       "      <th>1</th>\n",
       "      <td>CC2871</td>\n",
       "      <td>CC1112_r1Oth1_DNA2</td>\n",
       "      <td>ATG9B:chr7:151023728:AGCCTGGGCACAGAGGGGAGAGT:A</td>\n",
       "      <td>TNC</td>\n",
       "    </tr>\n",
       "    <tr>\n",
       "      <th>2</th>\n",
       "      <td>CC9768</td>\n",
       "      <td>CC2862_pTubL1_TR</td>\n",
       "      <td>WFIKKN1:chr16:631371:AACCTGTGGGTGGACGCCCAGAGC:A</td>\n",
       "      <td>DZIP3</td>\n",
       "    </tr>\n",
       "    <tr>\n",
       "      <th>3</th>\n",
       "      <td>CC9341</td>\n",
       "      <td>CC8885_iAdnL1_DNA1</td>\n",
       "      <td>ZNF8:chr19:58295436:TC:T</td>\n",
       "      <td>KDM4E</td>\n",
       "    </tr>\n",
       "    <tr>\n",
       "      <th>4</th>\n",
       "      <td>CC1344</td>\n",
       "      <td>CC2821_pOme1_DNA1</td>\n",
       "      <td>IL12RB1:chr19:18072287:G:T</td>\n",
       "      <td>SKIC3</td>\n",
       "    </tr>\n",
       "  </tbody>\n",
       "</table>\n",
       "</div>"
      ]
     },
     "execution_count": 27,
     "metadata": {},
     "output_type": "execute_result"
    }
   ],
   "execution_count": 27
  }
 ],
 "metadata": {
  "kernelspec": {
   "display_name": "decider-genetics-fwdvB9mx-py3.12",
   "language": "python",
   "name": "python3"
  },
  "language_info": {
   "codemirror_mode": {
    "name": "ipython",
    "version": 3
   },
   "file_extension": ".py",
   "mimetype": "text/x-python",
   "name": "python",
   "nbconvert_exporter": "python",
   "pygments_lexer": "ipython3",
   "version": "3.12.8"
  }
 },
 "nbformat": 4,
 "nbformat_minor": 5
}
