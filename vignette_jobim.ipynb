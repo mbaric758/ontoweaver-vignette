{
 "cells": [
  {
   "cell_type": "markdown",
   "id": "759f7b83",
   "metadata": {},
   "source": [
    "# OntoWeaver Vignette\n",
    "OntoWeaver is a tool for constructing Semantic Knowledge Graphs (SKGs) from iterative data, such as CSV files. It allows users to define mappings between the data and an ontology, enabling the creation of a graph that can be queried and analyzed. This notebook provides a step-by-step guide on how to use OntoWeaver to build an SKG from synthetic clinical and genomic data, including single nucleotide variants (SNVs) and copy number alterations (CNAs).\n",
    "\n",
    "## Semantic Knowledge Graphs\n",
    "\n",
    "\n",
    "## Description of the data\n",
    "\n",
    "TODO: Subset databases so that same alterations are present in all three databases, so we can connect the information in the graph.\n",
    "\n",
    "The examples in this vignette are based on anonymized, shuffled and subsetted data from three databases:\n",
    "- **Single Nucleotide Variants (SNVs)**: A database containing information about single nucleotide variants found in ovarian cancer patients.\n",
    "- **Copy Number Alterations (CNAs)**: A database containing information about copy number alterations found in ovarian cancer patients.\n",
    "- **Treatments (OncoKB)**: A [public database](https://www.oncokb.org/) that contains biological and clinical information about genomic alterations in cancer.\n",
    "\n",
    "### Single Nucleotide Variants (SNVs)\n",
    "\n",
    "### Copy Number Alterations (CNAs)\n",
    "\n",
    "### Treatments (OncoKB)\n"
   ]
  },
  {
   "cell_type": "markdown",
   "id": "dd828e91",
   "metadata": {},
   "source": [
    "## Set-up"
   ]
  },
  {
   "cell_type": "markdown",
   "id": "ff2c5b06",
   "metadata": {},
   "source": [
    "### Installing dependencies\n",
    "\n",
    "We use *Poetry* to manage dependencies and virtual environments. If you don't have it installed, you can install it with:"
   ]
  },
  {
   "cell_type": "code",
   "id": "005b2b41",
   "metadata": {
    "ExecuteTime": {
     "end_time": "2025-06-24T13:50:38.408437Z",
     "start_time": "2025-06-24T13:50:36.753155Z"
    }
   },
   "source": "! poetry install",
   "outputs": [
    {
     "name": "stdout",
     "output_type": "stream",
     "text": [
      "\u001B[34mInstalling dependencies from lock file\u001B[39m\r\n",
      "\r\n",
      "No dependencies to install or update\r\n"
     ]
    }
   ],
   "execution_count": 8
  },
  {
   "cell_type": "markdown",
   "id": "58e75d71",
   "metadata": {},
   "source": [
    "So far, the OntoWeaver package works under python 3.12. If you have multiple python versions installed, you can direct *Poetry* to use the correct one with the following command:\n",
    "`! poetry env use $(which python3.12)`"
   ]
  },
  {
   "cell_type": "markdown",
   "id": "8efccb63",
   "metadata": {},
   "source": [
    "### Starting the *poetry* environment"
   ]
  },
  {
   "cell_type": "code",
   "id": "dde7127a",
   "metadata": {
    "ExecuteTime": {
     "end_time": "2025-06-24T14:01:55.854919Z",
     "start_time": "2025-06-24T14:01:55.210644Z"
    }
   },
   "source": "! eval $(poetry env activate) # new implementation of `poetry shell`",
   "outputs": [],
   "execution_count": 9
  },
  {
   "cell_type": "markdown",
   "id": "6a3b9b31",
   "metadata": {},
   "source": [
    "## SKG construction\n",
    "\n",
    "### 1. Simple mapping using SNVs"
   ]
  },
  {
   "cell_type": "markdown",
   "id": "36ce3371",
   "metadata": {},
   "source": "We want to build a KG with a simple schema, encompassing patient IDs, the IDs of the samples they provided, the sequence variants they have, and the genes those variants are in. We first start by defining the schema of the desired graph, which would in our case look like this:"
  },
  {
   "metadata": {},
   "cell_type": "markdown",
   "source": [
    "After defining the schema, we need to define the mappings between the data and the ontology. The mappings will specify how each column in the CSV files corresponds to a node or edge in the graph. This is defined in the OntoWeaver mapping files, which are YAML files that describe the structure of the data and how it should be transformed into nodes and edges in the graph.\n",
    "\n",
    "Below we display the mapping file we use for the build up of the first example graph of the SNV database."
   ],
   "id": "b8f3e6e3b1a7f04e"
  },
  {
   "metadata": {
    "ExecuteTime": {
     "end_time": "2025-06-25T16:20:16.533336Z",
     "start_time": "2025-06-25T16:20:16.527135Z"
    }
   },
   "cell_type": "code",
   "source": [
    "import yaml\n",
    "from IPython.display import display, JSON\n",
    "\n",
    "# Read the file content.\n",
    "with open(\"jobim/1_Simple_mapping/snv.yaml\", \"r\") as file:\n",
    "    content = yaml.safe_load(file)\n",
    "\n",
    "# Display the content.\n",
    "display(JSON(content))"
   ],
   "id": "80e8f92984999e9",
   "outputs": [
    {
     "data": {
      "text/plain": [
       "<IPython.core.display.JSON object>"
      ],
      "application/json": {
       "row": {
        "map": {
         "columns": [
          "patient_id"
         ],
         "to_subject": "patient"
        }
       },
       "transformers": [
        {
         "map": {
          "columns": [
           "sample_id"
          ],
          "to_object": "sample",
          "via_relation": "patient_carries_sample"
         }
        },
        {
         "map": {
          "columns": [
           "alteration"
          ],
          "from_subject": "sample",
          "to_object": "alteration",
          "via_relation": "sample_carries_alteration"
         }
        },
        {
         "map": {
          "columns": [
           "hugoSymbol"
          ],
          "from_subject": "alteration",
          "to_object": "gene",
          "via_relation": "alteration_affects_gene"
         }
        }
       ]
      }
     },
     "metadata": {
      "application/json": {
       "expanded": false,
       "root": "root"
      }
     },
     "output_type": "display_data"
    }
   ],
   "execution_count": 29
  },
  {
   "metadata": {},
   "cell_type": "markdown",
   "source": [
    "OntoWeaver maps the databases row by row, so the mapping file first specifies how the subject node of each row mapped will be created. We first define that the subject ID will be created from the `patient_id`, using the `columns` keyword, and that the node will be of type `patient`, using the `to_subject` keyword.\n",
    "\n",
    "For each column we want to map, we must define the strategy of the extraction of the values from each cell of the column, which will serve as the ID of the created node. For this, we use `transformers`. OntoWeaver provides a robust set of transformers that can be used to extract and transform data from the columns of the CSV files. These transformers can be used to manipulate the data in various ways, such as combining several column values, splitting concatenated values, and many more. Detailed description of the transformers can be found in the [OntoWeaver documentation](https://ontoweaver.readthedocs.io/en/latest/readme_sections/mapping_api.html#available-transformers). Users are also able to program their own transformers to suit their specific needs.\n",
    "\n",
    "For simplicity, in this first section we keep to the usage of only the `map` transformer, which simply extracts the data as it is from the cells of the defined column. For each transformer we define the `columns` to use for the extraction of the data, as well as the `to_object` keyword, which defines the type of node to be created from the extracted data, such as `gene` or `sample`. In addition to that, we also define the edge which is connecting the created nodes to the subject node, using the `via_relation` keyword.\n",
    "\n",
    "In some cases we do not want to use the default subject type for each row, but rather use a different column as the start point of an edge. In this case, we can use the `from_subject` keyword to specify the type from which we want the edge to start from. For example, in the mapping file above, we use the `from_subject` keyword to create an edge type `alteration_affects_gene` from the `alteration` node, to the `gene` node, thus voiding the start of the edge from the `patient` node. which is the default subject type for each row.\n",
    "\n",
    "Below we display the first few rows of our initial dataset of Single Nucleotide Variants. The database contains patient IDs, sample IDs, gene names, and the SNVs found in those genes. The data is anonymized and contains a subset of the original data for the first example use case."
   ],
   "id": "e726bda32657fca4"
  },
  {
   "metadata": {},
   "cell_type": "markdown",
   "source": "After having identified the general structure of the graph and the definition of the mappings, we must now define the BioCypher schema, which is a YAML file that describes the structure of the graph. The schema defines the nodes and edges in the graph, their properties, and how they are related to each other. You can find more information about the BioCypher schema in the [BioCypher documentation](https://biocypher.org/BioCypher/learn/tutorials/pandas_tutorial/#schema-configuration).",
   "id": "93ea6b14ce4442f5"
  },
  {
   "metadata": {
    "ExecuteTime": {
     "end_time": "2025-06-25T16:20:19.293129Z",
     "start_time": "2025-06-25T16:20:19.285613Z"
    }
   },
   "cell_type": "code",
   "source": [
    "import yaml\n",
    "from IPython.display import display, JSON\n",
    "\n",
    "# Read the file content.\n",
    "with open(\"jobim/1_Simple_mapping/biocypher_schema.yaml\", \"r\") as file:\n",
    "    content = yaml.safe_load(file)\n",
    "\n",
    "# Display the content.\n",
    "display(JSON(content))"
   ],
   "id": "15d1e2a3bc227e98",
   "outputs": [
    {
     "data": {
      "text/plain": [
       "<IPython.core.display.JSON object>"
      ],
      "application/json": {
       "alteration": {
        "is_a": "sequence variant",
        "represented_as": "node",
        "label_in_input": "alteration"
       },
       "disease": {
        "represented_as": "node",
        "label_in_input": "disease"
       },
       "drug": {
        "represented_as": "node",
        "label_in_input": "drug"
       },
       "gene": {
        "represented_as": "node",
        "label_in_input": "gene"
       },
       "patient": {
        "represented_as": "node",
        "label_in_input": "patient",
        "synonym_for": "case"
       },
       "sample": {
        "is_a": "material sample",
        "respresented_as": "node",
        "label_in_input": "sample"
       },
       "carries": {
        "is_a": "causes",
        "represented_as": "edge",
        "label_in_input": "carries"
       },
       "patient carries sample": {
        "is_a": "carries",
        "represented_as": "edge",
        "label_in_input": "patient_carries_sample",
        "source": "patient",
        "target": "sample"
       },
       "sample carries alteration": {
        "is_a": "carries",
        "represented_as": "edge",
        "label_in_input": "sample_carries_alteration",
        "source": "sample",
        "target": "alteration"
       },
       "alteration causes functional outcome": {
        "is_a": "causes",
        "represented_as": "edg",
        "label_in_input": "alteration_causes_functional_outcome",
        "source": "alteration",
        "target": "functional outcome"
       },
       "alteration biomarker for drug": {
        "is_a": "biomarker for",
        "represented_as": "edge",
        "label_in_input": "alteration_biomarker_for_drug",
        "source": "alteration",
        "target": "drug"
       },
       "patient has treatment": {
        "is_a": "association",
        "represented_as": "edge",
        "label_in_input": "patient_has_treatment",
        "source": "patient",
        "target": "treatment"
       },
       "alteration affects gene": {
        "is_a": "affects",
        "represented_as": "edge",
        "label_in_input": "alteration_affects_gene",
        "source": "alteration",
        "target": "gene"
       }
      }
     },
     "metadata": {
      "application/json": {
       "expanded": false,
       "root": "root"
      }
     },
     "output_type": "display_data"
    }
   ],
   "execution_count": 30
  },
  {
   "metadata": {},
   "cell_type": "markdown",
   "source": [
    "Below we show the OntoWeaver CLI command, which is used to run the mapping process. The command specifies the input CSV file, the mapping file, the Biocypher configuration file, and the Biocypher schema file. The `--biocypher-config` option points to a YAML file that contains the configuration for Biocypher, while the `--biocypher-schema` option points to a YAML file that defines the schema of the graph.\n",
    "\n",
    "More information about the OntoWeaver CLI can be found by running:"
   ],
   "id": "2690adcd6aedf505"
  },
  {
   "metadata": {
    "ExecuteTime": {
     "end_time": "2025-06-25T10:38:41.598350Z",
     "start_time": "2025-06-25T10:38:40.122515Z"
    }
   },
   "cell_type": "code",
   "source": "! ontoweave --help",
   "id": "4005b62069f1a0f1",
   "outputs": [
    {
     "name": "stdout",
     "output_type": "stream",
     "text": [
      "INFO -- This is BioCypher v0.9.1.\r\n",
      "INFO -- Logging into `biocypher-log/biocypher-20250625-123840.log`.\r\n",
      "usage: ontoweave [-h] [-c FILE] [--print_config[=flags]] [-C FILE] [-s FILE]\r\n",
      "                 [-p NB_CORES] [-i] [-r [PYTHON_MODULE ...]] [-S CHARACTER]\r\n",
      "                 [-a {suffix,prefix,none}] [-A CHARACTER] [-E]\r\n",
      "                 [-l {DEBUG,INFO,WARNING,ERROR,CRITICAL}] [-v] [-V]\r\n",
      "                 [-Ds CHARACTER] [-D]\r\n",
      "                 FILE:MAPPING [FILE:MAPPING ...]\r\n",
      "\r\n",
      "A command line tool to run OntoWeaver mapping adapters on a set of tabular data, and call the created BioCypher export scripts.\r\n",
      "\r\n",
      "default config file locations:\r\n",
      "  ['/etc/xdg/ontoweave/ontoweave.yaml', '/Users/mbaric/.config/ontoweave/ontoweave.yaml', '../ontoweaver/ontoweave.yaml'], Note: no existing default config file found.\r\n",
      "\r\n",
      "positional arguments:\r\n",
      "  FILE:MAPPING          Run the given YAML MAPPING to extract data from the tabular FILE (usually a CSV). Several mappings can be passed to ontoweave. You may also use the same mapping on different data files. If set to `STDIN`, will read the list of mappings from standard input.\r\n",
      "\r\n",
      "options:\r\n",
      "  -h, --help            show this help message and exit\r\n",
      "  -c FILE, --config FILE\r\n",
      "                        The ontoweave configuration file, which can host the same arguments than the command line tool. [default: /etc/xdg/ontoweave/ontoweave.yaml or /Users/mbaric/.config/ontoweave/ontoweave.yaml or ../ontoweaver/ontoweave.yaml]\r\n",
      "  --print_config[=flags]\r\n",
      "                        Print the configuration after applying all other arguments and exit. The optional flags customizes the output and are one or more keywords separated by comma. The supported flags are: comments, skip_default, skip_null.\r\n",
      "  -C FILE, --biocypher-config FILE\r\n",
      "                        The BioCypher config file (the one managing ontologies and the output backend). [default: biocypher_config.yaml]\r\n",
      "  -s FILE, --biocypher-schema FILE\r\n",
      "                        The BioCypher schema file (the one managing node and edge types). [default: schema.yaml]\r\n",
      "  -p NB_CORES, --parallel NB_CORES\r\n",
      "                        Number of processor cores to use when processing with multi-threading. `0` means a sequential processing (no parallelization, the default). Use 'auto' to let ontoweave do its best to use a good number. [default: 0]\r\n",
      "  -i, --import-script-run\r\n",
      "                        If passed ontoweave will call the import scripts created by Biocypher for you.\r\n",
      "  -r [PYTHON_MODULE ...], --register [PYTHON_MODULE ...]\r\n",
      "                        Register all transformers available in the given module.\r\n",
      "  -S CHARACTER, --prop-sep CHARACTER\r\n",
      "                        The character used to separate property values fused in the same property at the reconciliation step. [default: ;]\r\n",
      "  -a {suffix,prefix,none}, --type-affix {suffix,prefix,none}\r\n",
      "                        Where to add the type string to the ID label. [default: none]\r\n",
      "  -A CHARACTER, --type-affix-sep CHARACTER\r\n",
      "                        Character used to separate the label from the type affix. [default: :]\r\n",
      "  -E, --pass-errors     When an error occurs, log is, and then try to continue processing. If not passed, the default behavior is to raise errors immediatly and stop execution.\r\n",
      "  -l {DEBUG,INFO,WARNING,ERROR,CRITICAL}, --log-level {DEBUG,INFO,WARNING,ERROR,CRITICAL}\r\n",
      "                        Configure the log level. [default: WARNING]\r\n",
      "  -v, --validate-only   Only validate the given input data, do not apply the mapping.\r\n",
      "  -V, --validate-output\r\n",
      "                        Validate the output data against the mapping rules.\r\n",
      "  -Ds CHARACTER, --database-sep CHARACTER\r\n",
      "                        Character used to separate values in the database.\r\n",
      "  -D, --debug           Run in debug mode. implies `--log-level DEBUG`, disables `--pass-errors`. NOTE: this will disable explicit return codes and show the call stack.\r\n",
      "\r\n",
      "Example usage:\r\n",
      "  ontoweave table.csv:mapping.yaml\r\n",
      "  ontoweave --biocypher-config biocypher_config.yaml --biocypher-schema schema.yaml table1.csv:mapping1.yaml table2.tsv:mapping1.yaml table3.parquet:mapping2.yaml --import-script-run\r\n"
     ]
    }
   ],
   "execution_count": 5
  },
  {
   "metadata": {},
   "cell_type": "markdown",
   "source": "Below we show the command that we use to run the mapping process for the first example graph of the SNV database. The command specifies the input CSV file, the mapping file, the Biocypher configuration file, and the Biocypher schema file. The `-a suffix` option is used to add a suffix to the generated nodes. Each suffix represents the ontological type of the node.",
   "id": "7aec22568e6ca86c"
  },
  {
   "metadata": {
    "ExecuteTime": {
     "end_time": "2025-06-25T16:20:25.074405Z",
     "start_time": "2025-06-25T16:20:23.401202Z"
    }
   },
   "cell_type": "code",
   "source": "! ontoweave DATABASE:./jobim/1_Simple_mapping/snv_1.yaml --biocypher-config ./jobim/1_Simple_mapping/biocypher_config.yaml --biocypher-schema ./jobim/1_Simple_mapping/biocypher_schema.yaml -a suffix",
   "id": "e6e83cfbd22b79ee",
   "outputs": [
    {
     "name": "stdout",
     "output_type": "stream",
     "text": [
      "INFO -- This is BioCypher v0.9.1.\r\n",
      "INFO -- Logging into `biocypher-log/biocypher-20250625-182023.log`.\r\n",
      "ERROR:root:File `DATABASE` not found.\r\n"
     ]
    }
   ],
   "execution_count": 31
  },
  {
   "metadata": {},
   "cell_type": "markdown",
   "source": "## 2. Adding properties",
   "id": "8990f4865b7f86f3"
  },
  {
   "metadata": {},
   "cell_type": "markdown",
   "source": [
    "It is often useful to attach additional metadata to the nodes and edges in the graph. This metadata can include information such as the source of the data, the date of creation, or any other relevant information that can help in understanding the context of the data. This metadata is attached via the usage of properties.\n",
    "\n",
    "Let's look at an extended version of the database we used in the previous section. Imagine that we have an additional column called `mutationEffectDescription`, which contains a description of the effect of a given alteration. We can use this column to add a property to the `alteration` nodes in the graph. The property will be created by using the `map` transformer, which will extract the data from the `mutationEffectDescription` column and attach it to the `alteration` nodes. We achieve this by adding a `to_property` keyword to the mapping file, which specifies the name of the property to be created, as well as the `for_objects` keyword, which specifies the type of node or edge to which the property will be attached. In this case, we want to attach the property to the `alteration` nodes."
   ],
   "id": "6ee827d8183fc00d"
  },
  {
   "metadata": {
    "ExecuteTime": {
     "end_time": "2025-06-25T16:20:27.738362Z",
     "start_time": "2025-06-25T16:20:27.733716Z"
    }
   },
   "cell_type": "code",
   "source": [
    "# Read the file content.\n",
    "with open(\"jobim/2_Properties/snv.yaml\", \"r\") as file:\n",
    "    content = yaml.safe_load(file)\n",
    "\n",
    "# Display the content.\n",
    "display(JSON(content))"
   ],
   "id": "e5d06d515882655b",
   "outputs": [
    {
     "data": {
      "text/plain": [
       "<IPython.core.display.JSON object>"
      ],
      "application/json": {
       "row": {
        "map": {
         "columns": [
          "patient_id"
         ],
         "to_subject": "patient"
        }
       },
       "transformers": [
        {
         "map": {
          "columns": [
           "sample_id"
          ],
          "to_object": "sample",
          "via_relation": "patient_carries_sample"
         }
        },
        {
         "map": {
          "columns": [
           "alteration"
          ],
          "from_subject": "sample",
          "to_object": "alteration",
          "via_relation": "sample_carries_alteration"
         }
        },
        {
         "map": {
          "columns": [
           "hugoSymbol"
          ],
          "from_subject": "alteration",
          "to_object": "gene",
          "via_relation": "alteration_affects_gene"
         }
        },
        {
         "map": {
          "columns": [
           "mutationEffectDescription"
          ],
          "to_property": [
           "mutation_effect_description"
          ],
          "for_objects": [
           "alteration"
          ]
         }
        }
       ]
      }
     },
     "metadata": {
      "application/json": {
       "expanded": false,
       "root": "root"
      }
     },
     "output_type": "display_data"
    }
   ],
   "execution_count": 32
  },
  {
   "metadata": {},
   "cell_type": "markdown",
   "source": "In addition to defining the correct properties in the mapping file, we also need to define the properties in the BioCypher schema. The schema defines the properties that can be attached to the nodes and edges in the graph, as well as their data types. In this case, we want to add a property called `mutationEffectDescription` to the `alteration` nodes, which will be of type `string`. We achieve this by adding a `properties` section to the schema file, which specifies the name of the property and its data type.",
   "id": "21fff135c20514c0"
  },
  {
   "metadata": {
    "ExecuteTime": {
     "end_time": "2025-06-25T16:20:29.941809Z",
     "start_time": "2025-06-25T16:20:29.932946Z"
    }
   },
   "cell_type": "code",
   "source": [
    "# Read the file content.\n",
    "with open(\"jobim/2_Properties/biocypher_schema.yaml\", \"r\") as file:\n",
    "    content = yaml.safe_load(file)\n",
    "\n",
    "# Display the content.\n",
    "display(JSON(content))"
   ],
   "id": "19d2f17b117b26d8",
   "outputs": [
    {
     "data": {
      "text/plain": [
       "<IPython.core.display.JSON object>"
      ],
      "application/json": {
       "alteration": {
        "is_a": "sequence variant",
        "represented_as": "node",
        "label_in_input": "alteration",
        "properties": {
         "mutation_effect_description": "str"
        }
       },
       "disease": {
        "represented_as": "node",
        "label_in_input": "disease"
       },
       "drug": {
        "represented_as": "node",
        "label_in_input": "drug"
       },
       "gene": {
        "represented_as": "node",
        "label_in_input": "gene"
       },
       "patient": {
        "represented_as": "node",
        "label_in_input": "patient",
        "synonym_for": "case"
       },
       "sample": {
        "is_a": "material sample",
        "respresented_as": "node",
        "label_in_input": "sample"
       },
       "carries": {
        "is_a": "causes",
        "represented_as": "edge",
        "label_in_input": "carries"
       },
       "patient carries sample": {
        "is_a": "carries",
        "represented_as": "edge",
        "label_in_input": "patient_carries_sample",
        "source": "patient",
        "target": "sample"
       },
       "sample carries alteration": {
        "is_a": "carries",
        "represented_as": "edge",
        "label_in_input": "sample_carries_alteration",
        "source": "sample",
        "target": "alteration"
       },
       "alteration causes functional outcome": {
        "is_a": "causes",
        "represented_as": "edg",
        "label_in_input": "alteration_causes_functional_outcome",
        "source": "alteration",
        "target": "functional outcome"
       },
       "alteration biomarker for drug": {
        "is_a": "biomarker for",
        "represented_as": "edge",
        "label_in_input": "alteration_biomarker_for_drug",
        "source": "alteration",
        "target": "drug"
       },
       "patient has treatment": {
        "is_a": "association",
        "represented_as": "edge",
        "label_in_input": "patient_has_treatment",
        "source": "patient",
        "target": "treatment"
       },
       "alteration affects gene": {
        "is_a": "affects",
        "represented_as": "edge",
        "label_in_input": "alteration_affects_gene",
        "source": "alteration",
        "target": "gene"
       }
      }
     },
     "metadata": {
      "application/json": {
       "expanded": false,
       "root": "root"
      }
     },
     "output_type": "display_data"
    }
   ],
   "execution_count": 33
  },
  {
   "metadata": {},
   "cell_type": "markdown",
   "source": "## 3. Multiple databases and additional transformers\n",
   "id": "8365849ce0b7bdaf"
  },
  {
   "metadata": {},
   "cell_type": "markdown",
   "source": [
    "Very often you might be in a situation where the information you wish to integrate is spread across several databases. In this case, you can use OntoWeaver to map multiple databases into a single graph. This is done by defining multiple mapping files, each corresponding to a different database, and then running the OntoWeaver CLI for all the adapters together.\n",
    "\n",
    "In this example we will be using the same database as in the previous sections, containing SNVs, but we will expand our graph schema to include actionable drugs for the identified alterations. We will use the OncoKB database, which contains information about actionable drugs for alterations in cancer.\n",
    "\n",
    "Below we show the mapping file for the OncoKB database."
   ],
   "id": "9a911cfe9695b879"
  },
  {
   "metadata": {
    "ExecuteTime": {
     "end_time": "2025-06-25T16:20:32.747705Z",
     "start_time": "2025-06-25T16:20:32.742219Z"
    }
   },
   "cell_type": "code",
   "source": [
    "# Read the file content.\n",
    "with open(\"jobim/3_Multiple_databases/oncokb.yaml\", \"r\") as file:\n",
    "    content = yaml.safe_load(file)\n",
    "\n",
    "# Display the content.\n",
    "display(JSON(content))"
   ],
   "id": "e2a754996458c82d",
   "outputs": [
    {
     "data": {
      "text/plain": [
       "<IPython.core.display.JSON object>"
      ],
      "application/json": {
       "row": {
        "map": {
         "columns": [
          "alteration"
         ],
         "to_subject": "alteration"
        }
       },
       "transformers": [
        {
         "replace": {
          "columns": [
           "treatment"
          ],
          "to_object": "drug",
          "via_relation": "alteration_biomarker_for_drug",
          "substitute": "_"
         }
        }
       ]
      }
     },
     "metadata": {
      "application/json": {
       "expanded": false,
       "root": "root"
      }
     },
     "output_type": "display_data"
    }
   ],
   "execution_count": 34
  },
  {
   "metadata": {},
   "cell_type": "markdown",
   "source": "In this mapping file, we define the subject node as the `alteration` node, which is created from the `alteration` column, similarly as in the SNV example. We then define the `drug` node, which is created from the `treatment` column. Here we have our first example of a more complex transformer - `replace`, which replaces all the special characters (TODO MENTION SPECIAL CHARACTERS PRESENT IN THE DATA) with an underscore, defined via the `substitute` keyword, specific for the transformer, so that the node ID is valid. We then define the edge of type `alteration_biomarker_for_drug` between the `alteration` and `drug` nodes.",
   "id": "4437f973b074c63e"
  }
 ],
 "metadata": {
  "kernelspec": {
   "display_name": "decider-genetics-fwdvB9mx-py3.12",
   "language": "python",
   "name": "python3"
  },
  "language_info": {
   "codemirror_mode": {
    "name": "ipython",
    "version": 3
   },
   "file_extension": ".py",
   "mimetype": "text/x-python",
   "name": "python",
   "nbconvert_exporter": "python",
   "pygments_lexer": "ipython3",
   "version": "3.12.8"
  }
 },
 "nbformat": 4,
 "nbformat_minor": 5
}
